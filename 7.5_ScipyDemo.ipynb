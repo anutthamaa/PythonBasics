{
 "cells": [
  {
   "cell_type": "code",
   "execution_count": 2,
   "id": "627a7e11-df4a-439b-b0d2-0dd0adcfe683",
   "metadata": {},
   "outputs": [],
   "source": [
    "#import libraries\n",
    "import numpy as np\n",
    "from scipy import linalg"
   ]
  },
  {
   "cell_type": "code",
   "execution_count": 3,
   "id": "1dc4e33c-5228-41bb-8b88-454a7489a95b",
   "metadata": {},
   "outputs": [],
   "source": [
    "#Test has 30 questions worth 150 marks\n",
    "#True and false questions worth 4 marks\n",
    "#Multiple choice questions worth 9 marks\n",
    "\n",
    "#let x is the no.of true/false questions\n",
    "#let y be the no.of multiple choice questions\n",
    "\n",
    "#x+y=30\n",
    "#4x+9y=150\n",
    "\n",
    "testQuestionVariable=([[1,1],[4,9]])\n",
    "testQuestionValues=([30,150])\n"
   ]
  },
  {
   "cell_type": "code",
   "execution_count": 4,
   "id": "7b296c94-9fe8-4570-bb3f-396aafd7e436",
   "metadata": {},
   "outputs": [
    {
     "data": {
      "text/plain": [
       "array([24.,  6.])"
      ]
     },
     "execution_count": 4,
     "metadata": {},
     "output_type": "execute_result"
    }
   ],
   "source": [
    "#solves the linear equation to find the value of x and y\n",
    "linalg.solve(testQuestionVariable,testQuestionValues)"
   ]
  },
  {
   "cell_type": "code",
   "execution_count": null,
   "id": "ea26ab6c-03a4-486a-ae47-341d048aced0",
   "metadata": {},
   "outputs": [],
   "source": []
  }
 ],
 "metadata": {
  "kernelspec": {
   "display_name": "Python 3 (ipykernel)",
   "language": "python",
   "name": "python3"
  },
  "language_info": {
   "codemirror_mode": {
    "name": "ipython",
    "version": 3
   },
   "file_extension": ".py",
   "mimetype": "text/x-python",
   "name": "python",
   "nbconvert_exporter": "python",
   "pygments_lexer": "ipython3",
   "version": "3.9.12"
  }
 },
 "nbformat": 4,
 "nbformat_minor": 5
}
