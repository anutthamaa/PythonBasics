{
 "cells": [
  {
   "cell_type": "code",
   "execution_count": 36,
   "id": "bd2c4d56",
   "metadata": {},
   "outputs": [
    {
     "name": "stdout",
     "output_type": "stream",
     "text": [
      "{'anu', 'nasa', 'rishi', 'vikashni', 'akshaya', 'gokul', 'rani'}\n"
     ]
    }
   ],
   "source": [
    "#creating a set\n",
    "set1={\"anu\",\"gokul\",\"vikashni\",\"anu\",\"nasa\",\"gokul\",\"rani\",\"akshaya\",\"rishi\"}\n",
    "print(set1)"
   ]
  },
  {
   "cell_type": "code",
   "execution_count": 2,
   "id": "dc877560",
   "metadata": {},
   "outputs": [
    {
     "name": "stdout",
     "output_type": "stream",
     "text": [
      "{'Michael Jackson', 'Pop, Rock, R&B', 65, '30-Nov-82', 'Thriller', 10.0, None, 46.0, '00:42:19', 1982}\n",
      "<class 'set'>\n"
     ]
    }
   ],
   "source": [
    "# Convert list to set\n",
    "\n",
    "album_list = [ \"Michael Jackson\", \"Thriller\", 1982, \"00:42:19\", \\\n",
    "              \"Pop, Rock, R&B\", 46.0, 65, \"30-Nov-82\", None, 10.0]\n",
    "album_set=set(album_list)\n",
    "print(album_set)\n",
    "print(type(album_set))"
   ]
  },
  {
   "cell_type": "code",
   "execution_count": 5,
   "id": "35c7c161",
   "metadata": {},
   "outputs": [
    {
     "data": {
      "text/plain": [
       "{1990, 32, 'Anu', 'Female'}"
      ]
     },
     "execution_count": 5,
     "metadata": {},
     "output_type": "execute_result"
    }
   ],
   "source": [
    "#implements add method\n",
    "A=set([\"Anu\",32,1990])\n",
    "A.add(\"Female\")\n",
    "A"
   ]
  },
  {
   "cell_type": "code",
   "execution_count": 6,
   "id": "39e7a142",
   "metadata": {},
   "outputs": [
    {
     "data": {
      "text/plain": [
       "{1990, 32, 'Anu', 'Female'}"
      ]
     },
     "execution_count": 6,
     "metadata": {},
     "output_type": "execute_result"
    }
   ],
   "source": [
    "#trying to add duplicates to the set\n",
    "A.add('Anu')\n",
    "A"
   ]
  },
  {
   "cell_type": "code",
   "execution_count": 7,
   "id": "eeb6271e",
   "metadata": {},
   "outputs": [
    {
     "data": {
      "text/plain": [
       "{1990, 32, 'Anu'}"
      ]
     },
     "execution_count": 7,
     "metadata": {},
     "output_type": "execute_result"
    }
   ],
   "source": [
    "#implementing remove method\n",
    "A.remove('Female')\n",
    "A"
   ]
  },
  {
   "cell_type": "code",
   "execution_count": 8,
   "id": "e115ecc5",
   "metadata": {},
   "outputs": [
    {
     "data": {
      "text/plain": [
       "True"
      ]
     },
     "execution_count": 8,
     "metadata": {},
     "output_type": "execute_result"
    }
   ],
   "source": [
    "#verify the element present in the set using in func\n",
    "1990 in A"
   ]
  },
  {
   "cell_type": "code",
   "execution_count": 4,
   "id": "15829b43",
   "metadata": {},
   "outputs": [
    {
     "data": {
      "text/plain": [
       "({1990, 32, 'Anu', 'Female'}, {1990, 21, 'Anu', 'May'})"
      ]
     },
     "execution_count": 4,
     "metadata": {},
     "output_type": "execute_result"
    }
   ],
   "source": [
    "sampleSet1={\"Anu\",32,1990,\"Female\"}\n",
    "sampleSet2={\"Anu\",21,\"May\",1990}\n",
    "sampleSet1, sampleSet2"
   ]
  },
  {
   "cell_type": "code",
   "execution_count": 11,
   "id": "0547e486",
   "metadata": {},
   "outputs": [
    {
     "data": {
      "text/plain": [
       "{1990, 'Anu'}"
      ]
     },
     "execution_count": 11,
     "metadata": {},
     "output_type": "execute_result"
    }
   ],
   "source": [
    "#Find the intersections\n",
    "intersection=sampleSet1&sampleSet2\n",
    "intersection"
   ]
  },
  {
   "cell_type": "code",
   "execution_count": 14,
   "id": "fb9cc749",
   "metadata": {},
   "outputs": [
    {
     "name": "stdout",
     "output_type": "stream",
     "text": [
      "{32, 'Female'}\n",
      "{'May', 21}\n"
     ]
    }
   ],
   "source": [
    "difference1=sampleSet1.difference(sampleSet2)\n",
    "print(difference1) #prints elements in sampleSet1 but not available in sampleSet2\n",
    "difference2=sampleSet2.difference(sampleSet1)\n",
    "print(difference2) #prints elements in sampleSet2 but not available in sampleSet1"
   ]
  },
  {
   "cell_type": "code",
   "execution_count": 15,
   "id": "b913d881",
   "metadata": {},
   "outputs": [
    {
     "data": {
      "text/plain": [
       "{1990, 'Anu'}"
      ]
     },
     "execution_count": 15,
     "metadata": {},
     "output_type": "execute_result"
    }
   ],
   "source": [
    "#to find intersection of sampleSet1 and sampleSet2\n",
    "sampleSet1.intersection(sampleSet2)"
   ]
  },
  {
   "cell_type": "code",
   "execution_count": 16,
   "id": "20c4e894",
   "metadata": {},
   "outputs": [
    {
     "data": {
      "text/plain": [
       "{1990, 21, 32, 'Anu', 'Female', 'May'}"
      ]
     },
     "execution_count": 16,
     "metadata": {},
     "output_type": "execute_result"
    }
   ],
   "source": [
    "#prints union of two sets and removes the duplicates\n",
    "sampleSet1.union(sampleSet2)"
   ]
  },
  {
   "cell_type": "code",
   "execution_count": 22,
   "id": "c1fa3713",
   "metadata": {},
   "outputs": [
    {
     "data": {
      "text/plain": [
       "True"
      ]
     },
     "execution_count": 22,
     "metadata": {},
     "output_type": "execute_result"
    }
   ],
   "source": [
    "#checks if the given elements present in sampleset1\n",
    "set({\"Female\",32}).issubset(sampleSet1)"
   ]
  },
  {
   "cell_type": "code",
   "execution_count": 6,
   "id": "618986a7",
   "metadata": {},
   "outputs": [
    {
     "name": "stdout",
     "output_type": "stream",
     "text": [
      "False\n",
      "True\n"
     ]
    }
   ],
   "source": [
    "#implements the issuperset func\n",
    "print(sampleSet1.issuperset({\"Male\",32}))\n",
    "print(sampleSet1.issuperset({\"Female\",32}))"
   ]
  },
  {
   "cell_type": "code",
   "execution_count": 19,
   "id": "31fd0a41",
   "metadata": {},
   "outputs": [
    {
     "data": {
      "text/plain": [
       "False"
      ]
     },
     "execution_count": 19,
     "metadata": {},
     "output_type": "execute_result"
    }
   ],
   "source": [
    "#checks if sampleset1 is a subset of sampleset2\n",
    "set(sampleSet1).issubset(sampleSet2)"
   ]
  },
  {
   "cell_type": "code",
   "execution_count": 24,
   "id": "dc0ce7a0",
   "metadata": {},
   "outputs": [
    {
     "data": {
      "text/plain": [
       "{'electronic music', 'house', 'rap'}"
      ]
     },
     "execution_count": 24,
     "metadata": {},
     "output_type": "execute_result"
    }
   ],
   "source": [
    "#type casting a list to set\n",
    "list=['rap','house','electronic music', 'rap'] \n",
    "s1=set(list)\n",
    "s1"
   ]
  },
  {
   "cell_type": "code",
   "execution_count": 27,
   "id": "8cba2d5a",
   "metadata": {},
   "outputs": [
    {
     "name": "stdout",
     "output_type": "stream",
     "text": [
      "Sum of A is: 6\n",
      "Sum of B is: 3\n"
     ]
    }
   ],
   "source": [
    "#printing the sum of numbers in list and set datatypes\n",
    "A = [1, 2, 2, 1] \n",
    "B = set([1, 2, 2, 1])\n",
    "print(\"Sum of A is:\", sum(A))\n",
    "print(\"Sum of B is:\", sum(B))"
   ]
  },
  {
   "cell_type": "code",
   "execution_count": 29,
   "id": "a761de50",
   "metadata": {},
   "outputs": [
    {
     "data": {
      "text/plain": [
       "{'AC/DC', 'Back in Black', 'The Dark Side of the Moon', 'Thriller'}"
      ]
     },
     "execution_count": 29,
     "metadata": {},
     "output_type": "execute_result"
    }
   ],
   "source": [
    "album_set1 = set([\"Thriller\", 'AC/DC', 'Back in Black'])\n",
    "album_set2 = set([ \"AC/DC\", \"Back in Black\", \"The Dark Side of the Moon\"])\n",
    "album_set3=album_set1.union(album_set2)\n",
    "album_set3"
   ]
  },
  {
   "cell_type": "code",
   "execution_count": 30,
   "id": "f4ba3813",
   "metadata": {},
   "outputs": [
    {
     "data": {
      "text/plain": [
       "True"
      ]
     },
     "execution_count": 30,
     "metadata": {},
     "output_type": "execute_result"
    }
   ],
   "source": [
    "album_set1.issubset(album_set3)"
   ]
  },
  {
   "cell_type": "code",
   "execution_count": null,
   "id": "6ceb24ea",
   "metadata": {},
   "outputs": [],
   "source": []
  }
 ],
 "metadata": {
  "kernelspec": {
   "display_name": "Python 3 (ipykernel)",
   "language": "python",
   "name": "python3"
  },
  "language_info": {
   "codemirror_mode": {
    "name": "ipython",
    "version": 3
   },
   "file_extension": ".py",
   "mimetype": "text/x-python",
   "name": "python",
   "nbconvert_exporter": "python",
   "pygments_lexer": "ipython3",
   "version": "3.9.12"
  }
 },
 "nbformat": 4,
 "nbformat_minor": 5
}
