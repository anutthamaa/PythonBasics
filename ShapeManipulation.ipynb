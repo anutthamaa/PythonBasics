{
 "cells": [
  {
   "cell_type": "code",
   "execution_count": 1,
   "id": "4c7a87f7-8a5a-4d54-969b-636124b74466",
   "metadata": {},
   "outputs": [],
   "source": [
    "import numpy as np"
   ]
  },
  {
   "cell_type": "code",
   "execution_count": 18,
   "id": "76af0151-6523-40e6-8ea8-a279c9cf0849",
   "metadata": {},
   "outputs": [],
   "source": [
    "new_nparray=np.array([[1,2,3,4,5,6],[6,7,8,9,10,11]])"
   ]
  },
  {
   "cell_type": "code",
   "execution_count": 19,
   "id": "e8a6be4d-cba9-4949-90ee-6423a6fc8e2e",
   "metadata": {},
   "outputs": [
    {
     "data": {
      "text/plain": [
       "array([ 1,  2,  3,  4,  5,  6,  6,  7,  8,  9, 10, 11])"
      ]
     },
     "execution_count": 19,
     "metadata": {},
     "output_type": "execute_result"
    }
   ],
   "source": [
    "#flattens the dataset\n",
    "new_nparray.ravel()"
   ]
  },
  {
   "cell_type": "code",
   "execution_count": 21,
   "id": "0d50e168-76c3-4f09-ba00-992b515b6554",
   "metadata": {},
   "outputs": [
    {
     "data": {
      "text/plain": [
       "array([[ 1,  2,  3,  4],\n",
       "       [ 5,  6,  6,  7],\n",
       "       [ 8,  9, 10, 11]])"
      ]
     },
     "execution_count": 21,
     "metadata": {},
     "output_type": "execute_result"
    }
   ],
   "source": [
    "#reshapes the dataset to 3 rows 4 columns\n",
    "new_nparray.reshape(3,4)"
   ]
  },
  {
   "cell_type": "code",
   "execution_count": 24,
   "id": "bfdf4b98-44e7-4bff-a6ac-7df06e6e6bd5",
   "metadata": {},
   "outputs": [
    {
     "data": {
      "text/plain": [
       "array([[ 1,  2,  3,  4,  5,  6],\n",
       "       [ 6,  7,  8,  9, 10, 11]])"
      ]
     },
     "execution_count": 24,
     "metadata": {},
     "output_type": "execute_result"
    }
   ],
   "source": [
    "#resizes again to 2 rows 6 columns\n",
    "new_nparray.resize(2,6)\n",
    "new_nparray"
   ]
  },
  {
   "cell_type": "code",
   "execution_count": 26,
   "id": "143196ca-b6f6-435b-ac0f-0b0d56c5698f",
   "metadata": {},
   "outputs": [
    {
     "data": {
      "text/plain": [
       "[array([[1, 2, 3],\n",
       "        [6, 7, 8]]),\n",
       " array([[ 4,  5,  6],\n",
       "        [ 9, 10, 11]])]"
      ]
     },
     "execution_count": 26,
     "metadata": {},
     "output_type": "execute_result"
    }
   ],
   "source": [
    "#splits the array into 2\n",
    "np.hsplit(new_nparray,2)"
   ]
  },
  {
   "cell_type": "code",
   "execution_count": 27,
   "id": "73663544-7ed0-4524-8759-872349ddcc0e",
   "metadata": {},
   "outputs": [],
   "source": [
    "new_nparray1=np.array([1,2,3,4,5,6])\n",
    "new_nparray2=np.array([7,8,9,10,11,12])"
   ]
  },
  {
   "cell_type": "code",
   "execution_count": 29,
   "id": "2531d0c5-5385-4de6-a482-2b0bffaa776f",
   "metadata": {},
   "outputs": [
    {
     "data": {
      "text/plain": [
       "array([ 1,  2,  3,  4,  5,  6,  7,  8,  9, 10, 11, 12])"
      ]
     },
     "execution_count": 29,
     "metadata": {},
     "output_type": "execute_result"
    }
   ],
   "source": [
    "#stacks the arrays together\n",
    "np.hstack((new_nparray1,new_nparray2))"
   ]
  },
  {
   "cell_type": "code",
   "execution_count": null,
   "id": "a1074d96-70bd-4657-9211-de796eef8e09",
   "metadata": {},
   "outputs": [],
   "source": []
  }
 ],
 "metadata": {
  "kernelspec": {
   "display_name": "Python 3 (ipykernel)",
   "language": "python",
   "name": "python3"
  },
  "language_info": {
   "codemirror_mode": {
    "name": "ipython",
    "version": 3
   },
   "file_extension": ".py",
   "mimetype": "text/x-python",
   "name": "python",
   "nbconvert_exporter": "python",
   "pygments_lexer": "ipython3",
   "version": "3.9.12"
  }
 },
 "nbformat": 4,
 "nbformat_minor": 5
}
