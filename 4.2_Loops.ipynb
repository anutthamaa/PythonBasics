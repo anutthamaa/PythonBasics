{
 "cells": [
  {
   "cell_type": "code",
   "execution_count": 17,
   "id": "d89e27ac",
   "metadata": {},
   "outputs": [
    {
     "name": "stdout",
     "output_type": "stream",
     "text": [
      "rock\n",
      "R&B\n",
      "Soundtrack\n",
      "R&B\n",
      "soul\n",
      "pop\n"
     ]
    }
   ],
   "source": [
    "#prints the element in the list\n",
    "Genres=[ 'rock', 'R&B', 'Soundtrack', 'R&B', 'soul', 'pop']\n",
    "for genre in Genres:\n",
    "    print(genre)"
   ]
  },
  {
   "cell_type": "code",
   "execution_count": 2,
   "id": "bfefa7d4",
   "metadata": {},
   "outputs": [
    {
     "name": "stdout",
     "output_type": "stream",
     "text": [
      "10\n",
      "9.5\n",
      "10\n",
      "8\n",
      "7.5\n"
     ]
    }
   ],
   "source": [
    "PlayListRatings = [10, 9.5, 10, 8, 7.5, 5, 10, 10]\n",
    "\n",
    "i=0\n",
    "while PlayListRatings[i]>=6:\n",
    "    print(PlayListRatings[i])\n",
    "    i=i+1"
   ]
  },
  {
   "cell_type": "code",
   "execution_count": 9,
   "id": "794999e6",
   "metadata": {},
   "outputs": [
    {
     "name": "stdout",
     "output_type": "stream",
     "text": [
      "['orange', 'orange']\n"
     ]
    }
   ],
   "source": [
    "colors = ['orange', 'orange', 'purple', 'blue ', 'orange']\n",
    "new_colors=[]\n",
    "i=0\n",
    "while colors[i]=='orange':\n",
    "    new_colors.append(colors[i])\n",
    "    i=i+1\n",
    "print(new_colors)"
   ]
  },
  {
   "cell_type": "code",
   "execution_count": 10,
   "id": "4260ea70",
   "metadata": {},
   "outputs": [
    {
     "name": "stdout",
     "output_type": "stream",
     "text": [
      "1990\n",
      "1991\n",
      "1992\n",
      "0\n",
      "1\n",
      "2\n",
      "3\n",
      "4\n",
      "5\n",
      "6\n"
     ]
    }
   ],
   "source": [
    "#for loop example\n",
    "\n",
    "dates=[1990,1991,1992]\n",
    "n=len(dates)\n",
    "\n",
    "for i in range(n):\n",
    "    print(dates[i])\n",
    "\n",
    "for i in range(0,7):\n",
    "    print (i)"
   ]
  },
  {
   "cell_type": "code",
   "execution_count": 11,
   "id": "446aaeae",
   "metadata": {},
   "outputs": [
    {
     "name": "stdout",
     "output_type": "stream",
     "text": [
      "1990\n",
      "1991\n",
      "1992\n"
     ]
    }
   ],
   "source": [
    "#loop through list for loop\n",
    "for year in dates:\n",
    "    print (year)"
   ]
  },
  {
   "cell_type": "code",
   "execution_count": 12,
   "id": "8de2f6a9",
   "metadata": {},
   "outputs": [
    {
     "name": "stdout",
     "output_type": "stream",
     "text": [
      "Before changing: red\n",
      "After changing: Modifiedred\n",
      "Before changing: yellow\n",
      "After changing: Modifiedyellow\n",
      "Before changing: green\n",
      "After changing: Modifiedgreen\n",
      "Before changing: blue\n",
      "After changing: Modifiedblue\n",
      "Before changing: pink\n",
      "After changing: Modifiedpink\n"
     ]
    }
   ],
   "source": [
    "#modifying values in the list using for loop\n",
    "colors=['red','yellow','green','blue','pink']\n",
    "\n",
    "for color in colors:\n",
    "    print(\"Before changing:\",color)\n",
    "    color=\"Modified\"+color\n",
    "    print(\"After changing:\",color)"
   ]
  },
  {
   "cell_type": "code",
   "execution_count": 13,
   "id": "103b3653",
   "metadata": {},
   "outputs": [
    {
     "name": "stdout",
     "output_type": "stream",
     "text": [
      "red\n",
      "yellow\n",
      "green\n",
      "blue\n",
      "pink\n"
     ]
    }
   ],
   "source": [
    "#for loop using range\n",
    "for i in range(0,5):\n",
    "    print(colors[i])"
   ]
  },
  {
   "cell_type": "code",
   "execution_count": 14,
   "id": "74806058",
   "metadata": {},
   "outputs": [
    {
     "name": "stdout",
     "output_type": "stream",
     "text": [
      "0 red\n",
      "1 yellow\n",
      "2 green\n",
      "3 purple\n",
      "4 blue\n"
     ]
    }
   ],
   "source": [
    "# Loop through the list and iterate on both index and element value\n",
    "\n",
    "colors=['red', 'yellow', 'green', 'purple', 'blue']\n",
    "\n",
    "for i, color in enumerate(colors):\n",
    "    print(i, color)"
   ]
  },
  {
   "cell_type": "code",
   "execution_count": 15,
   "id": "4511da87",
   "metadata": {},
   "outputs": [
    {
     "name": "stdout",
     "output_type": "stream",
     "text": [
      "red\n",
      "yellow\n",
      "green\n",
      "It took 3 iterations to get out of loop\n"
     ]
    }
   ],
   "source": [
    "\n",
    "#while loop example\n",
    "colors=['red', 'yellow', 'green', 'purple', 'blue']\n",
    "\n",
    "i=0\n",
    "while colors[i]!='purple':\n",
    "    print(colors[i])\n",
    "    i=i+1\n",
    "print(\"It took\",i,\"iterations to get out of loop\")"
   ]
  },
  {
   "cell_type": "code",
   "execution_count": 16,
   "id": "70d915b4",
   "metadata": {},
   "outputs": [
    {
     "name": "stdout",
     "output_type": "stream",
     "text": [
      "-5\n",
      "-4\n",
      "-3\n",
      "-2\n",
      "-1\n",
      "0\n",
      "1\n",
      "2\n",
      "3\n",
      "4\n"
     ]
    }
   ],
   "source": [
    "\n",
    "#for loop to print numbers between -5 and 5\n",
    "for i in range(-5,5):\n",
    "    print(i)"
   ]
  },
  {
   "cell_type": "code",
   "execution_count": null,
   "id": "ee19d199",
   "metadata": {},
   "outputs": [],
   "source": []
  }
 ],
 "metadata": {
  "kernelspec": {
   "display_name": "Python 3 (ipykernel)",
   "language": "python",
   "name": "python3"
  },
  "language_info": {
   "codemirror_mode": {
    "name": "ipython",
    "version": 3
   },
   "file_extension": ".py",
   "mimetype": "text/x-python",
   "name": "python",
   "nbconvert_exporter": "python",
   "pygments_lexer": "ipython3",
   "version": "3.9.12"
  }
 },
 "nbformat": 4,
 "nbformat_minor": 5
}
