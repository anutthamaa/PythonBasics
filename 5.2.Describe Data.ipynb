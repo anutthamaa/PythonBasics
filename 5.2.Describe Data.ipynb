{
 "cells": [
  {
   "cell_type": "code",
   "execution_count": 1,
   "metadata": {},
   "outputs": [],
   "source": [
    "import numpy as np\n",
    "import pandas as pd"
   ]
  },
  {
   "cell_type": "markdown",
   "metadata": {},
   "source": [
    "# Measures of Central Tendency"
   ]
  },
  {
   "cell_type": "code",
   "execution_count": 2,
   "metadata": {
    "collapsed": true,
    "jupyter": {
     "outputs_hidden": true
    },
    "tags": []
   },
   "outputs": [
    {
     "data": {
      "text/plain": [
       "0     212\n",
       "1     345\n",
       "2     290\n",
       "3     789\n",
       "4     113\n",
       "5     868\n",
       "6     995\n",
       "7     513\n",
       "8     252\n",
       "9     125\n",
       "10    212\n",
       "11    868\n",
       "dtype: int64"
      ]
     },
     "execution_count": 2,
     "metadata": {},
     "output_type": "execute_result"
    }
   ],
   "source": [
    "dal_wage = pd.Series([212,345,290,789,113,868,995,513,252,125,212,868])\n",
    "dal_wage"
   ]
  },
  {
   "cell_type": "code",
   "execution_count": 3,
   "metadata": {},
   "outputs": [
    {
     "data": {
      "text/plain": [
       "465.1666666666667"
      ]
     },
     "execution_count": 3,
     "metadata": {},
     "output_type": "execute_result"
    }
   ],
   "source": [
    "dal_wage.mean()"
   ]
  },
  {
   "cell_type": "code",
   "execution_count": 4,
   "metadata": {},
   "outputs": [
    {
     "data": {
      "text/plain": [
       "317.5"
      ]
     },
     "execution_count": 4,
     "metadata": {},
     "output_type": "execute_result"
    }
   ],
   "source": [
    "dal_wage.median()"
   ]
  },
  {
   "cell_type": "code",
   "execution_count": 5,
   "metadata": {},
   "outputs": [
    {
     "data": {
      "text/plain": [
       "0    212\n",
       "1    868\n",
       "dtype: int64"
      ]
     },
     "execution_count": 5,
     "metadata": {},
     "output_type": "execute_result"
    }
   ],
   "source": [
    "dal_wage.mode() # eg: bimodal data"
   ]
  },
  {
   "cell_type": "code",
   "execution_count": 6,
   "metadata": {},
   "outputs": [
    {
     "data": {
      "text/plain": [
       "212"
      ]
     },
     "execution_count": 6,
     "metadata": {},
     "output_type": "execute_result"
    }
   ],
   "source": [
    "dal_wage.mode()[0]"
   ]
  },
  {
   "cell_type": "code",
   "execution_count": 7,
   "metadata": {},
   "outputs": [
    {
     "data": {
      "text/plain": [
       "868"
      ]
     },
     "execution_count": 7,
     "metadata": {},
     "output_type": "execute_result"
    }
   ],
   "source": [
    "dal_wage.mode()[1]"
   ]
  },
  {
   "cell_type": "markdown",
   "metadata": {},
   "source": [
    "# Measures Of Non-central Tendency"
   ]
  },
  {
   "cell_type": "markdown",
   "metadata": {},
   "source": [
    "## Quartiles\n",
    "\n",
    "- 𝑄1- 25% of the observations are smaller than 𝑄1 and 75% of the observations are greater than 𝑄1\n",
    "- 𝑄2- 50% of the observations are smaller than 𝑄2 and 50% of the observations are greater than 𝑄2\n",
    "- 𝑄3- 75% of the observations are smaller than 𝑄3 and 25% of the observations are greater than 𝑄3"
   ]
  },
  {
   "cell_type": "code",
   "execution_count": 8,
   "metadata": {},
   "outputs": [],
   "source": [
    "dal_wage = pd.Series([212,345,290,789,113,868,995,513,252,125,212,868])"
   ]
  },
  {
   "cell_type": "code",
   "execution_count": 10,
   "metadata": {},
   "outputs": [
    {
     "data": {
      "text/plain": [
       "4     113\n",
       "9     125\n",
       "0     212\n",
       "10    212\n",
       "8     252\n",
       "2     290\n",
       "1     345\n",
       "7     513\n",
       "3     789\n",
       "5     868\n",
       "11    868\n",
       "6     995\n",
       "dtype: int64"
      ]
     },
     "execution_count": 10,
     "metadata": {},
     "output_type": "execute_result"
    }
   ],
   "source": [
    "dal_wage.sort_values()"
   ]
  },
  {
   "cell_type": "code",
   "execution_count": 12,
   "metadata": {},
   "outputs": [
    {
     "name": "stdout",
     "output_type": "stream",
     "text": [
      "Q1 ::  212.0\n",
      "Q2 ::  317.5\n",
      "Q3 ::  808.75\n"
     ]
    }
   ],
   "source": [
    "# 1st Quartile\n",
    "print ('Q1 :: ', dal_wage.quantile(0.25))\n",
    "\n",
    "# 2nd Quartile == Median\n",
    "print ('Q2 :: ', dal_wage.quantile(0.50))\n",
    "\n",
    "# 3rd Quartile\n",
    "print ('Q3 :: ', dal_wage.quantile(0.75))"
   ]
  },
  {
   "cell_type": "markdown",
   "metadata": {},
   "source": [
    "# Measures of Dispersion"
   ]
  },
  {
   "cell_type": "markdown",
   "metadata": {},
   "source": [
    "## Range"
   ]
  },
  {
   "cell_type": "code",
   "execution_count": 11,
   "metadata": {},
   "outputs": [
    {
     "data": {
      "text/plain": [
       "882"
      ]
     },
     "execution_count": 11,
     "metadata": {},
     "output_type": "execute_result"
    }
   ],
   "source": [
    "range1 = dal_wage.max() - dal_wage.min()\n",
    "range1"
   ]
  },
  {
   "cell_type": "markdown",
   "metadata": {},
   "source": [
    "## Inter Quartile Range"
   ]
  },
  {
   "cell_type": "code",
   "execution_count": 13,
   "metadata": {},
   "outputs": [
    {
     "data": {
      "text/plain": [
       "596.75"
      ]
     },
     "execution_count": 13,
     "metadata": {},
     "output_type": "execute_result"
    }
   ],
   "source": [
    "Q3 = dal_wage.quantile(0.75)\n",
    "Q1 = dal_wage.quantile(0.25)\n",
    "\n",
    "IQR = Q3 - Q1\n",
    "IQR"
   ]
  },
  {
   "cell_type": "markdown",
   "metadata": {},
   "source": [
    "## Variance and Standard Deviation"
   ]
  },
  {
   "cell_type": "code",
   "execution_count": 14,
   "metadata": {},
   "outputs": [
    {
     "data": {
      "text/plain": [
       "326.26170012690267"
      ]
     },
     "execution_count": 14,
     "metadata": {},
     "output_type": "execute_result"
    }
   ],
   "source": [
    "dal_wage.std()\n",
    "\n",
    "# It is probably the most used measure of dispersion\n",
    "# It measures the “average” deviation about the mean"
   ]
  },
  {
   "cell_type": "code",
   "execution_count": 16,
   "metadata": {},
   "outputs": [
    {
     "data": {
      "text/plain": [
       "106446.69696969696"
      ]
     },
     "execution_count": 16,
     "metadata": {},
     "output_type": "execute_result"
    }
   ],
   "source": [
    "dal_wage.var()\n",
    "\n",
    "# It is the square of standard deviation\n",
    "\n",
    "# Study these deviation, we will need to squaring"
   ]
  },
  {
   "cell_type": "code",
   "execution_count": 15,
   "metadata": {},
   "outputs": [
    {
     "data": {
      "text/plain": [
       "106446.69696969696"
      ]
     },
     "execution_count": 15,
     "metadata": {},
     "output_type": "execute_result"
    }
   ],
   "source": [
    "dal_wage.std() **2"
   ]
  },
  {
   "cell_type": "markdown",
   "metadata": {},
   "source": [
    "# Describe\n",
    "\n",
    "- The describe() method returns description of the data in the DataFrame.\n",
    "\n",
    "- If the DataFrame contains numerical data, the description contains these information for each column:\n",
    "\n",
    "    - count - The number of not-empty values\n",
    "    - mean - The average (mean) value\n",
    "    - std - The standard deviation\n",
    "    - min - the minimum value\n",
    "    - 25% - The 25% percentile\n",
    "    - 50% - The 50% percentile\n",
    "    - 75% - The 75% percentile\n",
    "    - max - the maximum value"
   ]
  },
  {
   "cell_type": "code",
   "execution_count": 17,
   "metadata": {},
   "outputs": [
    {
     "data": {
      "text/plain": [
       "count     12.000000\n",
       "mean     465.166667\n",
       "std      326.261700\n",
       "min      113.000000\n",
       "25%      212.000000\n",
       "50%      317.500000\n",
       "75%      808.750000\n",
       "max      995.000000\n",
       "dtype: float64"
      ]
     },
     "execution_count": 17,
     "metadata": {},
     "output_type": "execute_result"
    }
   ],
   "source": [
    "dal_wage.describe() # Quantitative/ Numerical/ Continuous"
   ]
  },
  {
   "cell_type": "code",
   "execution_count": null,
   "metadata": {},
   "outputs": [],
   "source": []
  }
 ],
 "metadata": {
  "kernelspec": {
   "display_name": "Python 3",
   "language": "python",
   "name": "python3"
  },
  "language_info": {
   "codemirror_mode": {
    "name": "ipython",
    "version": 3
   },
   "file_extension": ".py",
   "mimetype": "text/x-python",
   "name": "python",
   "nbconvert_exporter": "python",
   "pygments_lexer": "ipython3",
   "version": "3.7.6"
  }
 },
 "nbformat": 4,
 "nbformat_minor": 4
}
