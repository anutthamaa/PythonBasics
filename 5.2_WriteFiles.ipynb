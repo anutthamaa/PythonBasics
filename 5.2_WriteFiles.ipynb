{
 "cells": [
  {
   "cell_type": "code",
   "execution_count": 1,
   "id": "a3da7c89-55fc-4742-8752-7c36422daa47",
   "metadata": {},
   "outputs": [],
   "source": [
    "#global variable to declare file path\n",
    "global textFile\n",
    "textFile=\"c:/example2.txt\"\n",
    "global oldTextFile\n",
    "oldTextFile=\"c:/example1.txt\"\n",
    "#implememts write function\n",
    "with open(textFile,\"w\") as writeFile:\n",
    "    writeFile.write(\"This is line A\")"
   ]
  },
  {
   "cell_type": "code",
   "execution_count": 2,
   "id": "a8162148-ba7a-43f2-afb9-54b0ae8119ae",
   "metadata": {},
   "outputs": [
    {
     "name": "stdout",
     "output_type": "stream",
     "text": [
      "['This is line A']\n"
     ]
    }
   ],
   "source": [
    "#reads the newly modified file\n",
    "with open(textFile,\"r\") as readFile:\n",
    "    print(readFile.readlines())"
   ]
  },
  {
   "cell_type": "code",
   "execution_count": 3,
   "id": "7b9994c0-c96b-497e-af9c-674be352f3c4",
   "metadata": {},
   "outputs": [],
   "source": [
    "#writing new lines to the file\n",
    "with open(textFile,\"w\") as writeFile:\n",
    "    writeFile.write(\"This is line A\\n\")\n",
    "    writeFile.write(\"This is line B\\n\")\n",
    "    writeFile.write(\"This is line C\\n\")\n",
    "    writeFile.write(\"This is line D\\n\")"
   ]
  },
  {
   "cell_type": "code",
   "execution_count": 4,
   "id": "499c481d-eb95-4ac3-87fc-33d85d420b3f",
   "metadata": {},
   "outputs": [
    {
     "name": "stdout",
     "output_type": "stream",
     "text": [
      "['This is line A\\n', 'This is line B\\n', 'This is line C\\n', 'This is line D\\n']\n"
     ]
    }
   ],
   "source": [
    "#reads the newly modified file\n",
    "with open(textFile,\"r\") as readFile:\n",
    "    print(readFile.readlines())"
   ]
  },
  {
   "cell_type": "code",
   "execution_count": 5,
   "id": "8d5b4370-7399-4511-87be-dc402e1ff49d",
   "metadata": {},
   "outputs": [],
   "source": [
    "with open(textFile,\"a\") as writeFile:\n",
    "    writeFile.write(\"This is line E\\n\")"
   ]
  },
  {
   "cell_type": "code",
   "execution_count": 6,
   "id": "bf89e4fe-4c44-42a1-818d-4eb6d5bf23fa",
   "metadata": {},
   "outputs": [
    {
     "name": "stdout",
     "output_type": "stream",
     "text": [
      "This is line A\n",
      "This is line B\n",
      "This is line C\n",
      "This is line D\n",
      "This is line E\n",
      "\n"
     ]
    }
   ],
   "source": [
    "with open(textFile,\"r\") as readFile:\n",
    "    print(readFile.read())"
   ]
  },
  {
   "cell_type": "code",
   "execution_count": 7,
   "id": "a82a407c-030d-4dd4-89d0-77caf7f62a25",
   "metadata": {},
   "outputs": [
    {
     "name": "stdout",
     "output_type": "stream",
     "text": [
      "This is line a\n",
      "\n",
      "This is line b\n",
      "\n",
      "This is line c\n",
      "\n"
     ]
    }
   ],
   "source": [
    "#appending a list to the file\n",
    "Lines=[\"This is line a\\n\",\"This is line b\\n\",\"This is line c\\n\"]\n",
    "with open(textFile,'a') as writeNewLines:\n",
    "    for line in Lines:\n",
    "        print(line)\n",
    "        writeNewLines.write(line)"
   ]
  },
  {
   "cell_type": "code",
   "execution_count": 8,
   "id": "5d09d0c0-3c5e-4a40-9d50-2fb320e8bc7e",
   "metadata": {},
   "outputs": [
    {
     "name": "stdout",
     "output_type": "stream",
     "text": [
      "['This is line A\\n', 'This is line B\\n', 'This is line C\\n', 'This is line D\\n', 'This is line E\\n', 'This is line a\\n', 'This is line b\\n', 'This is line c\\n']\n"
     ]
    }
   ],
   "source": [
    "with open(textFile,'r') as readFile:\n",
    "    print(readFile.readlines())"
   ]
  },
  {
   "cell_type": "code",
   "execution_count": 9,
   "id": "57bb85e6-b5a1-4747-b21b-6b363d250173",
   "metadata": {},
   "outputs": [],
   "source": [
    "#copying the example2 to example1\n",
    "with open(textFile,'r') as readFile:\n",
    "    with open(oldTextFile,'a') as appendFile:\n",
    "        for line in readFile:\n",
    "            appendFile.write(line)"
   ]
  },
  {
   "cell_type": "code",
   "execution_count": 10,
   "id": "acb4daaa-d869-43b1-bf82-f67c7ad178e3",
   "metadata": {},
   "outputs": [
    {
     "name": "stdout",
     "output_type": "stream",
     "text": [
      "['This is line 1\\n', 'This is line 2\\n', 'This is line 3This is line AThis is line A\\n', 'This is line B\\n', 'This is line C\\n', 'This is line D\\n', 'This is line E\\n', 'This is line a\\n', 'This is line b\\n', 'This is line c\\n']\n"
     ]
    }
   ],
   "source": [
    "with open(oldTextFile,'r') as readFile:\n",
    "    print(readFile.readlines())"
   ]
  },
  {
   "cell_type": "code",
   "execution_count": null,
   "id": "61c82d87-ff33-4d1f-8e52-2775685b3d14",
   "metadata": {},
   "outputs": [],
   "source": []
  },
  {
   "cell_type": "code",
   "execution_count": null,
   "id": "938182a7-5e50-41b3-b4ac-e025b2f7b89a",
   "metadata": {},
   "outputs": [],
   "source": []
  }
 ],
 "metadata": {
  "kernelspec": {
   "display_name": "Python 3 (ipykernel)",
   "language": "python",
   "name": "python3"
  },
  "language_info": {
   "codemirror_mode": {
    "name": "ipython",
    "version": 3
   },
   "file_extension": ".py",
   "mimetype": "text/x-python",
   "name": "python",
   "nbconvert_exporter": "python",
   "pygments_lexer": "ipython3",
   "version": "3.9.12"
  }
 },
 "nbformat": 4,
 "nbformat_minor": 5
}
