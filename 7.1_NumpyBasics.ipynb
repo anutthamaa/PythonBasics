{
 "cells": [
  {
   "cell_type": "code",
   "execution_count": 1,
   "id": "21c73611-9942-41a6-8f25-3dc4b213dd0d",
   "metadata": {},
   "outputs": [],
   "source": [
    "#import nyumpy package\n",
    "import numpy as np"
   ]
  },
  {
   "cell_type": "code",
   "execution_count": 2,
   "id": "628f167d-8e6d-45ca-9adb-4efcafca4939",
   "metadata": {},
   "outputs": [
    {
     "data": {
      "text/plain": [
       "array([1, 2, 3, 4, 5])"
      ]
     },
     "execution_count": 2,
     "metadata": {},
     "output_type": "execute_result"
    }
   ],
   "source": [
    "#first numpy array\n",
    "First_Numpy_Array=np.array([1,2,3,4,5])\n",
    "First_Numpy_Array"
   ]
  },
  {
   "cell_type": "code",
   "execution_count": 4,
   "id": "e7bd7a05-d176-4dcd-b679-fc6b2f6a60c8",
   "metadata": {},
   "outputs": [
    {
     "data": {
      "text/plain": [
       "array([[0., 0., 0.],\n",
       "       [0., 0., 0.],\n",
       "       [0., 0., 0.]])"
      ]
     },
     "execution_count": 4,
     "metadata": {},
     "output_type": "execute_result"
    }
   ],
   "source": [
    "#creating zero numpy array\n",
    "Zero_Numpy_Array=np.zeros([3,3])\n",
    "Zero_Numpy_Array"
   ]
  },
  {
   "cell_type": "code",
   "execution_count": 5,
   "id": "ce21ecc8-13b9-43c3-87cb-75edd59abc7c",
   "metadata": {},
   "outputs": [
    {
     "data": {
      "text/plain": [
       "array([[1., 1., 1.],\n",
       "       [1., 1., 1.],\n",
       "       [1., 1., 1.]])"
      ]
     },
     "execution_count": 5,
     "metadata": {},
     "output_type": "execute_result"
    }
   ],
   "source": [
    "#creating ones numpy array\n",
    "Ones_Numpy_Array=np.ones([3,3])\n",
    "Ones_Numpy_Array"
   ]
  },
  {
   "cell_type": "code",
   "execution_count": 7,
   "id": "56e6a38a-c272-4ddd-9456-0cba2377df4e",
   "metadata": {},
   "outputs": [
    {
     "data": {
      "text/plain": [
       "array([[0.00000000e+000, 0.00000000e+000, 0.00000000e+000,\n",
       "        0.00000000e+000],\n",
       "       [0.00000000e+000, 7.70742408e-321, 7.08746594e-312,\n",
       "        7.08746594e-312]])"
      ]
     },
     "execution_count": 7,
     "metadata": {},
     "output_type": "execute_result"
    }
   ],
   "source": [
    "#creating empty array\n",
    "Empty_Numpy_Array=np.empty([2,4])\n",
    "Empty_Numpy_Array"
   ]
  },
  {
   "cell_type": "code",
   "execution_count": 9,
   "id": "5a7aff76-4531-4110-ab2a-b5256dbe8c32",
   "metadata": {},
   "outputs": [
    {
     "data": {
      "text/plain": [
       "array([ 0,  1,  2,  3,  4,  5,  6,  7,  8,  9, 10, 11])"
      ]
     },
     "execution_count": 9,
     "metadata": {},
     "output_type": "execute_result"
    }
   ],
   "source": [
    "#array with arange method\n",
    "array_arange=np.arange(12)\n",
    "array_arange"
   ]
  },
  {
   "cell_type": "code",
   "execution_count": 16,
   "id": "b67db0b2-ff89-4396-95a1-f36de6fd24a6",
   "metadata": {},
   "outputs": [
    {
     "data": {
      "text/plain": [
       "array([[ 0,  1,  2,  3],\n",
       "       [ 4,  5,  6,  7],\n",
       "       [ 8,  9, 10, 11]])"
      ]
     },
     "execution_count": 16,
     "metadata": {},
     "output_type": "execute_result"
    }
   ],
   "source": [
    "#reshape the array\n",
    "array_reshape=array_arange.reshape(3,4)\n",
    "array_reshape"
   ]
  },
  {
   "cell_type": "code",
   "execution_count": 17,
   "id": "62a6d2bd-9b36-4acf-bd9b-fc8b15979d07",
   "metadata": {},
   "outputs": [
    {
     "name": "stdout",
     "output_type": "stream",
     "text": [
      "[-2.  -1.2 -0.4  0.4  1.2  2. ]\n"
     ]
    }
   ],
   "source": [
    "#linspace for linearly(equally) spaced elements\n",
    "print(np.linspace(-2,2,6))"
   ]
  },
  {
   "cell_type": "code",
   "execution_count": 20,
   "id": "94829155-d218-4db8-a567-bfd128229716",
   "metadata": {},
   "outputs": [
    {
     "data": {
      "text/plain": [
       "array([ 0,  1,  2,  3,  4,  5,  6,  7,  8,  9, 10, 11, 12, 13, 14])"
      ]
     },
     "execution_count": 20,
     "metadata": {},
     "output_type": "execute_result"
    }
   ],
   "source": [
    "#1D array\n",
    "one_dimensional_array=np.arange(15)\n",
    "one_dimensional_array"
   ]
  },
  {
   "cell_type": "code",
   "execution_count": 21,
   "id": "0fa0dea0-2dc7-40ad-a2ae-03c6a60c8e59",
   "metadata": {},
   "outputs": [
    {
     "data": {
      "text/plain": [
       "array([[ 0,  1,  2,  3,  4],\n",
       "       [ 5,  6,  7,  8,  9],\n",
       "       [10, 11, 12, 13, 14]])"
      ]
     },
     "execution_count": 21,
     "metadata": {},
     "output_type": "execute_result"
    }
   ],
   "source": [
    "#2D array\n",
    "two_dimensional_array=one_dimensional_array.reshape(3,5)\n",
    "two_dimensional_array"
   ]
  },
  {
   "cell_type": "code",
   "execution_count": 22,
   "id": "40c8ad95-41af-495d-9996-158aba110ed7",
   "metadata": {},
   "outputs": [
    {
     "data": {
      "text/plain": [
       "array([[[ 0,  1,  2],\n",
       "        [ 3,  4,  5],\n",
       "        [ 6,  7,  8]],\n",
       "\n",
       "       [[ 9, 10, 11],\n",
       "        [12, 13, 14],\n",
       "        [15, 16, 17]],\n",
       "\n",
       "       [[18, 19, 20],\n",
       "        [21, 22, 23],\n",
       "        [24, 25, 26]]])"
      ]
     },
     "execution_count": 22,
     "metadata": {},
     "output_type": "execute_result"
    }
   ],
   "source": [
    "#3D array\n",
    "three_dimensional_array=np.arange(27).reshape(3,3,3)\n",
    "three_dimensional_array"
   ]
  },
  {
   "cell_type": "code",
   "execution_count": null,
   "id": "2286eea6-f41b-4b3b-80c9-54a1680b8f36",
   "metadata": {},
   "outputs": [],
   "source": []
  }
 ],
 "metadata": {
  "kernelspec": {
   "display_name": "Python 3 (ipykernel)",
   "language": "python",
   "name": "python3"
  },
  "language_info": {
   "codemirror_mode": {
    "name": "ipython",
    "version": 3
   },
   "file_extension": ".py",
   "mimetype": "text/x-python",
   "name": "python",
   "nbconvert_exporter": "python",
   "pygments_lexer": "ipython3",
   "version": "3.9.12"
  }
 },
 "nbformat": 4,
 "nbformat_minor": 5
}
