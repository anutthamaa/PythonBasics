{
 "cells": [
  {
   "cell_type": "markdown",
   "metadata": {},
   "source": [
    "# if, elif, else Statements\n",
    "\n",
    "<code>if</code> Statements in Python allows us to tell the computer to perform alternative actions based on a certain set of results.\n",
    "\n",
    "**Verbally, we can imagine we are telling the computer:**\n",
    "\n",
    "**\"Hey if this case happens, perform some action\"**\n",
    "\n",
    "We can then expand the idea further with <code>elif</code> and <code>else</code> statements, which allow us to tell the computer:\n",
    "\n",
    "**\"Hey if this case happens, perform some action. Else, if another case happens, perform some other action. Else, if *none* of the above cases happened, perform this action.\"**\n"
   ]
  },
  {
   "cell_type": "markdown",
   "metadata": {},
   "source": [
    "# if statement"
   ]
  },
  {
   "cell_type": "code",
   "execution_count": null,
   "metadata": {},
   "outputs": [],
   "source": [
    "# if statement --- You can pass only one condition\n",
    "\n",
    "temp = 50\n",
    "\n",
    "if temp > 30:   # True\n",
    "    # Indentation    \n",
    "    print ('High Temperature')"
   ]
  },
  {
   "cell_type": "raw",
   "metadata": {},
   "source": [
    "temp = 50\n",
    "\n",
    "if temp > 30   # True\n",
    "    # Indentation    \n",
    "    print ('High Temperature')"
   ]
  },
  {
   "cell_type": "raw",
   "metadata": {},
   "source": [
    "temp = 50\n",
    "\n",
    "if temp > 30\n",
    "print ('High Temperature')\n",
    "\n",
    "SyntaxError: invalid syntax"
   ]
  },
  {
   "cell_type": "raw",
   "metadata": {
    "jupyter": {
     "outputs_hidden": true
    },
    "tags": []
   },
   "source": [
    "temp = 50\n",
    "\n",
    "if temp > 30:\n",
    "print (\"High Temperature\")\n",
    "\n",
    "# IndentationError: expected an indented block"
   ]
  },
  {
   "cell_type": "raw",
   "metadata": {},
   "source": [
    "temp = 50\n",
    "\n",
    "if temp > 30=\n",
    "    print (\"High Temperature\")\n",
    "  \n",
    "# SyntaxError: invalid syntax"
   ]
  },
  {
   "cell_type": "raw",
   "metadata": {},
   "source": [
    "temp = 80\n",
    "\n",
    "if temp > 30:\n",
    "    print \"high temperature\"\n",
    "\n",
    "# SyntaxError: Missing parentheses in call to 'print'. Did you mean print(\"high temperature\")?"
   ]
  },
  {
   "cell_type": "code",
   "execution_count": null,
   "metadata": {},
   "outputs": [],
   "source": [
    "temp = 10\n",
    "\n",
    "if temp > 30:            # False\n",
    "    print ('High Temp')\n",
    "\n",
    "# there is no output since we have given no command in case the condition is not met"
   ]
  },
  {
   "cell_type": "markdown",
   "metadata": {},
   "source": [
    "# if...else"
   ]
  },
  {
   "cell_type": "code",
   "execution_count": null,
   "metadata": {},
   "outputs": [],
   "source": [
    "# if ..else statement---- You can have one true condition and one default condition\n",
    "\n",
    "temp = 20\n",
    "\n",
    "if temp > 30:           # False\n",
    "    print ('High Temp')\n",
    "else:\n",
    "    print ('Low Temp')"
   ]
  },
  {
   "cell_type": "markdown",
   "metadata": {},
   "source": [
    "## if...elif..else"
   ]
  },
  {
   "cell_type": "code",
   "execution_count": null,
   "metadata": {},
   "outputs": [],
   "source": [
    "x = 0\n",
    "\n",
    "if x < 0:                         # False\n",
    "    print ('x is not positive')\n",
    "elif x > 0:                       # False\n",
    "    print ('x is positive')\n",
    "else :\n",
    "    print (\"x is zero\")"
   ]
  },
  {
   "cell_type": "markdown",
   "metadata": {},
   "source": [
    "**if else - 1 condition is checked**\n",
    "\n",
    "**if elif else - multiple conditions are checked** \n",
    "\n",
    "When you have multiple true conditions and one default condition"
   ]
  },
  {
   "cell_type": "code",
   "execution_count": null,
   "metadata": {},
   "outputs": [],
   "source": [
    "marks = 85\n",
    "\n",
    "if marks > 90:\n",
    "    print ('A grade')\n",
    "elif marks >= 80 :\n",
    "    print ('B grade')\n",
    "elif marks >= 60 :\n",
    "    print ('C grade')\n",
    "else: \n",
    "    print ('fail')"
   ]
  },
  {
   "cell_type": "markdown",
   "metadata": {},
   "source": [
    "# InClass Assignment"
   ]
  },
  {
   "cell_type": "markdown",
   "metadata": {},
   "source": [
    "# 1.\n",
    "\n",
    "Write a program which takes a number from the user and checks if it is less than 10 :: User input"
   ]
  },
  {
   "cell_type": "code",
   "execution_count": null,
   "metadata": {},
   "outputs": [],
   "source": []
  },
  {
   "cell_type": "markdown",
   "metadata": {},
   "source": [
    "# 2.\n",
    "\n",
    "Write a Python program to convert temperatures to and from celsius, fahrenheit.\n",
    "\n",
    "    [ Formula : c/5 = f-32/9 [ where c = temperature in celsius and f = temperature in fahrenheit]\n",
    "\n",
    "    Expected Output :\n",
    "        60°C is 140 in Fahrenheit\n",
    "        45°F is 7 in Celsius"
   ]
  },
  {
   "cell_type": "code",
   "execution_count": null,
   "metadata": {},
   "outputs": [],
   "source": []
  },
  {
   "cell_type": "code",
   "execution_count": null,
   "metadata": {},
   "outputs": [],
   "source": []
  }
 ],
 "metadata": {
  "kernelspec": {
   "display_name": "Python 3 (ipykernel)",
   "language": "python",
   "name": "python3"
  },
  "language_info": {
   "codemirror_mode": {
    "name": "ipython",
    "version": 3
   },
   "file_extension": ".py",
   "mimetype": "text/x-python",
   "name": "python",
   "nbconvert_exporter": "python",
   "pygments_lexer": "ipython3",
   "version": "3.9.12"
  }
 },
 "nbformat": 4,
 "nbformat_minor": 4
}
