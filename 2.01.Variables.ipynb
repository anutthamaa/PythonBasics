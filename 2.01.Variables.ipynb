{
 "cells": [
  {
   "cell_type": "markdown",
   "metadata": {},
   "source": [
    "# Assignments"
   ]
  },
  {
   "cell_type": "code",
   "execution_count": null,
   "metadata": {},
   "outputs": [],
   "source": [
    "x = 3       # Assigning a value 3 to a variable x \n",
    "print (x)   # print () ===== print the value saved in x"
   ]
  },
  {
   "cell_type": "code",
   "execution_count": null,
   "metadata": {
    "tags": []
   },
   "outputs": [],
   "source": [
    "print x\n",
    "\n",
    "# SyntaxError: Missing parentheses in call to 'print'. Did you mean print(x)?"
   ]
  },
  {
   "cell_type": "code",
   "execution_count": null,
   "metadata": {},
   "outputs": [],
   "source": [
    "x = 5       # Assigning a value 3 to a variable x \n",
    "print (x)   # print () ===== print the value saved in x\n",
    "\n",
    "# always consider latest assignment"
   ]
  },
  {
   "cell_type": "markdown",
   "metadata": {},
   "source": [
    "# Naming Rules"
   ]
  },
  {
   "cell_type": "code",
   "execution_count": null,
   "metadata": {},
   "outputs": [],
   "source": [
    "credit_score = 98\n",
    "print(credit_score)"
   ]
  },
  {
   "cell_type": "code",
   "execution_count": null,
   "metadata": {
    "tags": []
   },
   "outputs": [],
   "source": [
    "credit.score = 89\n",
    "print (credit.score)"
   ]
  },
  {
   "cell_type": "code",
   "execution_count": null,
   "metadata": {},
   "outputs": [],
   "source": [
    "creditscore = 98\n",
    "print (creditscore)"
   ]
  },
  {
   "cell_type": "code",
   "execution_count": null,
   "metadata": {},
   "outputs": [],
   "source": [
    "creditscore89 = 98\n",
    "print (creditscore89)"
   ]
  },
  {
   "cell_type": "code",
   "execution_count": null,
   "metadata": {
    "tags": []
   },
   "outputs": [],
   "source": [
    "89creditscore = 98\n",
    "print (89creditscore)"
   ]
  },
  {
   "cell_type": "code",
   "execution_count": null,
   "metadata": {},
   "outputs": [],
   "source": [
    "credit score = 98\n",
    "print (credit score)"
   ]
  },
  {
   "cell_type": "code",
   "execution_count": null,
   "metadata": {},
   "outputs": [],
   "source": [
    "a = 10\n",
    "print (A)\n",
    "\n",
    "# NameError: name 'A' is not defined"
   ]
  },
  {
   "cell_type": "code",
   "execution_count": null,
   "metadata": {},
   "outputs": [],
   "source": [
    "_a = 10\n",
    "print (_a)"
   ]
  },
  {
   "cell_type": "markdown",
   "metadata": {},
   "source": [
    "***Rules for Python variables names:***\n",
    "\n",
    "- A variable name must start with a letter or the underscore character\n",
    "- A variable name cannot start with a number\n",
    "- A variable name can only contain alpha-numeric characters and underscores (A-z, 0-9, and _ )\n",
    "- Variable names are case-sensitive (age, Age, AGE, aGe, AgE etc are three different variables)\n",
    "- long names\n",
    "- Cannot have a space and period (.)"
   ]
  },
  {
   "cell_type": "markdown",
   "metadata": {},
   "source": [
    "# Type of Variables"
   ]
  },
  {
   "cell_type": "markdown",
   "metadata": {},
   "source": [
    "## Variables \n",
    "\n",
    "- Variables are containers for storing data values. A variable is created the moment you first assign a value to it."
   ]
  },
  {
   "cell_type": "raw",
   "metadata": {},
   "source": [
    "Data types built-in\n",
    "\n",
    "Text Type:      str\n",
    "Boolean Type:   bool\n",
    "Numeric Types:  int, float"
   ]
  },
  {
   "cell_type": "code",
   "execution_count": null,
   "metadata": {},
   "outputs": [],
   "source": [
    "# Integer\n",
    "\n",
    "x = 10\n",
    "print (x)\n",
    "\n",
    "type(x)"
   ]
  },
  {
   "cell_type": "code",
   "execution_count": null,
   "metadata": {},
   "outputs": [],
   "source": [
    "# Float\n",
    "\n",
    "y = 10.98\n",
    "print (y)\n",
    "\n",
    "type(y)"
   ]
  },
  {
   "cell_type": "code",
   "execution_count": null,
   "metadata": {},
   "outputs": [],
   "source": [
    "# String\n",
    "\n",
    "z = \"jupyter\" # character value will always be in qoutes - single or double\n",
    "print (z)\n",
    "\n",
    "type(z)"
   ]
  },
  {
   "cell_type": "code",
   "execution_count": null,
   "metadata": {},
   "outputs": [],
   "source": [
    "# String\n",
    "\n",
    "z = 'python' # character value will always be in qoutes - single or double\n",
    "print (z)\n",
    "\n",
    "type(z)"
   ]
  },
  {
   "cell_type": "code",
   "execution_count": null,
   "metadata": {},
   "outputs": [],
   "source": [
    "# Boolean\n",
    "\n",
    "b = True\n",
    "print (b)\n",
    "\n",
    "type(b)"
   ]
  },
  {
   "cell_type": "markdown",
   "metadata": {},
   "source": [
    "## Basic Data Types: String"
   ]
  },
  {
   "cell_type": "code",
   "execution_count": null,
   "metadata": {},
   "outputs": [],
   "source": [
    "print (\"Hello World\")\n",
    "print ('Welcome to Python')\n",
    "\n",
    "# qoutes can be double or single"
   ]
  },
  {
   "cell_type": "code",
   "execution_count": null,
   "metadata": {},
   "outputs": [],
   "source": [
    "# hello   world\n",
    "# o/p to be seperated by a tab = 8 spaces\n",
    "\n",
    "print (\"Hello World\")\n",
    "print ()                  # blank print\n",
    "print (\"Hello \\tWorld\")   # prints with a tab between hello and world\n",
    "\n",
    "# \\t\n",
    "# backslash \\ - above the enter "
   ]
  },
  {
   "cell_type": "code",
   "execution_count": null,
   "metadata": {},
   "outputs": [],
   "source": [
    "# hello   world\n",
    "# o/p to be seperated by a tab = 8 spaces\n",
    "\n",
    "print (\"Hello World\")\n",
    "print ()                  # blank print\n",
    "print (\"\\tHello World\")   # prints with a tab between hello and world\n",
    "\n",
    "# \\t\n",
    "# backslash \\ - above the enter "
   ]
  },
  {
   "cell_type": "code",
   "execution_count": null,
   "metadata": {},
   "outputs": [],
   "source": [
    "# hello\n",
    "# world\n",
    "\n",
    "print (\"Hello \\nWorld\")   # split hello and world in two lines\n",
    "\n",
    "# \\n - enter "
   ]
  },
  {
   "cell_type": "markdown",
   "metadata": {},
   "source": [
    "# InClass Practice"
   ]
  },
  {
   "cell_type": "markdown",
   "metadata": {},
   "source": [
    "## 1.\n",
    "\n",
    "Print the poem below in the provided format\n",
    "\n",
    "## hint :: You should work with \\n, \\t"
   ]
  },
  {
   "cell_type": "raw",
   "metadata": {},
   "source": [
    "Twinkle, twinkle, little star,\n",
    "    How I wonder what you are! \n",
    "        Up above the world so high,\n",
    "        Like a diamond in the sky. \n",
    "Twinkle, twinkle, little star, \n",
    "    How I wonder what you are!"
   ]
  },
  {
   "cell_type": "code",
   "execution_count": null,
   "metadata": {},
   "outputs": [],
   "source": [
    "print (\"Twinkle, twinkle, little star, How I wonder what you are! Up above the world so high, Like a diamond in the sky. Twinkle, twinkle, little star, How I wonder what you are!\")"
   ]
  },
  {
   "cell_type": "code",
   "execution_count": null,
   "metadata": {},
   "outputs": [],
   "source": [
    "print (\"Twinkle, twinkle, little star, \\n\\tHow I wonder what you are! \\n\\t\\tUp above the world so high, \\n\\t\\tLike a diamond in the sky. \\nTwinkle, twinkle, little star, \\n\\tHow I wonder what you are!\")"
   ]
  },
  {
   "cell_type": "code",
   "execution_count": null,
   "metadata": {},
   "outputs": [],
   "source": [
    "myage = 30           # int\n",
    "myeyes = \"green\"     # str"
   ]
  },
  {
   "cell_type": "code",
   "execution_count": null,
   "metadata": {
    "tags": []
   },
   "outputs": [],
   "source": [
    "myage + myeyes"
   ]
  },
  {
   "cell_type": "code",
   "execution_count": null,
   "metadata": {},
   "outputs": [],
   "source": [
    "print (myage)\n",
    "print (type(myage))\n",
    "print (str(myage))            # typecasting - converting an int to str\n",
    "print (type(str(myage)))"
   ]
  },
  {
   "cell_type": "code",
   "execution_count": null,
   "metadata": {},
   "outputs": [],
   "source": [
    "str(myage) + myeyes # adding two string variables"
   ]
  },
  {
   "cell_type": "code",
   "execution_count": null,
   "metadata": {
    "tags": []
   },
   "outputs": [],
   "source": [
    "int(myeyes)\n",
    "\n",
    "# ValueError: invalid literal for int() with base 10: 'green'"
   ]
  },
  {
   "cell_type": "code",
   "execution_count": null,
   "metadata": {
    "tags": []
   },
   "outputs": [],
   "source": [
    "myage + int(myeyes)"
   ]
  },
  {
   "cell_type": "markdown",
   "metadata": {},
   "source": [
    "**Text cannot be converted to integer that doesnt mean a string cannot be converted to int/numeric**"
   ]
  },
  {
   "cell_type": "code",
   "execution_count": null,
   "metadata": {},
   "outputs": [],
   "source": [
    "a = '8796'\n",
    "print (a)\n",
    "type (a)"
   ]
  },
  {
   "cell_type": "code",
   "execution_count": null,
   "metadata": {},
   "outputs": [],
   "source": [
    "# String to Int conversion is possible ; if the str is of a number\n",
    "print (type(a))\n",
    "b = int(a)\n",
    "print (b)\n",
    "type (b)"
   ]
  },
  {
   "cell_type": "code",
   "execution_count": null,
   "metadata": {
    "tags": []
   },
   "outputs": [],
   "source": [
    "a = \"Sonal\"\n",
    "b = int(a)  # typecasting\n",
    "print (b)\n",
    "type(b)"
   ]
  },
  {
   "cell_type": "markdown",
   "metadata": {},
   "source": [
    "# Print Command"
   ]
  },
  {
   "cell_type": "code",
   "execution_count": null,
   "metadata": {},
   "outputs": [],
   "source": [
    "y = 2.1\n",
    "y\n",
    "z = 3.5\n",
    "print z\n",
    "\n",
    "# SyntaxError: Missing parentheses in call to 'print'. Did you mean print(z)?"
   ]
  },
  {
   "cell_type": "code",
   "execution_count": null,
   "metadata": {},
   "outputs": [],
   "source": [
    "y = 2.1\n",
    "y           # without the print command anything in middle of the code will not be printed\n",
    "z = 3.5\n",
    "print (z)"
   ]
  },
  {
   "cell_type": "code",
   "execution_count": null,
   "metadata": {},
   "outputs": [],
   "source": [
    "y = 2.1\n",
    "y           # without the print command anything in middle of the code will not be printed\n",
    "z = 3.5\n",
    "z"
   ]
  },
  {
   "cell_type": "code",
   "execution_count": null,
   "metadata": {
    "tags": []
   },
   "outputs": [],
   "source": [
    "y = 2.1\n",
    "print (y)\n",
    "z = 3.5\n",
    "z"
   ]
  },
  {
   "cell_type": "code",
   "execution_count": null,
   "metadata": {},
   "outputs": [],
   "source": [
    "\"hello everyone!!!\""
   ]
  },
  {
   "cell_type": "code",
   "execution_count": null,
   "metadata": {},
   "outputs": [],
   "source": [
    "40"
   ]
  },
  {
   "cell_type": "markdown",
   "metadata": {},
   "source": [
    "### Operations and Functions - String Variables"
   ]
  },
  {
   "cell_type": "code",
   "execution_count": null,
   "metadata": {},
   "outputs": [],
   "source": [
    "message = 'Hello world'\n",
    "print (message)"
   ]
  },
  {
   "cell_type": "code",
   "execution_count": null,
   "metadata": {},
   "outputs": [],
   "source": [
    "# Concatenating\n",
    "\n",
    "message1 = \"hello\" + \"world\"\n",
    "print (message1)"
   ]
  },
  {
   "cell_type": "code",
   "execution_count": null,
   "metadata": {},
   "outputs": [],
   "source": [
    "# Repetition\n",
    "\n",
    "message2a = 'hello ' * 3\n",
    "message2b = \"world\"\n",
    "\n",
    "print (message2a + message2b)"
   ]
  },
  {
   "cell_type": "code",
   "execution_count": null,
   "metadata": {},
   "outputs": [],
   "source": [
    "str1 = 'Applied Data Science with Python'\n",
    "print (str1)"
   ]
  },
  {
   "cell_type": "code",
   "execution_count": null,
   "metadata": {},
   "outputs": [],
   "source": [
    "# the length of str1\n",
    "len(str1)"
   ]
  },
  {
   "cell_type": "code",
   "execution_count": null,
   "metadata": {},
   "outputs": [],
   "source": [
    "# converts all characters in string to Uppercase\n",
    "str1.upper()"
   ]
  },
  {
   "cell_type": "code",
   "execution_count": null,
   "metadata": {},
   "outputs": [],
   "source": [
    "# converts all characters in string to lowercase\n",
    "str1.lower()"
   ]
  },
  {
   "cell_type": "code",
   "execution_count": null,
   "metadata": {},
   "outputs": [],
   "source": [
    "# Capitalize() - capitalizes the first letter of the string\n",
    "str1.capitalize()"
   ]
  },
  {
   "cell_type": "code",
   "execution_count": null,
   "metadata": {},
   "outputs": [],
   "source": [
    "#  title() - capitalize the first letter of each word in a string\n",
    "str1.title()"
   ]
  },
  {
   "cell_type": "markdown",
   "metadata": {},
   "source": [
    "**replace**\n",
    "\n",
    "- The replace() method replaces a specified phrase with another specified phrase."
   ]
  },
  {
   "cell_type": "code",
   "execution_count": null,
   "metadata": {},
   "outputs": [],
   "source": [
    "message8 = \"Hello World\"\n",
    "message8a = message8.replace('l', \" pizza \")\n",
    "print (message8a)"
   ]
  },
  {
   "cell_type": "code",
   "execution_count": null,
   "metadata": {},
   "outputs": [],
   "source": [
    "message8 = \"Hello World\"\n",
    "message8a = message8.replace('z', \" pizza \")\n",
    "print (message8a)"
   ]
  },
  {
   "cell_type": "markdown",
   "metadata": {},
   "source": [
    "**Find**\n",
    "\n",
    "- Index of the element :: An index refers to a position within a value. Python strings have characters; each character is given an index from zero (at the beginning) to the length minus one (at the end)\n",
    "\n",
    "- The find() method finds the first occurrence of the specified value.\n",
    "\n",
    "- The find() method returns -1 if the value is not found."
   ]
  },
  {
   "cell_type": "code",
   "execution_count": null,
   "metadata": {},
   "outputs": [],
   "source": [
    "message5 = \"Hello World\"\n",
    "message5a = message5.find('H')    # index of the element\n",
    "print (message5a)\n",
    "\n",
    "# 0 1 2 3 4 5 6 7 8 9 10\n",
    "# H e l l o   W o r l d"
   ]
  },
  {
   "cell_type": "markdown",
   "metadata": {},
   "source": [
    "# In python the index starts from 0"
   ]
  },
  {
   "cell_type": "code",
   "execution_count": null,
   "metadata": {},
   "outputs": [],
   "source": [
    "message5 = \"Hello World\"\n",
    "message5a = message5.find('W')     # index of the element\n",
    "print (message5a)"
   ]
  },
  {
   "cell_type": "code",
   "execution_count": null,
   "metadata": {},
   "outputs": [],
   "source": [
    "message5 = \"Hello World\"\n",
    "message5a = message5.find('o') # index of the element\n",
    "print (message5a)\n",
    "\n",
    "# The find() method finds the first occurrence of the specified value"
   ]
  },
  {
   "cell_type": "code",
   "execution_count": null,
   "metadata": {},
   "outputs": [],
   "source": [
    "message5 = \"Hello World\"\n",
    "message5a = message5.find('z') # index of the element\n",
    "print (message5a)\n",
    "\n",
    "# The find() method returns -1 if the value is not found."
   ]
  },
  {
   "cell_type": "code",
   "execution_count": null,
   "metadata": {},
   "outputs": [],
   "source": [
    "message5 = \"Hello World\"\n",
    "message5a = message5.find('L')     # index of the element\n",
    "print (message5a)"
   ]
  },
  {
   "cell_type": "markdown",
   "metadata": {},
   "source": [
    "## Accessing Elements from String"
   ]
  },
  {
   "cell_type": "code",
   "execution_count": null,
   "metadata": {},
   "outputs": [],
   "source": [
    "message9 = 'Hello World'\n",
    "message9[8]                 # accessing the element at index 8\n",
    "\n",
    "# 0 1 2 3 4 5 6 7 8 9 10\n",
    "# H e l l o   W o r l d"
   ]
  },
  {
   "cell_type": "code",
   "execution_count": null,
   "metadata": {},
   "outputs": [],
   "source": [
    "message9 = 'Hello World'\n",
    "message9[10]"
   ]
  },
  {
   "cell_type": "code",
   "execution_count": null,
   "metadata": {
    "tags": []
   },
   "outputs": [],
   "source": [
    "message9 = 'Hello World'\n",
    "message9[15]\n",
    "\n",
    "# IndexError: string index out of range"
   ]
  },
  {
   "cell_type": "markdown",
   "metadata": {},
   "source": [
    "### Slicing the Elements from String"
   ]
  },
  {
   "cell_type": "code",
   "execution_count": null,
   "metadata": {},
   "outputs": [],
   "source": [
    "message9 = 'Hello World'\n",
    "message9a = message9[1:8]      # [inclusive : exclusive] or [Start : Stop] = [Start : Stop - 1]\n",
    "print (message9a)\n",
    "\n",
    "# 0 1 2 3 4 5 6 7 8 9 10\n",
    "# H e l l o   W o r l d"
   ]
  },
  {
   "cell_type": "code",
   "execution_count": null,
   "metadata": {},
   "outputs": [],
   "source": [
    "message9[2:9]"
   ]
  },
  {
   "cell_type": "code",
   "execution_count": null,
   "metadata": {},
   "outputs": [],
   "source": [
    "message9 ='Hello World'\n",
    "print (message9[6:])        # 6 to end"
   ]
  },
  {
   "cell_type": "code",
   "execution_count": null,
   "metadata": {},
   "outputs": [],
   "source": [
    "message9 = 'Hello World'\n",
    "print (message9[:6])         # [Start : Stop] = [Start : Stop - 1] "
   ]
  },
  {
   "cell_type": "markdown",
   "metadata": {},
   "source": [
    "## Postive and Negative Indices in Python"
   ]
  },
  {
   "cell_type": "code",
   "execution_count": null,
   "metadata": {
    "tags": []
   },
   "outputs": [],
   "source": [
    "# positive indices start from 0  - left to right\n",
    "Str1 = 'SUPER'\n",
    "\n",
    "print (Str1[0])\n",
    "print (Str1[1])\n",
    "print (Str1[2])\n",
    "print (Str1[3])\n",
    "print (Str1[4])"
   ]
  },
  {
   "cell_type": "code",
   "execution_count": null,
   "metadata": {
    "tags": []
   },
   "outputs": [],
   "source": [
    "# negative indices start from -1 - right to left\n",
    "\n",
    "print (Str1[-5])\n",
    "print (Str1[-4])\n",
    "print (Str1[-3])\n",
    "print (Str1[-2])\n",
    "print (Str1[-1])"
   ]
  },
  {
   "cell_type": "raw",
   "metadata": {},
   "source": [
    "# positive indices start from  0 - left to right - 0 to len(str)-1\n",
    "# negative indices start from -1 - right to left - -1 to -len(str)\n",
    "\n",
    "#   S   U   P   E   R\n",
    "#   0   1   2   3   4    # positive indice\n",
    "#  -5  -4  -3  -2  -1    # negative indice"
   ]
  },
  {
   "cell_type": "markdown",
   "metadata": {},
   "source": [
    "# User Input"
   ]
  },
  {
   "cell_type": "code",
   "execution_count": null,
   "metadata": {},
   "outputs": [],
   "source": [
    "# Syntax :: input(prompt)\n",
    "\n",
    "name = input(\"what is your name? \")\n",
    "print (\"Welcome \", name)"
   ]
  },
  {
   "cell_type": "code",
   "execution_count": null,
   "metadata": {},
   "outputs": [],
   "source": [
    "age = input(\"what is your age? \")\n",
    "print (\"Age = \", age)"
   ]
  },
  {
   "cell_type": "code",
   "execution_count": null,
   "metadata": {},
   "outputs": [],
   "source": [
    "type(name)"
   ]
  },
  {
   "cell_type": "code",
   "execution_count": null,
   "metadata": {},
   "outputs": [],
   "source": [
    "type(age)"
   ]
  },
  {
   "cell_type": "markdown",
   "metadata": {},
   "source": [
    "***Whatever you enter as input, the input function converts it into a string***"
   ]
  },
  {
   "cell_type": "code",
   "execution_count": null,
   "metadata": {},
   "outputs": [],
   "source": [
    "age = int(input(\"what is your age? \"))\n",
    "print (\"Age = \", age)"
   ]
  },
  {
   "cell_type": "markdown",
   "metadata": {},
   "source": [
    "# InClass Practice\n",
    "\n",
    "# 2"
   ]
  },
  {
   "cell_type": "markdown",
   "metadata": {},
   "source": [
    "## Create a string \"My First Python Class\" and print it"
   ]
  },
  {
   "cell_type": "code",
   "execution_count": null,
   "metadata": {},
   "outputs": [],
   "source": [
    "str1 = \"My First Python Class\"\n",
    "print(str1)"
   ]
  },
  {
   "cell_type": "markdown",
   "metadata": {},
   "source": [
    "## Access the third last character in the string"
   ]
  },
  {
   "cell_type": "code",
   "execution_count": null,
   "metadata": {},
   "outputs": [],
   "source": [
    "str1[-3]"
   ]
  },
  {
   "cell_type": "markdown",
   "metadata": {},
   "source": [
    "## Update a letter of the string :: s with z\n",
    "\n",
    "hint - replace()"
   ]
  },
  {
   "cell_type": "code",
   "execution_count": null,
   "metadata": {},
   "outputs": [],
   "source": [
    "str1.replace('s','z')"
   ]
  },
  {
   "cell_type": "code",
   "execution_count": null,
   "metadata": {},
   "outputs": [],
   "source": []
  }
 ],
 "metadata": {
  "kernelspec": {
   "display_name": "Python 3 (ipykernel)",
   "language": "python",
   "name": "python3"
  },
  "language_info": {
   "codemirror_mode": {
    "name": "ipython",
    "version": 3
   },
   "file_extension": ".py",
   "mimetype": "text/x-python",
   "name": "python",
   "nbconvert_exporter": "python",
   "pygments_lexer": "ipython3",
   "version": "3.9.12"
  }
 },
 "nbformat": 4,
 "nbformat_minor": 4
}
