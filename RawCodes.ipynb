{
 "cells": [
  {
   "cell_type": "code",
   "execution_count": null,
   "id": "79727684-f02b-408f-8717-371ca35cc04e",
   "metadata": {},
   "outputs": [],
   "source": [
    "#dropping all the rows where both closed date and resolution action updated date columns are null\n",
    "#service_requests_df = service_requests_df[~(service_requests_df['Closed_Date'].isna() & service_requests_df['Resolution_Action_Updated_Date'].isna())]                     \n",
    "\n",
    "#assigning the resolution action updated value to closed date value\n",
    "service_requests_df.loc[service_requests_df['Closed_Date'].isna(),['Closed_Date']] = service_requests_df[service_requests_df['Closed_Date'].isna()]['Resolution_Action_Updated_Date']\n",
    "\n",
    "#assigning the closed date value to resolution action updated value\n",
    "service_requests_df.loc[service_requests_df['Resolution_Action_Updated_Date'].isna(),['Resolution_Action_Updated_Date']] = service_requests_df[service_requests_df['Resolution_Action_Updated_Date'].isna()]['Closed_Date']\n",
    "\n",
    "#assigning the closed date value to due date value\n",
    "service_requests_df.loc[service_requests_df['Due_Date'].isna(),['Due_Date']] = service_requests_df[service_requests_df['Due_Date'].isna()]['Closed_Date']\n",
    "\n",
    "#service_requests_df[['Closed_Date','Due_Date','Resolution_Action_Updated_Date']].isna().sum()"
   ]
  },
  {
   "cell_type": "code",
   "execution_count": null,
   "id": "cf9f6894-2891-42c0-a42b-270a5e1cf71c",
   "metadata": {
    "tags": []
   },
   "outputs": [],
   "source": [
    "#displays the types of complaints in each city in a seperate dataset\n",
    "#citybased_complaints_df=service_requests_df[service_requests_df.groupby('City')]['Complaint_Type']\n",
    "#.size().reset_index(name='count')\n",
    "#citybased_complaints_df\n",
    "\n",
    "#citybased_complaints_df.groupby(['City','Complaint Type']).agg({'count':sum})\n",
    "\n",
    "#citybased_complaints_df.sort_values(['count'],ascending=False).groupby('City').head(3)\n",
    "#citybased_complaints_df = service_requests_df.groupby('City')\n",
    "#citybased_complaints_df"
   ]
  },
  {
   "cell_type": "code",
   "execution_count": null,
   "id": "44d637f5-4a70-4f6c-93ff-16a8a6be78c6",
   "metadata": {
    "tags": []
   },
   "outputs": [],
   "source": [
    "city = service_requests_df.City.mode()[0]\n",
    "\n",
    "zipcode = service_requests_df.loc[service_requests_df.City == city, 'Incident_Zip'].mode()[0]\n",
    "print(zipcode)\n",
    "\n",
    "latitude = service_requests_df.loc[service_requests_df['Incident_Zip'] == zipcode, 'Latitude'].mode()[0]\n",
    "print(latitude)\n",
    "\n",
    "longitude = service_requests_df.loc[service_requests_df['Incident_Zip'] == zipcode, 'Longitude'].mode()[0]\n",
    "print(longitude)\n",
    "\n",
    "\n",
    "service_requests_df.loc[service_requests_df.City.isna(),['City']] = city\n",
    "service_requests_df.loc[service_requests_df.Incident_Zip.isna(),['Incident_Zip']] = zipcode\n",
    "service_requests_df.loc[service_requests_df.Latitude.isna(),['Latitude']] = latitude\n",
    "service_requests_df.loc[service_requests_df.Longitude.isna(),['Longitude']] = longitude"
   ]
  },
  {
   "cell_type": "raw",
   "id": "c72cc3fd-5bcf-41de-82e2-8498ccd668bc",
   "metadata": {
    "tags": []
   },
   "source": [
    "print(updated_service_request_df.shape)\n",
    "updated_service_request_df = updated_service_request_df.dropna(subset=['Closed Date'])\n",
    "\n",
    "#service_requests_df['Closed Date']=df['correct']\n",
    "print(updated_service_request_df.shape)\n",
    "#df.shape"
   ]
  },
  {
   "cell_type": "raw",
   "id": "761d9b06-ce32-4cd0-8383-7e1be91c839a",
   "metadata": {
    "jupyter": {
     "source_hidden": true
    },
    "tags": []
   },
   "source": [
    "row_has_NaN = service_requests_df[service_requests_df['Closed Date'].isna()]\n",
    "row_has_NaN\n",
    "\n",
    "#service_requests_df['Status'].unique()\n",
    "\n",
    "row_has_NaN = service_requests_df[service_requests_df['Incident Zip'].isna()]\n",
    "row_has_NaN"
   ]
  },
  {
   "cell_type": "raw",
   "id": "0198d132-3dad-4d40-95b8-8bd744a6599d",
   "metadata": {
    "jupyter": {
     "source_hidden": true
    },
    "tags": []
   },
   "source": [
    "#dropping the rows with null values in the column CITY\n",
    "service_requests_df['City'].isna().sum()\n",
    "service_requests_df = service_requests_df.dropna(subset=['City'])\n",
    "service_requests_df.shape"
   ]
  },
  {
   "cell_type": "raw",
   "id": "d3380890-e6e1-4d6f-984a-9419d586eee4",
   "metadata": {
    "jupyter": {
     "source_hidden": true
    },
    "tags": []
   },
   "source": [
    "#percentage_of_missing_values=(service_requests_df.isna().sum(axis=0) * 100/len(service_requests_df))\n",
    "#percent_missing = service_requests_df.isnull().sum() * 100 / len(service_requests_df)\n",
    "#missing_value_df = pd.DataFrame({'column_name': service_requests_df.columns,\n",
    "                                # 'percent_missing': percent_missing})\n",
    "#missing_value_df\n",
    "#percentage_of_missing_values\n",
    "\n",
    "service_requests_df=service_requests_df.dropna(subset=['City'])\n",
    "print(service_requests_df.shape)\n",
    "service_requests_df['City'].isna().sum()"
   ]
  },
  {
   "cell_type": "raw",
   "id": "088cc472-ef1b-4c26-8b34-9853217a52b1",
   "metadata": {
    "jupyter": {
     "source_hidden": true
    },
    "tags": []
   },
   "source": [
    "#to countplot the complaint type\n",
    "#sns.countplot(updated_service_request_df['Complaint Type'])\n",
    "ax = sns.countplot(x=\"Complaint Type\", data=updated_service_request_df)\n",
    "\n",
    "ax.set_xticklabels(ax.get_xticklabels(), rotation=90, ha=\"right\")\n",
    "#plt.tight_layout()\n",
    "plt.figure(figsize=(7,7))\n",
    "plt.rcParams[\"xtick.labelsize\"] = 9\n",
    "plt.show()"
   ]
  },
  {
   "cell_type": "raw",
   "id": "1abf3445-06df-47d2-83c6-43f1ceb1034b",
   "metadata": {
    "jupyter": {
     "source_hidden": true
    },
    "tags": []
   },
   "source": [
    "pd.pivot_table(citybased_complaints_df.reset_index(),\n",
    "               index='City', columns='Complaint Type', values='count'\n",
    "              ).plot(subplots=True)"
   ]
  },
  {
   "cell_type": "raw",
   "id": "acc5201f-b544-42c9-9875-16d4d6dfa1c4",
   "metadata": {
    "tags": []
   },
   "source": [
    "updated_service_request_df.groupby(['City','Complaint Type']).size().plot()\n",
    "plt.xticks(rotation=90)\n",
    "plt.show()"
   ]
  },
  {
   "cell_type": "raw",
   "id": "f1e56790-230a-4237-8e00-de7c1c17a822",
   "metadata": {
    "jupyter": {
     "source_hidden": true
    },
    "tags": []
   },
   "source": [
    "closed_date=updated_service_request_df['Closed Date']\n",
    "\n",
    "#resolution_date=service_requests_df['Resolution Action Updated Date']\n",
    "#df = pd.DataFrame({'closed_date_time':closed_date})\n",
    "\n",
    "updated_service_request_df['Closed Date']= pd.to_datetime(updated_service_request_df['Closed Date'],errors='coerce',infer_datetime_format=True)\n",
    "#df['correct_resolution_date']= pd.to_datetime(df['resolution_date'],errors='coerce')\n",
    "#updated_service_request_df['Closed Date'].isna().sum()"
   ]
  },
  {
   "cell_type": "raw",
   "id": "dffd7453-3ffb-4e71-be14-79fc3d7a3c09",
   "metadata": {
    "jupyter": {
     "source_hidden": true
    },
    "tags": []
   },
   "source": [
    "def lowerCasingStrings(df):\n",
    "    df = df.applymap(lambda s : s.lower() if type(s) == str else s)\n",
    "    return df"
   ]
  },
  {
   "cell_type": "raw",
   "id": "691ef8c5-a2bb-4213-a7fc-f6e63487419a",
   "metadata": {
    "jupyter": {
     "source_hidden": true
    },
    "tags": []
   },
   "source": [
    "#scatter plot display\n",
    "style.use('ggplot')\n",
    "plt.figure(figsize=(10,5))\n",
    "plt.xlabel('Complaint Types in Brooklyn')\n",
    "plt.ylabel('No.of registered complaints')\n",
    "plt.title('Complaint concentration across brooklyn')\n",
    "plt.scatter(brooklyn_complaintTypes['Complaint Type'],brooklyn_complaintTypes['count'])\n",
    "plt.xticks(rotation=90)\n",
    "plt.show()\n",
    "\n",
    "#xn = range(len(brooklyn_complaintTypes['Complaint Type']))\n",
    "#plt.hexbin(xn,brooklyn_complaintTypes['count'])\n",
    "#plt.show()"
   ]
  }
 ],
 "metadata": {
  "kernelspec": {
   "display_name": "Python 3 (ipykernel)",
   "language": "python",
   "name": "python3"
  },
  "language_info": {
   "codemirror_mode": {
    "name": "ipython",
    "version": 3
   },
   "file_extension": ".py",
   "mimetype": "text/x-python",
   "name": "python",
   "nbconvert_exporter": "python",
   "pygments_lexer": "ipython3",
   "version": "3.9.12"
  }
 },
 "nbformat": 4,
 "nbformat_minor": 5
}
