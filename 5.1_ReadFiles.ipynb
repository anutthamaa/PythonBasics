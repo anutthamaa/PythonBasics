{
 "cells": [
  {
   "cell_type": "code",
   "execution_count": 2,
   "id": "ceb92e37",
   "metadata": {},
   "outputs": [
    {
     "data": {
      "text/plain": [
       "'c:/example1.txt'"
      ]
     },
     "execution_count": 2,
     "metadata": {},
     "output_type": "execute_result"
    }
   ],
   "source": [
    "#open the text file in read mode\n",
    "global example1\n",
    "example1=\"c:/example1.txt\"\n",
    "file1=open(example1,\"r\")\n",
    "#prints the path\n",
    "file1.name"
   ]
  },
  {
   "cell_type": "code",
   "execution_count": 9,
   "id": "a81cf0fe",
   "metadata": {},
   "outputs": [
    {
     "data": {
      "text/plain": [
       "'r'"
      ]
     },
     "execution_count": 9,
     "metadata": {},
     "output_type": "execute_result"
    }
   ],
   "source": [
    "#prints the mode \n",
    "file1.mode"
   ]
  },
  {
   "cell_type": "code",
   "execution_count": 14,
   "id": "9832545c",
   "metadata": {},
   "outputs": [
    {
     "data": {
      "text/plain": [
       "'This is line 1\\n This is line 2\\nThis is line 3'"
      ]
     },
     "execution_count": 14,
     "metadata": {},
     "output_type": "execute_result"
    }
   ],
   "source": [
    "#reads the content in file\n",
    "FileContent=file1.read()\n",
    "FileContent"
   ]
  },
  {
   "cell_type": "code",
   "execution_count": 26,
   "id": "17e8173c",
   "metadata": {},
   "outputs": [
    {
     "name": "stdout",
     "output_type": "stream",
     "text": [
      "This is line 1\n",
      " This is line 2\n",
      "This is line 3\n"
     ]
    }
   ],
   "source": [
    "# Print the file with '\\n' as a new line\n",
    "print(FileContent)"
   ]
  },
  {
   "cell_type": "code",
   "execution_count": 16,
   "id": "05f1009d",
   "metadata": {},
   "outputs": [
    {
     "data": {
      "text/plain": [
       "str"
      ]
     },
     "execution_count": 16,
     "metadata": {},
     "output_type": "execute_result"
    }
   ],
   "source": [
    "#prints the type of file\n",
    "type(FileContent)"
   ]
  },
  {
   "cell_type": "code",
   "execution_count": 27,
   "id": "c250473f",
   "metadata": {},
   "outputs": [],
   "source": [
    "#closes the file object\n",
    "file1.close()"
   ]
  },
  {
   "cell_type": "code",
   "execution_count": 35,
   "id": "db79aaba",
   "metadata": {},
   "outputs": [
    {
     "name": "stdout",
     "output_type": "stream",
     "text": [
      "This is line 1\n",
      " This is line 2\n",
      "This is line 3\n"
     ]
    }
   ],
   "source": [
    "#best way to open a file using with open as it closes the file after reading\n",
    "#example1=\"c:/example1.txt\"\n",
    "with open(example1,\"r\") as file1:\n",
    "        print(file1.read())"
   ]
  },
  {
   "cell_type": "code",
   "execution_count": 32,
   "id": "3e864f3b",
   "metadata": {},
   "outputs": [
    {
     "data": {
      "text/plain": [
       "True"
      ]
     },
     "execution_count": 32,
     "metadata": {},
     "output_type": "execute_result"
    }
   ],
   "source": [
    "#checking whether file is closed or not\n",
    "file1.closed"
   ]
  },
  {
   "cell_type": "code",
   "execution_count": 34,
   "id": "28bc9bce",
   "metadata": {},
   "outputs": [
    {
     "name": "stdout",
     "output_type": "stream",
     "text": [
      "This\n"
     ]
    }
   ],
   "source": [
    "# Read first four characters\n",
    "\n",
    "with open(example1,\"r\") as file1:\n",
    "    print(file1.read(4))"
   ]
  },
  {
   "cell_type": "code",
   "execution_count": 37,
   "id": "fcaee3e6",
   "metadata": {},
   "outputs": [
    {
     "name": "stdout",
     "output_type": "stream",
     "text": [
      "This\n",
      " is \n",
      "line 1\n",
      "\n"
     ]
    }
   ],
   "source": [
    "# Read certain amount of characters\n",
    "\n",
    "with open(example1,\"r\") as file1:\n",
    "    print(file1.read(4))\n",
    "    print(file1.read(4))\n",
    "    print(file1.read(7))"
   ]
  },
  {
   "cell_type": "code",
   "execution_count": 38,
   "id": "89e256ab",
   "metadata": {},
   "outputs": [
    {
     "name": "stdout",
     "output_type": "stream",
     "text": [
      "This is line 1\n",
      " \n",
      "This \n",
      "is line 2\n"
     ]
    }
   ],
   "source": [
    "# Read certain amount of characters\n",
    "with open(example1,\"r\") as file1:\n",
    "    print(file1.read(16))\n",
    "    print(file1.read(5))\n",
    "    print(file1.read(9))"
   ]
  },
  {
   "cell_type": "code",
   "execution_count": 39,
   "id": "13daa173",
   "metadata": {},
   "outputs": [
    {
     "name": "stdout",
     "output_type": "stream",
     "text": [
      "First line: This is line 1\n",
      "\n"
     ]
    }
   ],
   "source": [
    "# Read one line\n",
    "with open(example1,\"r\") as file1:\n",
    "    print(\"First line:\",file1.readline())"
   ]
  },
  {
   "cell_type": "code",
   "execution_count": 45,
   "id": "1a6d3b83",
   "metadata": {},
   "outputs": [
    {
     "name": "stdout",
     "output_type": "stream",
     "text": [
      "Iteration 0 : This is line 1\n",
      "\n",
      "Iteration 1 :  This is line 2\n",
      "\n",
      "Iteration 2 : This is line 3\n"
     ]
    }
   ],
   "source": [
    "# Read file using for loop\n",
    "with open(example1,\"r\") as file1:\n",
    "    i=0\n",
    "    for line in file1:\n",
    "        print('Iteration',str(i),':',line)\n",
    "        i=i+1"
   ]
  },
  {
   "cell_type": "code",
   "execution_count": 48,
   "id": "18c591ea",
   "metadata": {},
   "outputs": [
    {
     "name": "stdout",
     "output_type": "stream",
     "text": [
      "First line is: This is line 1\n",
      "\n",
      "Second line is:  This is line 2\n",
      "\n",
      "Third line is: This is line 3\n"
     ]
    }
   ],
   "source": [
    "with open(example1,\"r\") as file1:\n",
    "    fileAsList=file1.readlines()\n",
    "print(\"First line is:\",fileAsList[0])\n",
    "print(\"Second line is:\",fileAsList[1])\n",
    "print(\"Third line is:\",fileAsList[2])"
   ]
  },
  {
   "cell_type": "code",
   "execution_count": null,
   "id": "41b8f6de",
   "metadata": {},
   "outputs": [],
   "source": []
  }
 ],
 "metadata": {
  "kernelspec": {
   "display_name": "Python 3 (ipykernel)",
   "language": "python",
   "name": "python3"
  },
  "language_info": {
   "codemirror_mode": {
    "name": "ipython",
    "version": 3
   },
   "file_extension": ".py",
   "mimetype": "text/x-python",
   "name": "python",
   "nbconvert_exporter": "python",
   "pygments_lexer": "ipython3",
   "version": "3.9.12"
  }
 },
 "nbformat": 4,
 "nbformat_minor": 5
}
