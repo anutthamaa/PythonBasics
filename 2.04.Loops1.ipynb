{
 "cells": [
  {
   "cell_type": "markdown",
   "metadata": {},
   "source": [
    "# Loops -- Its all about re-iterating the statement multiple times subject to condition\n",
    "# For loop --- To traverse and perform operation on a collection object !!!"
   ]
  },
  {
   "cell_type": "markdown",
   "metadata": {},
   "source": [
    "# FOR LOOP\n",
    "\n",
    "- iterates through items in python that are in a sequence or any other iterable item.\n",
    "- can iterate through strings, lists, tuples and dictionaries using keys and values \n",
    "- The variable name used for the item is completely up to the coder\n",
    "- Best practice is to create meaningful variables\n",
    "- This item name can then be referenced inside your loop, \n",
    "  for example if you wanted to use <code>if</code> statements to perform checks."
   ]
  },
  {
   "cell_type": "raw",
   "metadata": {},
   "source": [
    "For Loops:\n",
    "\n",
    "A for loop acts as an iterator in Python; it goes through items that are in a sequence or any other iterable item. Objects that we've learned about that we can iterate over include strings, lists, tuples, and even built-in iterables for dictionaries, such as keys or values.\n",
    "\n",
    "Here's the general format for a for loop in Python:\n",
    "\n",
    "for item in object:\n",
    "    statements to do stuff"
   ]
  },
  {
   "cell_type": "raw",
   "metadata": {},
   "source": [
    "- syntax\n",
    "    for <itemname> in <objectname>:        ### itemname is a variable, objectname is lists/tuples/dictionary/string etc\n",
    "        statements to execute              ### actions to perform"
   ]
  },
  {
   "cell_type": "code",
   "execution_count": null,
   "metadata": {},
   "outputs": [],
   "source": [
    "for_list = [1,2,3,4,5,6,7,8,9,10]\n",
    "print (for_list)"
   ]
  },
  {
   "cell_type": "code",
   "execution_count": null,
   "metadata": {
    "tags": []
   },
   "outputs": [],
   "source": [
    "for i in for_list: # the variable i is autodefined by for loop and type is also auto assigned based on values in the list\n",
    "    print (i)"
   ]
  },
  {
   "cell_type": "code",
   "execution_count": null,
   "metadata": {
    "tags": []
   },
   "outputs": [],
   "source": [
    "list1 = [1230, \"Apple and Orange\", 3.14, True]\n",
    "print (list1)\n",
    "print ()\n",
    "\n",
    "for a in list1:        # the variable i is autodefined by for loop and type is also auto assigned based on values in the list\n",
    "    print (a, type(a))\n",
    "    print ()"
   ]
  },
  {
   "cell_type": "markdown",
   "metadata": {},
   "source": [
    "# Square the items in the list"
   ]
  },
  {
   "cell_type": "code",
   "execution_count": null,
   "metadata": {
    "tags": []
   },
   "outputs": [],
   "source": [
    "for_list**2 # ** power of 2"
   ]
  },
  {
   "cell_type": "code",
   "execution_count": null,
   "metadata": {
    "tags": []
   },
   "outputs": [],
   "source": [
    "for num1 in for_list:\n",
    "    print (num1)\n",
    "    print (num1**2)\n",
    "    print ()"
   ]
  },
  {
   "cell_type": "code",
   "execution_count": null,
   "metadata": {},
   "outputs": [],
   "source": [
    "sq_list = []\n",
    "\n",
    "for num1 in for_list:\n",
    "    num = num1**2\n",
    "    sq_list.append(num)\n",
    "\n",
    "print (sq_list)"
   ]
  },
  {
   "cell_type": "markdown",
   "metadata": {},
   "source": [
    "# While Loop"
   ]
  },
  {
   "cell_type": "raw",
   "metadata": {},
   "source": [
    "The while statement in Python is one of most general ways to perform iteration. A while statement will repeatedly execute a single statement or group of statements as long as the condition is true. The reason it is called a 'loop' is because the code statements are looped through over and over again until the condition is no longer met.\n",
    "\n",
    "The general format of a while loop is:\n",
    "\n",
    "while test:\n",
    "    code statements\n",
    "else:\n",
    "    final code statements"
   ]
  },
  {
   "cell_type": "code",
   "execution_count": 1,
   "metadata": {
    "collapsed": true,
    "jupyter": {
     "outputs_hidden": true
    },
    "tags": []
   },
   "outputs": [
    {
     "name": "stdout",
     "output_type": "stream",
     "text": [
      "x current : 0\n",
      "x still <= 10 : 0\n",
      "x post addition : 1\n",
      "\n",
      "x current : 1\n",
      "x still <= 10 : 1\n",
      "x post addition : 2\n",
      "\n",
      "x current : 2\n",
      "x still <= 10 : 2\n",
      "x post addition : 3\n",
      "\n",
      "x current : 3\n",
      "x still <= 10 : 3\n",
      "x post addition : 4\n",
      "\n",
      "x current : 4\n",
      "x still <= 10 : 4\n",
      "x post addition : 5\n",
      "\n",
      "x current : 5\n",
      "x still <= 10 : 5\n",
      "x post addition : 6\n",
      "\n",
      "x current : 6\n",
      "x still <= 10 : 6\n",
      "x post addition : 7\n",
      "\n",
      "x current : 7\n",
      "x still <= 10 : 7\n",
      "x post addition : 8\n",
      "\n",
      "x current : 8\n",
      "x still <= 10 : 8\n",
      "x post addition : 9\n",
      "\n",
      "x current : 9\n",
      "x still <= 10 : 9\n",
      "x post addition : 10\n",
      "\n",
      "x current : 10\n",
      "x still <= 10 : 10\n",
      "x post addition : 11\n",
      "\n"
     ]
    }
   ],
   "source": [
    "x = 0\n",
    "\n",
    "while x <= 10:\n",
    "    print ('x current :', x)\n",
    "    print ('x still <= 10 :', x)\n",
    "    x = x+1                         # counter == adding 1 to x and reassigning it to x\n",
    "    print ('x post addition :', x)\n",
    "    print ()"
   ]
  },
  {
   "cell_type": "raw",
   "metadata": {
    "jupyter": {
     "source_hidden": true
    },
    "tags": []
   },
   "source": [
    "Understanding the while loop\n",
    "\n",
    "x = 0\n",
    "0 <= 10\n",
    "'x still <= 10 :', 0\n",
    "x = 0 + 1 = 1\n",
    "'x post addition :', 1\n",
    "\n",
    "x = 1\n",
    "1 <= 10\n",
    "'x still <= 10 :', 1\n",
    "x = 1 + 1 = 2\n",
    "'x post addition :', 2\n",
    ".\n",
    ".\n",
    ".\n",
    ".\n",
    ".\n",
    "\n",
    "x = 10\n",
    "10 <= 10\n",
    "'x still <= 10 :', 10\n",
    "x = 10 + 1 = 11\n",
    "'x post addition :', 11\n",
    "\n",
    "x = 11\n",
    "11 <= 10\n"
   ]
  },
  {
   "cell_type": "code",
   "execution_count": 2,
   "metadata": {
    "collapsed": true,
    "jupyter": {
     "outputs_hidden": true
    },
    "tags": []
   },
   "outputs": [
    {
     "name": "stdout",
     "output_type": "stream",
     "text": [
      "x current : 0\n",
      "x post addition 1\n",
      "\n",
      "x current : 1\n",
      "x post addition 2\n",
      "\n",
      "x current : 2\n",
      "x post addition 3\n",
      "\n",
      "x current : 3\n",
      "x post addition 4\n",
      "\n",
      "x current : 4\n",
      "x post addition 5\n",
      "\n",
      "x current : 5\n",
      "x post addition 6\n",
      "\n",
      "x current : 6\n",
      "x post addition 7\n",
      "\n",
      "x current : 7\n",
      "x post addition 8\n",
      "\n",
      "x current : 8\n",
      "x post addition 9\n",
      "\n",
      "x current : 9\n",
      "x post addition 10\n",
      "\n",
      "x current : 10\n",
      "x post addition 11\n",
      "\n",
      "out of while loop, x now is: 11\n"
     ]
    }
   ],
   "source": [
    "x = 0\n",
    "\n",
    "while x <= 10:\n",
    "    print ('x current :', x)\n",
    "    x += 1 # counter               ### smart coding  x += 1  is same as x = x + 1\n",
    "    print ('x post addition', x)\n",
    "    print ()\n",
    "else : \n",
    "    print (\"out of while loop, x now is:\", x)"
   ]
  },
  {
   "cell_type": "markdown",
   "metadata": {},
   "source": [
    "## Fibonacci series  \n",
    "\n",
    "**Write a program to print the Fibonacci series up to 89:**\n",
    "    # 0,1,1,2,3,5,8,....................89"
   ]
  },
  {
   "cell_type": "code",
   "execution_count": 3,
   "metadata": {
    "collapsed": true,
    "jupyter": {
     "outputs_hidden": true
    },
    "tags": []
   },
   "outputs": [
    {
     "name": "stdout",
     "output_type": "stream",
     "text": [
      "fibonacci number :  0\n",
      "fibonacci number :  1\n",
      "fibonacci number :  1\n",
      "fibonacci number :  2\n",
      "fibonacci number :  3\n",
      "fibonacci number :  5\n",
      "fibonacci number :  8\n",
      "fibonacci number :  13\n",
      "fibonacci number :  21\n",
      "fibonacci number :  34\n",
      "fibonacci number :  55\n",
      "fibonacci number :  89\n"
     ]
    }
   ],
   "source": [
    "first_num = 0\n",
    "second_num = 1\n",
    "fib_num = 89\n",
    "\n",
    "while first_num <= fib_num:\n",
    "    print ('fibonacci number : ', first_num)\n",
    "    nth_num = first_num + second_num\n",
    "    first_num = second_num\n",
    "    second_num = nth_num"
   ]
  },
  {
   "cell_type": "markdown",
   "metadata": {},
   "source": [
    " # Multiplcation table till 10"
   ]
  },
  {
   "cell_type": "code",
   "execution_count": 6,
   "metadata": {
    "collapsed": true,
    "jupyter": {
     "outputs_hidden": true
    },
    "tags": []
   },
   "outputs": [
    {
     "name": "stdin",
     "output_type": "stream",
     "text": [
      "Please Enter A Number :  19\n"
     ]
    },
    {
     "name": "stdout",
     "output_type": "stream",
     "text": [
      "19\n",
      "\n",
      "19 * 1 = 19\n",
      "19 * 2 = 38\n",
      "19 * 3 = 57\n",
      "19 * 4 = 76\n",
      "19 * 5 = 95\n",
      "19 * 6 = 114\n",
      "19 * 7 = 133\n",
      "19 * 8 = 152\n",
      "19 * 9 = 171\n",
      "19 * 10 = 190\n"
     ]
    }
   ],
   "source": [
    "# Write a program using while loop, which take a number from the user and returns the multiplcation table till 10\n",
    "\n",
    "num = int(input('Please Enter A Number : '))\n",
    "print (num)\n",
    "print ()\n",
    "\n",
    "i = 1\n",
    "\n",
    "while i <= 10:\n",
    "    # nnum = num * i\n",
    "    print (num, \"*\", i, \"=\", num * i)\n",
    "    i += 1"
   ]
  },
  {
   "cell_type": "code",
   "execution_count": null,
   "metadata": {},
   "outputs": [],
   "source": []
  }
 ],
 "metadata": {
  "kernelspec": {
   "display_name": "Python 3",
   "language": "python",
   "name": "python3"
  },
  "language_info": {
   "codemirror_mode": {
    "name": "ipython",
    "version": 3
   },
   "file_extension": ".py",
   "mimetype": "text/x-python",
   "name": "python",
   "nbconvert_exporter": "python",
   "pygments_lexer": "ipython3",
   "version": "3.7.6"
  }
 },
 "nbformat": 4,
 "nbformat_minor": 4
}
