{
 "cells": [
  {
   "cell_type": "markdown",
   "metadata": {},
   "source": [
    "# Matplotlib\n",
    "\n",
    "<br>Matplotlib tries to make easy things easy and hard things possible. You can generate plots, histograms, power spectra, bar charts, errorcharts, scatterplots, etc., with just a few lines of code. \n",
    "\n",
    "<br>  1. Generally easy to get started for simple plots\n",
    "<br>  2. Support for custom labels and texts\n",
    "<br>  3. Great control of every element in a figure\n",
    "<br>  4. High-quality output in many formats\n",
    "<br>  5. Very customizable in general"
   ]
  },
  {
   "cell_type": "code",
   "execution_count": null,
   "metadata": {},
   "outputs": [],
   "source": [
    "import matplotlib.pyplot as plt\n",
    "%matplotlib inline\n",
    "\n",
    "# help in creating the graphs in the notebook otherwise they will pop up"
   ]
  },
  {
   "cell_type": "code",
   "execution_count": null,
   "metadata": {},
   "outputs": [],
   "source": [
    "avg_monthly_rain=[0,0,1,12,113,868,995,513,252,125,31,17]\n",
    "month=list(range(1,13))\n",
    "\n",
    "print (avg_monthly_rain)\n",
    "print ()\n",
    "print (month)"
   ]
  },
  {
   "cell_type": "markdown",
   "metadata": {},
   "source": [
    "## Basic Line Plot"
   ]
  },
  {
   "cell_type": "code",
   "execution_count": null,
   "metadata": {},
   "outputs": [],
   "source": [
    "plt.plot(month, avg_monthly_rain);\n",
    "\n",
    "# plt.plot(x, y)"
   ]
  },
  {
   "cell_type": "markdown",
   "metadata": {},
   "source": [
    "### Basic Line Plot - Labels, linewidth, linestyle "
   ]
  },
  {
   "cell_type": "code",
   "execution_count": null,
   "metadata": {},
   "outputs": [],
   "source": [
    "plt.xlabel('Months')\n",
    "plt.ylabel('Rainfall (in mm)')\n",
    "plt.title('Monthly Rainfall Trend in Mumbai')\n",
    "plt.plot(month, avg_monthly_rain, linewidth = 5, linestyle = 'dotted');"
   ]
  },
  {
   "cell_type": "markdown",
   "metadata": {},
   "source": [
    "### Line Plot - 2 Datasets"
   ]
  },
  {
   "cell_type": "code",
   "execution_count": null,
   "metadata": {},
   "outputs": [],
   "source": [
    "max_rain=[15,10,19,32,213,968,1195,613,352,225,71,47]"
   ]
  },
  {
   "cell_type": "code",
   "execution_count": null,
   "metadata": {},
   "outputs": [],
   "source": [
    "plt.xlabel('Months')\n",
    "plt.ylabel('Rainfall (in mm)')\n",
    "plt.title('Monthly Rainfall Trend in Mumbai')\n",
    "plt.plot(month, avg_monthly_rain, linewidth = 2);\n",
    "plt.plot(month, max_rain, linewidth = 2, color = 'green');"
   ]
  },
  {
   "cell_type": "markdown",
   "metadata": {},
   "source": [
    "### Line Plot - Legends"
   ]
  },
  {
   "cell_type": "code",
   "execution_count": null,
   "metadata": {},
   "outputs": [],
   "source": [
    "plt.xlabel('Months')\n",
    "plt.ylabel('Rainfall (in mm)')\n",
    "plt.title('Monthly Rainfall Trend in Mumbai')\n",
    "plt.plot(month, avg_monthly_rain, linewidth = 2, label = 'Average Rain');\n",
    "plt.plot(month, max_rain, linewidth = 2, color = 'green', label = 'Maximum Rain');\n",
    "plt.legend();"
   ]
  },
  {
   "cell_type": "code",
   "execution_count": null,
   "metadata": {},
   "outputs": [],
   "source": [
    "plt.xlabel('Months')\n",
    "plt.ylabel('Rainfall (in mm)')\n",
    "plt.title('Monthly Rainfall Trend in Mumbai')\n",
    "plt.plot(month,avg_monthly_rain, linewidth = 2, label = 'Average Rain');\n",
    "plt.plot(month,max_rain, linewidth = 2, color = 'green', label = 'Maximum Rain');\n",
    "plt.legend(loc = 'upper left', fontsize = 'large', shadow = True);"
   ]
  },
  {
   "cell_type": "markdown",
   "metadata": {},
   "source": [
    "### Line Plot - Grids"
   ]
  },
  {
   "cell_type": "code",
   "execution_count": null,
   "metadata": {},
   "outputs": [],
   "source": [
    "plt.xlabel('Months')\n",
    "plt.ylabel('Rainfall (in mm)')\n",
    "plt.title('Monthly Rainfall Trend in Mumbai')\n",
    "plt.plot(month,avg_monthly_rain, linewidth = 2, label = 'Average Rain');\n",
    "plt.plot(month,max_rain, linewidth = 2, color = 'green', label = 'Maximum Rain');\n",
    "plt.legend();\n",
    "plt.grid();"
   ]
  },
  {
   "cell_type": "code",
   "execution_count": null,
   "metadata": {},
   "outputs": [],
   "source": [
    "month_name = ['Jan','Feb','Mar','Apr','May','Jun','Jul','Aug','Sep','Oct','Nov','Dec']\n",
    "plt.xticks(month, month_name)\n",
    "plt.xlabel('Months')\n",
    "plt.ylabel('Rainfall (in mm)')\n",
    "plt.title('Monthly Rainfall Trend in Mumbai')\n",
    "plt.plot(month,avg_monthly_rain, linewidth = 1, label = 'Average Rain');\n",
    "plt.plot(month,max_rain, linewidth = 2, color = 'green', label = 'Maximum Rain');\n",
    "plt.legend();\n",
    "plt.grid();"
   ]
  },
  {
   "cell_type": "markdown",
   "metadata": {},
   "source": [
    "## Bar Chart"
   ]
  },
  {
   "cell_type": "markdown",
   "metadata": {},
   "source": [
    "<h3>Simple bar chart showing revenues of major Indian tech companies</h3>"
   ]
  },
  {
   "cell_type": "code",
   "execution_count": null,
   "metadata": {},
   "outputs": [],
   "source": [
    "company=['Infosys','TCS','Wipro','Hcl']\n",
    "revenue=[190,236,189,97]"
   ]
  },
  {
   "cell_type": "code",
   "execution_count": null,
   "metadata": {},
   "outputs": [],
   "source": [
    "import numpy as np\n",
    "xpos = np.arange(len(company))\n",
    "xpos"
   ]
  },
  {
   "cell_type": "code",
   "execution_count": null,
   "metadata": {},
   "outputs": [],
   "source": [
    "plt.bar(xpos, revenue, label = \"Revenue\");\n",
    "plt.xticks(xpos, company)\n",
    "plt.ylabel('Revenue(Bn)');\n",
    "plt.xlabel('Company Name');\n",
    "plt.title('India Top Tech Companies');\n",
    "plt.legend();"
   ]
  },
  {
   "cell_type": "markdown",
   "metadata": {},
   "source": [
    "### Multiple Bars showing revenue and profit of Top Indian tech companies"
   ]
  },
  {
   "cell_type": "code",
   "execution_count": null,
   "metadata": {},
   "outputs": [],
   "source": [
    "profit=[40,22,15,7]"
   ]
  },
  {
   "cell_type": "code",
   "execution_count": null,
   "metadata": {},
   "outputs": [],
   "source": [
    "plt.bar(xpos,revenue, label=\"Revenue\")\n",
    "plt.bar(xpos,profit,label=\"Profit\")\n",
    "plt.xticks(xpos,company)\n",
    "plt.ylabel(\"Revenue(Bln)\");\n",
    "plt.title('India Top Technology Companies');\n",
    "plt.legend();"
   ]
  },
  {
   "cell_type": "code",
   "execution_count": null,
   "metadata": {},
   "outputs": [],
   "source": [
    "plt.barh(xpos,revenue, label=\"Revenue\")\n",
    "plt.barh(xpos,profit,label=\"Profit\")\n",
    "plt.yticks(xpos,company)\n",
    "plt.ylabel(\"Revenue(Bln)\");\n",
    "plt.title('India Top Technology Companies');\n",
    "plt.legend();"
   ]
  },
  {
   "cell_type": "markdown",
   "metadata": {},
   "source": [
    "### Histogram\n",
    "\n",
    "#### In histograms, x axis contains a variable and y axis will be a frequency of that variable"
   ]
  },
  {
   "cell_type": "code",
   "execution_count": null,
   "metadata": {},
   "outputs": [],
   "source": [
    "blood_sugar_men = [113, 85, 90, 150, 149, 88, 93, 115, 135, 80, 77, 82, 129]\n",
    "blood_sugar_women = [67, 98, 89, 120, 133, 150, 84, 69, 89, 79, 120, 112, 100]"
   ]
  },
  {
   "cell_type": "code",
   "execution_count": null,
   "metadata": {},
   "outputs": [],
   "source": [
    "plt.xlabel(\"Sugar Level\")\n",
    "plt.ylabel(\"Number Of Patients\")\n",
    "plt.title(\"Blood Sugar Chart\")\n",
    "\n",
    "plt.hist([blood_sugar_men], bins=[80,100,125,150], rwidth=1);\n"
   ]
  },
  {
   "cell_type": "markdown",
   "metadata": {},
   "source": [
    "#### Histogram with multiple samples"
   ]
  },
  {
   "cell_type": "code",
   "execution_count": null,
   "metadata": {},
   "outputs": [],
   "source": [
    "plt.xlabel(\"Sugar Level\")\n",
    "plt.ylabel(\"Number Of Patients\")\n",
    "plt.title(\"Blood Sugar Chart\")\n",
    "\n",
    "plt.hist([blood_sugar_men,blood_sugar_women], bins=[80,100,125,150], rwidth=1, color=['blue','red']);"
   ]
  },
  {
   "cell_type": "code",
   "execution_count": null,
   "metadata": {},
   "outputs": [],
   "source": [
    "plt.xlabel(\"Sugar Level\")\n",
    "plt.ylabel(\"Number Of Patients\")\n",
    "plt.title(\"Blood Sugar Chart\")\n",
    "\n",
    "plt.hist([blood_sugar_men,blood_sugar_women], bins=[80,100,125,150], rwidth=1, color=['green','orange'], label = ['men', 'women']);\n",
    "plt.legend();"
   ]
  },
  {
   "cell_type": "markdown",
   "metadata": {},
   "source": [
    "#### Horizontal Orientation"
   ]
  },
  {
   "cell_type": "code",
   "execution_count": null,
   "metadata": {},
   "outputs": [],
   "source": [
    "plt.xlabel(\"Sugar Level\")\n",
    "plt.ylabel(\"Number Of Patients\")\n",
    "plt.title(\"Blood Sugar Chart\")\n",
    "\n",
    "plt.hist([blood_sugar_men,blood_sugar_women], bins=[80,100,125,150],  rwidth=1, orientation = 'horizontal');"
   ]
  },
  {
   "cell_type": "markdown",
   "metadata": {},
   "source": [
    "## Pie Chart \n",
    "\n",
    "#### Use Pie chart to analyze monthly home expenditure"
   ]
  },
  {
   "cell_type": "code",
   "execution_count": null,
   "metadata": {},
   "outputs": [],
   "source": [
    "exp_vals = [20000,10000,2000,4010,7500]\n",
    "exp_labels = [\"Home Rent\",\"Food\",\"Phone/Internet Bill\",\"Car\",\"Other Utilities\"]\n",
    "plt.pie(exp_vals,labels=exp_labels);"
   ]
  },
  {
   "cell_type": "code",
   "execution_count": null,
   "metadata": {},
   "outputs": [],
   "source": [
    "# Explode, percentage\n",
    "plt.axis(\"equal\")\n",
    "plt.pie(exp_vals,labels=exp_labels, autopct='%1.2f%%',radius=1.5,explode=[0,0,0,0.5,0])\n",
    "plt.show()"
   ]
  },
  {
   "cell_type": "code",
   "execution_count": null,
   "metadata": {},
   "outputs": [],
   "source": [
    "plt.pie(exp_vals,labels=exp_labels, radius = 4, explode=[0,0.2,0,0.5,0])\n",
    "plt.axis(\"equal\")\n",
    "plt.show()"
   ]
  },
  {
   "cell_type": "code",
   "execution_count": null,
   "metadata": {},
   "outputs": [],
   "source": [
    "# Explode, percentage\n",
    "plt.axis(\"equal\");\n",
    "plt.pie(exp_vals,labels=exp_labels, shadow=True, autopct='%1.1f%%', radius=2.5, explode=[0,0,0,0.1,0.2]);\n",
    "plt.savefig(\"myfirstplot2.jpeg\",bbox_inches='tight');"
   ]
  },
  {
   "cell_type": "markdown",
   "metadata": {},
   "source": [
    "API -> https://matplotlib.org/api/_as_gen/matplotlib.pyplot.plot.html#matplotlib.pyplot.plot¶"
   ]
  },
  {
   "cell_type": "markdown",
   "metadata": {},
   "source": [
    "#### 28 Jupyter Notebook tips, tricks, and shortcuts\n",
    "https://www.dataquest.io/blog/jupyter-notebook-tips-tricks-shortcuts/"
   ]
  },
  {
   "cell_type": "markdown",
   "metadata": {},
   "source": [
    "# Seaborn"
   ]
  },
  {
   "cell_type": "code",
   "execution_count": null,
   "metadata": {},
   "outputs": [],
   "source": [
    "import seaborn as sns\n",
    "%matplotlib inline"
   ]
  },
  {
   "cell_type": "code",
   "execution_count": null,
   "metadata": {},
   "outputs": [],
   "source": [
    "# Inbuilt Datasets are provided by seaborn for practising Viz plots \n",
    "# tips\n",
    "tips = sns.load_dataset(\"tips\")\n",
    "display (tips.head())"
   ]
  },
  {
   "cell_type": "code",
   "execution_count": null,
   "metadata": {},
   "outputs": [],
   "source": [
    "# Histograms ---- distplot --- One column\n",
    "sns.displot(tips.total_bill);\n",
    "\n",
    "# kernel density estimate - midpoints of the histograms and joining them to check if the data is Gaussian or not\n",
    "# Gaussian == Normal"
   ]
  },
  {
   "cell_type": "code",
   "execution_count": null,
   "metadata": {},
   "outputs": [],
   "source": [
    "sns.displot(tips.total_bill, kde = True);"
   ]
  },
  {
   "cell_type": "markdown",
   "metadata": {},
   "source": [
    "## Joint Plots"
   ]
  },
  {
   "cell_type": "code",
   "execution_count": null,
   "metadata": {
    "scrolled": false
   },
   "outputs": [],
   "source": [
    "sns.jointplot(x = tips.total_bill, y = tips.tip, kind = 'scatter');"
   ]
  },
  {
   "cell_type": "code",
   "execution_count": null,
   "metadata": {},
   "outputs": [],
   "source": [
    "sns.jointplot(x= tips.total_bill , y = tips.tip , kind='reg');"
   ]
  },
  {
   "cell_type": "markdown",
   "metadata": {},
   "source": [
    "### Pairplots"
   ]
  },
  {
   "cell_type": "code",
   "execution_count": null,
   "metadata": {},
   "outputs": [],
   "source": [
    "sns.pairplot(tips);"
   ]
  },
  {
   "cell_type": "code",
   "execution_count": null,
   "metadata": {},
   "outputs": [],
   "source": [
    "tips.sex.value_counts()"
   ]
  },
  {
   "cell_type": "code",
   "execution_count": null,
   "metadata": {},
   "outputs": [],
   "source": [
    "sns.pairplot(tips, hue='smoker');"
   ]
  },
  {
   "cell_type": "code",
   "execution_count": null,
   "metadata": {},
   "outputs": [],
   "source": []
  }
 ],
 "metadata": {
  "kernelspec": {
   "display_name": "Python 3 (ipykernel)",
   "language": "python",
   "name": "python3"
  },
  "language_info": {
   "codemirror_mode": {
    "name": "ipython",
    "version": 3
   },
   "file_extension": ".py",
   "mimetype": "text/x-python",
   "name": "python",
   "nbconvert_exporter": "python",
   "pygments_lexer": "ipython3",
   "version": "3.9.12"
  }
 },
 "nbformat": 4,
 "nbformat_minor": 4
}
