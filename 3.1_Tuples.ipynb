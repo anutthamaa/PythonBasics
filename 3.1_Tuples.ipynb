{
 "cells": [
  {
   "cell_type": "code",
   "execution_count": 2,
   "id": "1292a480",
   "metadata": {},
   "outputs": [
    {
     "data": {
      "text/plain": [
       "tuple"
      ]
     },
     "execution_count": 2,
     "metadata": {},
     "output_type": "execute_result"
    }
   ],
   "source": [
    "tuple1=(\"disco\",10,2.5)\n",
    "type(tuple1) #prints type of tuple created"
   ]
  },
  {
   "cell_type": "code",
   "execution_count": 3,
   "id": "1979e484",
   "metadata": {},
   "outputs": [
    {
     "name": "stdout",
     "output_type": "stream",
     "text": [
      "disco\n",
      "10\n",
      "2.5\n"
     ]
    }
   ],
   "source": [
    "#prints the variable on each index\n",
    "print(tuple1[0])\n",
    "print(tuple1[1])\n",
    "print(tuple1[2])"
   ]
  },
  {
   "cell_type": "code",
   "execution_count": 4,
   "id": "c5388e17",
   "metadata": {},
   "outputs": [
    {
     "name": "stdout",
     "output_type": "stream",
     "text": [
      "<class 'str'>\n",
      "<class 'int'>\n",
      "<class 'float'>\n"
     ]
    }
   ],
   "source": [
    "#prints the data type of each variable in the tuple\n",
    "print(type(tuple1[0]))\n",
    "print(type(tuple1[1]))\n",
    "print(type(tuple1[2]))"
   ]
  },
  {
   "cell_type": "code",
   "execution_count": 5,
   "id": "65cae8fa",
   "metadata": {},
   "outputs": [
    {
     "name": "stdout",
     "output_type": "stream",
     "text": [
      "disco\n",
      "10\n",
      "2.5\n"
     ]
    }
   ],
   "source": [
    "#using negative index to get the value of the elements\n",
    "print (tuple1[-3])\n",
    "print (tuple1[-2])\n",
    "print (tuple1[-1])"
   ]
  },
  {
   "cell_type": "code",
   "execution_count": 7,
   "id": "a4740fb3",
   "metadata": {},
   "outputs": [
    {
     "data": {
      "text/plain": [
       "('disco', 10, 2.5, 'hardrock', 10)"
      ]
     },
     "execution_count": 7,
     "metadata": {},
     "output_type": "execute_result"
    }
   ],
   "source": [
    "#Concatenating 2 tuples\n",
    "tuple2=tuple1+(\"hardrock\",10)\n",
    "tuple2"
   ]
  },
  {
   "cell_type": "code",
   "execution_count": 9,
   "id": "93365fc6",
   "metadata": {},
   "outputs": [
    {
     "name": "stdout",
     "output_type": "stream",
     "text": [
      "('disco', 10, 2.5)\n",
      "('hardrock', 10)\n"
     ]
    }
   ],
   "source": [
    "#slicing tuples\n",
    "print(tuple2[0:3])\n",
    "print(tuple2[3:5])"
   ]
  },
  {
   "cell_type": "code",
   "execution_count": 10,
   "id": "7ce1a36c",
   "metadata": {},
   "outputs": [
    {
     "name": "stdout",
     "output_type": "stream",
     "text": [
      "5\n"
     ]
    }
   ],
   "source": [
    "#get length of tuple\n",
    "print(len(tuple2))"
   ]
  },
  {
   "cell_type": "code",
   "execution_count": 11,
   "id": "cb1e6b29",
   "metadata": {},
   "outputs": [
    {
     "data": {
      "text/plain": [
       "[1, 2, 3, 6, 9, 10]"
      ]
     },
     "execution_count": 11,
     "metadata": {},
     "output_type": "execute_result"
    }
   ],
   "source": [
    "#Sort the tuple\n",
    "Ratings=(3,6,2,1,9,10)\n",
    "RatingsSorted=sorted(Ratings)\n",
    "RatingsSorted"
   ]
  },
  {
   "cell_type": "code",
   "execution_count": 2,
   "id": "66d8de01",
   "metadata": {},
   "outputs": [
    {
     "name": "stdout",
     "output_type": "stream",
     "text": [
      "Element 0 of Nested Tuple: 1\n",
      "Element 1 of Nested Tuple: 2\n",
      "Element 2 of Nested Tuple: ('pop', 'rock')\n",
      "Element 3 of Nested Tuple: (3, 4)\n",
      "Element 4 of Nested Tuple: ('disco', (10, 2.5))\n"
     ]
    }
   ],
   "source": [
    "NestedT=(1,2,(\"pop\",\"rock\"),(3,4),(\"disco\",(10,2.5)))\n",
    "print(\"Element 0 of Nested Tuple:\", NestedT[0])\n",
    "print(\"Element 1 of Nested Tuple:\", NestedT[1])\n",
    "print(\"Element 2 of Nested Tuple:\", NestedT[2])\n",
    "print(\"Element 3 of Nested Tuple:\", NestedT[3])\n",
    "print(\"Element 4 of Nested Tuple:\", NestedT[4])"
   ]
  },
  {
   "cell_type": "code",
   "execution_count": 4,
   "id": "b587c9a0",
   "metadata": {},
   "outputs": [
    {
     "name": "stdout",
     "output_type": "stream",
     "text": [
      "Element 2,0 of Tuple: pop\n",
      "Element 2,1 of Tuple: rock\n",
      "Element 3,0 of Tuple: 3\n",
      "Element 3,1 of Tuple: 4\n",
      "Element 4,0 of Tuple: disco\n",
      "Element 4,1 of Tuple: (10, 2.5)\n",
      "Element 4,1,0 of Tuple: 10\n",
      "Element 4,1,1 of Tuple: 2.5\n"
     ]
    }
   ],
   "source": [
    "print(\"Element 2,0 of Tuple:\", NestedT[2][0])\n",
    "print(\"Element 2,1 of Tuple:\", NestedT[2][1])\n",
    "print(\"Element 3,0 of Tuple:\", NestedT[3][0])\n",
    "print(\"Element 3,1 of Tuple:\", NestedT[3][1])\n",
    "print(\"Element 4,0 of Tuple:\", NestedT[4][0])\n",
    "print(\"Element 4,1 of Tuple:\", NestedT[4][1])\n",
    "print(\"Element 4,1,0 of Tuple:\", NestedT[4][1][0])\n",
    "print(\"Element 4,1,1 of Tuple:\", NestedT[4][1][1])"
   ]
  },
  {
   "cell_type": "code",
   "execution_count": 22,
   "id": "e2d09920",
   "metadata": {},
   "outputs": [
    {
     "data": {
      "text/plain": [
       "'r'"
      ]
     },
     "execution_count": 22,
     "metadata": {},
     "output_type": "execute_result"
    }
   ],
   "source": [
    "#prints first element in second nested tuple\n",
    "NestedT[2][1][0]"
   ]
  },
  {
   "cell_type": "code",
   "execution_count": 23,
   "id": "d2cc8ca3",
   "metadata": {},
   "outputs": [
    {
     "data": {
      "text/plain": [
       "'o'"
      ]
     },
     "execution_count": 23,
     "metadata": {},
     "output_type": "execute_result"
    }
   ],
   "source": [
    "#prints second element in second nested tuple\n",
    "NestedT[2][1][1]"
   ]
  },
  {
   "cell_type": "code",
   "execution_count": 25,
   "id": "dcdc83f2",
   "metadata": {},
   "outputs": [
    {
     "data": {
      "text/plain": [
       "('pop',\n",
       " 'rock',\n",
       " 'soul',\n",
       " 'hard rock',\n",
       " 'soft rock',\n",
       " 'R&B',\n",
       " 'progressive rock',\n",
       " 'disco')"
      ]
     },
     "execution_count": 25,
     "metadata": {},
     "output_type": "execute_result"
    }
   ],
   "source": [
    "genres_tuple = (\"pop\", \"rock\", \"soul\", \"hard rock\", \"soft rock\", \\\n",
    "                \"R&B\", \"progressive rock\", \"disco\") \n",
    "genres_tuple"
   ]
  },
  {
   "cell_type": "code",
   "execution_count": 26,
   "id": "2e4a6818",
   "metadata": {},
   "outputs": [
    {
     "name": "stdout",
     "output_type": "stream",
     "text": [
      "8\n"
     ]
    }
   ],
   "source": [
    "#prints the length of the tuple\n",
    "print(len(genres_tuple)) "
   ]
  },
  {
   "cell_type": "code",
   "execution_count": 27,
   "id": "29be9a28",
   "metadata": {},
   "outputs": [
    {
     "name": "stdout",
     "output_type": "stream",
     "text": [
      "hard rock\n"
     ]
    }
   ],
   "source": [
    "print(genres_tuple[3]) #element wrt index 3"
   ]
  },
  {
   "cell_type": "code",
   "execution_count": 29,
   "id": "328b020f",
   "metadata": {},
   "outputs": [
    {
     "name": "stdout",
     "output_type": "stream",
     "text": [
      "('hard rock', 'soft rock', 'R&B')\n"
     ]
    }
   ],
   "source": [
    "print(genres_tuple[3:6]) #slicing to obtain index 3,4,5"
   ]
  },
  {
   "cell_type": "code",
   "execution_count": 31,
   "id": "a84f0c8d",
   "metadata": {},
   "outputs": [
    {
     "name": "stdout",
     "output_type": "stream",
     "text": [
      "('pop', 'rock')\n"
     ]
    }
   ],
   "source": [
    "print(genres_tuple[0:2]) #first 2 elements in the tuple"
   ]
  },
  {
   "cell_type": "code",
   "execution_count": 32,
   "id": "987d32b7",
   "metadata": {},
   "outputs": [
    {
     "data": {
      "text/plain": [
       "7"
      ]
     },
     "execution_count": 32,
     "metadata": {},
     "output_type": "execute_result"
    }
   ],
   "source": [
    "genres_tuple.index(\"disco\") #first index of disco"
   ]
  },
  {
   "cell_type": "code",
   "execution_count": 34,
   "id": "42f723e8",
   "metadata": {},
   "outputs": [
    {
     "data": {
      "text/plain": [
       "[-5, -3, 1]"
      ]
     },
     "execution_count": 34,
     "metadata": {},
     "output_type": "execute_result"
    }
   ],
   "source": [
    "#performs sorting in the tuple\n",
    "C_tuple=(-5, 1, -3)\n",
    "SortedTuple=sorted(C_tuple)\n",
    "SortedTuple"
   ]
  },
  {
   "cell_type": "code",
   "execution_count": null,
   "id": "1dcd47d7",
   "metadata": {},
   "outputs": [],
   "source": []
  }
 ],
 "metadata": {
  "kernelspec": {
   "display_name": "Python 3 (ipykernel)",
   "language": "python",
   "name": "python3"
  },
  "language_info": {
   "codemirror_mode": {
    "name": "ipython",
    "version": 3
   },
   "file_extension": ".py",
   "mimetype": "text/x-python",
   "name": "python",
   "nbconvert_exporter": "python",
   "pygments_lexer": "ipython3",
   "version": "3.9.12"
  }
 },
 "nbformat": 4,
 "nbformat_minor": 5
}
