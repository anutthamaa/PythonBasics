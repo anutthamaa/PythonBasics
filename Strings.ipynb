{
 "cells": [
  {
   "cell_type": "code",
   "execution_count": 1,
   "id": "b28ed4f9",
   "metadata": {},
   "outputs": [
    {
     "name": "stdout",
     "output_type": "stream",
     "text": [
      "H\n",
      "d\n",
      "W\n"
     ]
    }
   ],
   "source": [
    "#Print first, 6th and last element in the string\n",
    "Name=\"Hello World\"\n",
    "print(Name[0])\n",
    "print(Name[-1])\n",
    "print(Name[6])"
   ]
  },
  {
   "cell_type": "code",
   "execution_count": 2,
   "id": "8243cc93",
   "metadata": {},
   "outputs": [
    {
     "data": {
      "text/plain": [
       "11"
      ]
     },
     "execution_count": 2,
     "metadata": {},
     "output_type": "execute_result"
    }
   ],
   "source": [
    "#To print the length of the string\n",
    "len(\"Hello World\")"
   ]
  },
  {
   "cell_type": "code",
   "execution_count": 3,
   "id": "73f60c69",
   "metadata": {},
   "outputs": [
    {
     "data": {
      "text/plain": [
       "'Hello'"
      ]
     },
     "execution_count": 3,
     "metadata": {},
     "output_type": "execute_result"
    }
   ],
   "source": [
    "#to implement slicing\n",
    "Name=\"Hello World\"\n",
    "Name[0:5]"
   ]
  },
  {
   "cell_type": "code",
   "execution_count": 4,
   "id": "7b1c1bba",
   "metadata": {},
   "outputs": [
    {
     "data": {
      "text/plain": [
       "'Worl'"
      ]
     },
     "execution_count": 4,
     "metadata": {},
     "output_type": "execute_result"
    }
   ],
   "source": [
    "#to implement slicing\n",
    "Name=\"Hello World\"\n",
    "Name[6:10]"
   ]
  },
  {
   "cell_type": "code",
   "execution_count": 5,
   "id": "5fc1c7f3",
   "metadata": {},
   "outputs": [
    {
     "name": "stdout",
     "output_type": "stream",
     "text": [
      "HloWrd\n",
      "H d\n",
      "Hlo\n",
      "eo\n",
      "Hello World from Python!\n",
      "Hello World from Python!Hello World from Python!Hello World from Python!\n"
     ]
    }
   ],
   "source": [
    "Name=\"Hello World\"\n",
    "x=Name[::2] #gets every 2nd element\n",
    "y=Name[::5] #gets every 5th element\n",
    "z=Name[0:5:2] #gets every 2nd element from range index 0- index 4\n",
    "a=Name[1:7:3] #gets every 3rd element from range index 1 - index 7\n",
    "Name=Name+\" from Python!\" #concatenating strings and assigning to Name\n",
    "c=3*Name #prints string for 3 times\n",
    "print(x)\n",
    "print(y)\n",
    "print(z)\n",
    "print(a)\n",
    "print(Name)\n",
    "print(c)"
   ]
  },
  {
   "cell_type": "code",
   "execution_count": 6,
   "id": "88f10fa3",
   "metadata": {},
   "outputs": [
    {
     "name": "stdout",
     "output_type": "stream",
     "text": [
      "Hello World\n",
      " from Python\n"
     ]
    }
   ],
   "source": [
    "#New line escape sequence\n",
    "print(\"Hello World\\n from Python\")"
   ]
  },
  {
   "cell_type": "code",
   "execution_count": 7,
   "id": "9f6d9f59",
   "metadata": {},
   "outputs": [
    {
     "name": "stdout",
     "output_type": "stream",
     "text": [
      "Hello World \t from Python\n"
     ]
    }
   ],
   "source": [
    "#tab escape sequence\n",
    "print(\"Hello World \\t from Python\")"
   ]
  },
  {
   "cell_type": "code",
   "execution_count": 8,
   "id": "99717fb9",
   "metadata": {},
   "outputs": [
    {
     "name": "stdout",
     "output_type": "stream",
     "text": [
      "Hello World \\ from Python\n"
     ]
    }
   ],
   "source": [
    "#include back slash in the string\n",
    "print(\"Hello World \\\\ from Python\")"
   ]
  },
  {
   "cell_type": "code",
   "execution_count": 9,
   "id": "3b88a7f6",
   "metadata": {},
   "outputs": [
    {
     "name": "stdout",
     "output_type": "stream",
     "text": [
      " Hello World \\ from Python\n"
     ]
    }
   ],
   "source": [
    "# r will tell python that string will be display as raw string\n",
    "print(r\" Hello World \\ from Python\" )"
   ]
  },
  {
   "cell_type": "code",
   "execution_count": 10,
   "id": "44afcf7d",
   "metadata": {},
   "outputs": [
    {
     "name": "stdout",
     "output_type": "stream",
     "text": [
      "Before upper: Hello World from Python!\n",
      "After upper: HELLO WORLD FROM PYTHON!\n"
     ]
    }
   ],
   "source": [
    "#converting strings to upper case\n",
    "a=\"Hello World from Python!\"\n",
    "print(\"Before upper:\", a)\n",
    "b=a.upper()\n",
    "print(\"After upper:\", b)"
   ]
  },
  {
   "cell_type": "code",
   "execution_count": 11,
   "id": "23896e0f",
   "metadata": {},
   "outputs": [
    {
     "data": {
      "text/plain": [
       "'Welcome from Python!'"
      ]
     },
     "execution_count": 11,
     "metadata": {},
     "output_type": "execute_result"
    }
   ],
   "source": [
    "#replacing strings\n",
    "a=\"Hello World from Python!\"\n",
    "b=a.replace(\"Hello World\",\"Welcome\")\n",
    "b"
   ]
  },
  {
   "cell_type": "code",
   "execution_count": 12,
   "id": "79d58629",
   "metadata": {},
   "outputs": [
    {
     "name": "stdout",
     "output_type": "stream",
     "text": [
      "0\n",
      "17\n",
      "-1\n"
     ]
    }
   ],
   "source": [
    "#finding substring in the string\n",
    "Name=\"Hello World from Python\"\n",
    "a=Name.find('He')\n",
    "b=Name.find('Python')\n",
    "c=Name.find('eeegggg') #if substring not found returns -1\n",
    "print(a)\n",
    "print(b)\n",
    "print(c)"
   ]
  },
  {
   "cell_type": "code",
   "execution_count": 13,
   "id": "443527fd",
   "metadata": {},
   "outputs": [
    {
     "data": {
      "text/plain": [
       "'1'"
      ]
     },
     "execution_count": 13,
     "metadata": {},
     "output_type": "execute_result"
    }
   ],
   "source": [
    "A =\"1\"\n",
    "A"
   ]
  },
  {
   "cell_type": "code",
   "execution_count": 14,
   "id": "2d98e0cd",
   "metadata": {},
   "outputs": [
    {
     "data": {
      "text/plain": [
       "'2'"
      ]
     },
     "execution_count": 14,
     "metadata": {},
     "output_type": "execute_result"
    }
   ],
   "source": [
    "B=\"2\"\n",
    "B"
   ]
  },
  {
   "cell_type": "code",
   "execution_count": 15,
   "id": "a55b8082",
   "metadata": {},
   "outputs": [
    {
     "data": {
      "text/plain": [
       "'12'"
      ]
     },
     "execution_count": 15,
     "metadata": {},
     "output_type": "execute_result"
    }
   ],
   "source": [
    "c=A+B\n",
    "c"
   ]
  },
  {
   "cell_type": "code",
   "execution_count": 16,
   "id": "1ce265c8",
   "metadata": {},
   "outputs": [
    {
     "data": {
      "text/plain": [
       "'ABC'"
      ]
     },
     "execution_count": 16,
     "metadata": {},
     "output_type": "execute_result"
    }
   ],
   "source": [
    "D=\"ABCDEFG\"\n",
    "D[0:3]"
   ]
  },
  {
   "cell_type": "code",
   "execution_count": 17,
   "id": "5581ceff",
   "metadata": {},
   "outputs": [
    {
     "data": {
      "text/plain": [
       "'correct'"
      ]
     },
     "execution_count": 17,
     "metadata": {},
     "output_type": "execute_result"
    }
   ],
   "source": [
    "E = 'clocrkr1e1c1t'\n",
    "E[::2]"
   ]
  },
  {
   "cell_type": "code",
   "execution_count": 18,
   "id": "58f53612",
   "metadata": {},
   "outputs": [
    {
     "name": "stdout",
     "output_type": "stream",
     "text": [
      "\\\n"
     ]
    }
   ],
   "source": [
    "print(\"\\\\\")"
   ]
  },
  {
   "cell_type": "code",
   "execution_count": 19,
   "id": "2e153eb8",
   "metadata": {},
   "outputs": [
    {
     "data": {
      "text/plain": [
       "'YOU ARE WRONG'"
      ]
     },
     "execution_count": 19,
     "metadata": {},
     "output_type": "execute_result"
    }
   ],
   "source": [
    "F=\"You are wrong\"\n",
    "F.upper()"
   ]
  },
  {
   "cell_type": "code",
   "execution_count": 20,
   "id": "ac92bdcd",
   "metadata": {},
   "outputs": [
    {
     "data": {
      "text/plain": [
       "95"
      ]
     },
     "execution_count": 20,
     "metadata": {},
     "output_type": "execute_result"
    }
   ],
   "source": [
    "G = \"Mary had a little lamb Little lamb, little lamb Mary had a little lamb \\\n",
    "Its fleece was white as snow And everywhere that Mary went Mary went, Mary went \\\n",
    "Everywhere that Mary went The lamb was sure to go\"\n",
    "G.find('snow')"
   ]
  },
  {
   "cell_type": "code",
   "execution_count": 21,
   "id": "81822fc7",
   "metadata": {},
   "outputs": [
    {
     "data": {
      "text/plain": [
       "'Bob had a little lamb Little lamb, little lamb Bob had a little lamb Its fleece was white as snow And everywhere that Bob went Bob went, Bob went Everywhere that Bob went The lamb was sure to go'"
      ]
     },
     "execution_count": 21,
     "metadata": {},
     "output_type": "execute_result"
    }
   ],
   "source": [
    "G.replace(\"Mary\",\"Bob\")"
   ]
  },
  {
   "cell_type": "code",
   "execution_count": null,
   "id": "0377e052",
   "metadata": {},
   "outputs": [],
   "source": []
  }
 ],
 "metadata": {
  "kernelspec": {
   "display_name": "Python 3 (ipykernel)",
   "language": "python",
   "name": "python3"
  },
  "language_info": {
   "codemirror_mode": {
    "name": "ipython",
    "version": 3
   },
   "file_extension": ".py",
   "mimetype": "text/x-python",
   "name": "python",
   "nbconvert_exporter": "python",
   "pygments_lexer": "ipython3",
   "version": "3.9.12"
  }
 },
 "nbformat": 4,
 "nbformat_minor": 5
}
