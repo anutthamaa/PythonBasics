{
 "cells": [
  {
   "cell_type": "code",
   "execution_count": 1,
   "id": "0d3e9a7a",
   "metadata": {},
   "outputs": [
    {
     "data": {
      "text/plain": [
       "False"
      ]
     },
     "execution_count": 1,
     "metadata": {},
     "output_type": "execute_result"
    }
   ],
   "source": [
    "#comparing strings with equality operator\n",
    "\"Anu\"==\"Akshaya\""
   ]
  },
  {
   "cell_type": "code",
   "execution_count": 2,
   "id": "bc9aa08c",
   "metadata": {},
   "outputs": [
    {
     "data": {
      "text/plain": [
       "True"
      ]
     },
     "execution_count": 2,
     "metadata": {},
     "output_type": "execute_result"
    }
   ],
   "source": [
    "#comparing strings with non-equality operator\n",
    "\"Anu\"!=\"Akshaya\""
   ]
  },
  {
   "cell_type": "code",
   "execution_count": 3,
   "id": "cedd3a0a",
   "metadata": {},
   "outputs": [
    {
     "data": {
      "text/plain": [
       "True"
      ]
     },
     "execution_count": 3,
     "metadata": {},
     "output_type": "execute_result"
    }
   ],
   "source": [
    "#checking the equality operator for integers\n",
    "i=2\n",
    "i==2"
   ]
  },
  {
   "cell_type": "code",
   "execution_count": 4,
   "id": "0eb6c6df",
   "metadata": {},
   "outputs": [
    {
     "data": {
      "text/plain": [
       "False"
      ]
     },
     "execution_count": 4,
     "metadata": {},
     "output_type": "execute_result"
    }
   ],
   "source": [
    "#checking the non-equality operator for integers\n",
    "i!=2"
   ]
  },
  {
   "cell_type": "code",
   "execution_count": 7,
   "id": "ff25f55f",
   "metadata": {},
   "outputs": [
    {
     "data": {
      "text/plain": [
       "True"
      ]
     },
     "execution_count": 7,
     "metadata": {},
     "output_type": "execute_result"
    }
   ],
   "source": [
    "#checking the greater than operator for integers\n",
    "i>-3"
   ]
  },
  {
   "cell_type": "code",
   "execution_count": 8,
   "id": "a686c3f6",
   "metadata": {},
   "outputs": [
    {
     "data": {
      "text/plain": [
       "False"
      ]
     },
     "execution_count": 8,
     "metadata": {},
     "output_type": "execute_result"
    }
   ],
   "source": [
    "#checking the lesser than operator for integers\n",
    "i<-3"
   ]
  },
  {
   "cell_type": "code",
   "execution_count": 9,
   "id": "afbe95b1",
   "metadata": {},
   "outputs": [
    {
     "data": {
      "text/plain": [
       "True"
      ]
     },
     "execution_count": 9,
     "metadata": {},
     "output_type": "execute_result"
    }
   ],
   "source": [
    "#comparison based on ASCII code\n",
    "'B'>'A'"
   ]
  },
  {
   "cell_type": "code",
   "execution_count": 11,
   "id": "860d22a3",
   "metadata": {},
   "outputs": [
    {
     "data": {
      "text/plain": [
       "False"
      ]
     },
     "execution_count": 11,
     "metadata": {},
     "output_type": "execute_result"
    }
   ],
   "source": [
    "#comparison based on ASCII code\n",
    "'A'>'B'"
   ]
  },
  {
   "cell_type": "code",
   "execution_count": 12,
   "id": "a5b9d77c",
   "metadata": {},
   "outputs": [
    {
     "data": {
      "text/plain": [
       "True"
      ]
     },
     "execution_count": 12,
     "metadata": {},
     "output_type": "execute_result"
    }
   ],
   "source": [
    "#comparison based on ASCII code\n",
    "#When there are multiple letters, the first letter takes precedence in ordering\n",
    "'BA'>'AB'"
   ]
  },
  {
   "cell_type": "code",
   "execution_count": 14,
   "id": "e55f4bbd",
   "metadata": {},
   "outputs": [
    {
     "name": "stdout",
     "output_type": "stream",
     "text": [
      "you can enter\n",
      "you can move on\n"
     ]
    }
   ],
   "source": [
    "#If statement\n",
    "age=19\n",
    "\n",
    "#expression to be checked\n",
    "if(age>18):\n",
    "    \n",
    "    #within an indent, we have the expression that is run if the condition is true\n",
    "    print(\"you can enter\")\n",
    "    \n",
    "#The statements after the if statement will run regardless if the condition is true or false \n",
    "print(\"you can move on\")"
   ]
  },
  {
   "cell_type": "code",
   "execution_count": 15,
   "id": "668576eb",
   "metadata": {},
   "outputs": [
    {
     "name": "stdout",
     "output_type": "stream",
     "text": [
      "Not eligible\n",
      "you can move on\n"
     ]
    }
   ],
   "source": [
    "#else statement example\n",
    "age=16\n",
    "\n",
    "if(age>18):\n",
    "    print(\"you can enter\")\n",
    "else:\n",
    "     print(\"Not eligible\")\n",
    "print(\"you can move on\")"
   ]
  },
  {
   "cell_type": "code",
   "execution_count": 16,
   "id": "dcf07add",
   "metadata": {},
   "outputs": [
    {
     "name": "stdout",
     "output_type": "stream",
     "text": [
      "enter Pink FLoyd\n",
      "you can move on\n"
     ]
    }
   ],
   "source": [
    "#elif statement example\n",
    "age=18\n",
    "\n",
    "if(age>18):\n",
    "    print(\"enter ACDC concert\")\n",
    "elif (age==18):\n",
    "    print(\"enter Pink FLoyd\")\n",
    "else:\n",
    "    print(\"enter Meat loaf\")\n",
    "print(\"you can move on\")"
   ]
  },
  {
   "cell_type": "code",
   "execution_count": 22,
   "id": "a5f8e424",
   "metadata": {},
   "outputs": [
    {
     "name": "stdout",
     "output_type": "stream",
     "text": [
      "Album does not lie between 1975 and 1995\n"
     ]
    }
   ],
   "source": [
    "#condition statement AND\n",
    "album_year=1960\n",
    "if(album_year>1975) and (album_year<1995):\n",
    "    print(\"Album lies between year 1975 and 1995\")\n",
    "else:\n",
    "    print(\"Album does not lie between 1975 and 1995\")"
   ]
  },
  {
   "cell_type": "code",
   "execution_count": 2,
   "id": "6061eba9",
   "metadata": {},
   "outputs": [
    {
     "name": "stdout",
     "output_type": "stream",
     "text": [
      "Album lies between year 1975 and 1995\n"
     ]
    }
   ],
   "source": [
    "#condition statement OR\n",
    "album_year=1979\n",
    "if(album_year>1975) or (album_year<1995):\n",
    "    print(\"Album lies between year 1975 and 1995\")\n",
    "else:\n",
    "    print(\"Album does not lie between 1975 and 1995\")"
   ]
  },
  {
   "cell_type": "code",
   "execution_count": 23,
   "id": "e8c68a1d",
   "metadata": {},
   "outputs": [
    {
     "name": "stdout",
     "output_type": "stream",
     "text": [
      "Album year is not 1975\n"
     ]
    }
   ],
   "source": [
    "#condition statement NOT\n",
    "album_year=1960\n",
    "if(album_year!=1975):\n",
    "    print(\"Album year is not 1975\")\n",
    "else:\n",
    "    print(\"Album year is 1975\")"
   ]
  },
  {
   "cell_type": "code",
   "execution_count": 24,
   "id": "daa997fe",
   "metadata": {},
   "outputs": [
    {
     "name": "stdout",
     "output_type": "stream",
     "text": [
      "Back in black album is amazing\n"
     ]
    }
   ],
   "source": [
    "album_rating=8.5\n",
    "if(album_rating>8):\n",
    "    print(\"Back in black album is amazing\")"
   ]
  },
  {
   "cell_type": "code",
   "execution_count": 26,
   "id": "87a96220",
   "metadata": {},
   "outputs": [
    {
     "name": "stdout",
     "output_type": "stream",
     "text": [
      "Album is good\n"
     ]
    }
   ],
   "source": [
    "album_rating=8\n",
    "if(album_rating>8):\n",
    "    print(\"Album is amazing\")\n",
    "elif(album_rating==8):\n",
    "    print(\"Album is good\")\n",
    "else:\n",
    "    print(\"Album is okay\")"
   ]
  },
  {
   "cell_type": "code",
   "execution_count": null,
   "id": "728d2e76",
   "metadata": {},
   "outputs": [],
   "source": []
  }
 ],
 "metadata": {
  "kernelspec": {
   "display_name": "Python 3 (ipykernel)",
   "language": "python",
   "name": "python3"
  },
  "language_info": {
   "codemirror_mode": {
    "name": "ipython",
    "version": 3
   },
   "file_extension": ".py",
   "mimetype": "text/x-python",
   "name": "python",
   "nbconvert_exporter": "python",
   "pygments_lexer": "ipython3",
   "version": "3.9.12"
  }
 },
 "nbformat": 4,
 "nbformat_minor": 5
}
