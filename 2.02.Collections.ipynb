{
 "cells": [
  {
   "cell_type": "markdown",
   "metadata": {},
   "source": [
    "# Collections\n",
    "Collections are objects(variable) that can holds more than one constant\n",
    "\n",
    "Some of the collections supported by Python is:\n",
    "1. Tuples\n",
    "2. List\n",
    "3. Dictionaries\n",
    "4. Sets\n",
    "\n",
    "\n",
    "When it comes to variables and collections in Python, there exists two forms of collections\n",
    "1. ***Immutable Collections***\n",
    "   They are those collections which once loaded, **cannot be changed** at any point in time\n",
    "   Immutable is useful in a situation where you want to ensure the data will never change either by user or by system\n",
    " \n",
    "2. ***Mutable Collections***\n",
    "   They are those collections which allow you to **change the data** at any point in time\n",
    "   Mutable collections are useful in a situation where you will be reusing your memory for operations\n"
   ]
  },
  {
   "cell_type": "markdown",
   "metadata": {},
   "source": [
    "## Tuples\n",
    "\n",
    "- A tuple is a one-dimensional, fixed-length, **immutable** sequence of Python objects. Immutable implies that its content cannot be modified.\n",
    "\n",
    "- The easiest way to create a tuple is to provide a **comma-separated sequence of values**. In this example, a tuple is assigned a bunch of mixed comma separated data type values enclosed within **parentheses**.\n",
    "\n",
    "- Let’s view it by referencing the tuple object. To access the tuple element at index 1, use the syntax shown here. The index usually starts from 0. \n",
    "\n",
    "- If you try to modify the value at a specified index, it throws an error since a tuple is immutable."
   ]
  },
  {
   "cell_type": "code",
   "execution_count": null,
   "metadata": {},
   "outputs": [],
   "source": [
    "tup1 = ('physics', \"chemistry\", 1997, 2000)\n",
    "print (tup1)"
   ]
  },
  {
   "cell_type": "markdown",
   "metadata": {},
   "source": [
    "### Update Tuple"
   ]
  },
  {
   "cell_type": "code",
   "execution_count": 1,
   "metadata": {
    "tags": []
   },
   "outputs": [
    {
     "name": "stdout",
     "output_type": "stream",
     "text": [
      "('physics', 'chemistry', 1997, 2000)\n",
      "\n",
      "1997\n"
     ]
    },
    {
     "ename": "TypeError",
     "evalue": "'tuple' object does not support item assignment",
     "output_type": "error",
     "traceback": [
      "\u001b[1;31m---------------------------------------------------------------------------\u001b[0m",
      "\u001b[1;31mTypeError\u001b[0m                                 Traceback (most recent call last)",
      "Input \u001b[1;32mIn [1]\u001b[0m, in \u001b[0;36m<cell line: 9>\u001b[1;34m()\u001b[0m\n\u001b[0;32m      5\u001b[0m \u001b[38;5;28mprint\u001b[39m ()     \u001b[38;5;66;03m#========================== Blank print\u001b[39;00m\n\u001b[0;32m      7\u001b[0m \u001b[38;5;28mprint\u001b[39m (tup1[\u001b[38;5;241m2\u001b[39m]) \u001b[38;5;66;03m# access the value at index 2\u001b[39;00m\n\u001b[1;32m----> 9\u001b[0m tup1[\u001b[38;5;241m2\u001b[39m] \u001b[38;5;241m=\u001b[39m \u001b[38;5;124m\"\u001b[39m\u001b[38;5;124mmaths\u001b[39m\u001b[38;5;124m\"\u001b[39m\n",
      "\u001b[1;31mTypeError\u001b[0m: 'tuple' object does not support item assignment"
     ]
    }
   ],
   "source": [
    "tup1 = ('physics', \"chemistry\", 1997, 2000)\n",
    "\n",
    "print (tup1)\n",
    "\n",
    "print ()     #========================== Blank print\n",
    "\n",
    "print (tup1[2]) # access the value at index 2\n",
    "\n",
    "tup1[2] = \"maths\" # update 1997 to maths\n",
    "\n",
    "# TypeError: 'tuple' object does not support item assignment"
   ]
  },
  {
   "cell_type": "markdown",
   "metadata": {},
   "source": [
    "### Delete an element of the Tuple"
   ]
  },
  {
   "cell_type": "code",
   "execution_count": null,
   "metadata": {
    "tags": []
   },
   "outputs": [],
   "source": [
    "tup1 = ('physics', \"chemistry\", 1997, 2000)\n",
    "\n",
    "print (tup1)\n",
    "\n",
    "print ()     #========================== Blank print\n",
    "\n",
    "print (tup1[2]) # access the value at index 2\n",
    "\n",
    "del tup1[2]  # deleting 1997\n",
    "\n",
    "# TypeError: 'tuple' object doesn't support item deletion"
   ]
  },
  {
   "cell_type": "markdown",
   "metadata": {},
   "source": [
    "### Some Operations on Tuple\n",
    "- We can use the index of an element to view and access it. To access elements with the help of positive indices, count from the left, starting with 0. \n",
    "\n",
    "- You can also use negative indices by counting from the right, starting with -1. Negative indices are useful as they help you to easily refer to elements at the end of a long tuple.\n",
    "\n",
    "- Once you have seen how to access individual elements in a tuple. You can also access a range or slice of elements within a tuple. \n",
    "\n",
    "- Slicing allows you to create a subset of the tuple. To slice a tuple, mention the indices of the first element and that of the element immediately after the last element. This is because while the first index is inclusive, the second one is not. \n",
    "\n",
    "- For example, here we can see that referencing indices 1 to 4, creates a tuple subset containing the elements from index 1 to 3.\n",
    "\n",
    "- You can also use negative indices to slice tuples, as shown here."
   ]
  },
  {
   "cell_type": "code",
   "execution_count": null,
   "metadata": {},
   "outputs": [],
   "source": [
    "tup1 = ('abcd', 786, 2.23, 'john', 70.2)\n",
    "tinytuple = (123, 'jane')\n",
    "print (tup1)\n",
    "print ()\n",
    "print (tinytuple)"
   ]
  },
  {
   "cell_type": "code",
   "execution_count": null,
   "metadata": {},
   "outputs": [],
   "source": [
    "print (tup1[0])\n",
    "print()             # for space\n",
    "\n",
    "print (tup1[1:3])\n",
    "print()\n",
    "\n",
    "print (tup1[2:])      # access the ele at 2nd index till the end\n",
    "print()\n",
    "\n",
    "print (tinytuple * 2) # repetition\n",
    "print()\n",
    "\n",
    "print (tup1 + tinytuple) # concat"
   ]
  },
  {
   "cell_type": "markdown",
   "metadata": {},
   "source": [
    "# Lists\n",
    "\n",
    "- In contrast with tuples, the length of lists is variable and their contents can be modified. They can be defined using square brackets **[ ]**. \n",
    "\n",
    "- Here, a list is defined using **comma separated values** of mixed data types. \n",
    "\n",
    "- We can view the content of the list by just referring to the list object. \n",
    "\n",
    "- You can use the append method to add a value to the list. Note that this value gets added to the end of the list. \n",
    "\n",
    "- We can also remove any particular item by just referring to the element value. \n",
    "\n",
    "- Use the pop method to simultaneously view and remove the value at a particular index. \n",
    "\n",
    "- Similarly, use the insert method to insert a value at a particular index. "
   ]
  },
  {
   "cell_type": "code",
   "execution_count": null,
   "metadata": {},
   "outputs": [],
   "source": [
    "CL = [100, 5.2, 'class', True]\n",
    "print (CL)"
   ]
  },
  {
   "cell_type": "code",
   "execution_count": null,
   "metadata": {},
   "outputs": [],
   "source": [
    "### Update List"
   ]
  },
  {
   "cell_type": "code",
   "execution_count": null,
   "metadata": {},
   "outputs": [],
   "source": [
    "List1 = ['physics', \"chemistry\", 1997, 2000]\n",
    "print (List1)\n",
    "print ()                                          #========================== Blank print\n",
    "\n",
    "print ('Original Value at Index 2 = ', List1[2])          # access the value at index 2\n",
    "List1[2] = \"maths\" # update 1997 to maths\n",
    "print ()        \n",
    "\n",
    "print ('Updated Value at Index 2 = ', List1[2]) # access the value at index 2\n",
    "print ()\n",
    "print ('Updated List = ', List1)"
   ]
  },
  {
   "cell_type": "markdown",
   "metadata": {},
   "source": [
    "### Deleting an element of the List"
   ]
  },
  {
   "cell_type": "code",
   "execution_count": null,
   "metadata": {},
   "outputs": [],
   "source": [
    "List1 = ['physics', \"chemistry\", 1997, 2000]\n",
    "print (List1)\n",
    "print ()                                      #========================== Blank print\n",
    "\n",
    "print ('Original Value at Index 2 = ', List1[2])          # access the value at index 2\n",
    "\n",
    "del List1[2]\n",
    "\n",
    "print ()\n",
    "print ('Updated Value at Index 2 = ', List1[2]) # access the value at index 2\n",
    "\n",
    "print ()\n",
    "print ('Updated List = ', List1)"
   ]
  },
  {
   "cell_type": "code",
   "execution_count": null,
   "metadata": {},
   "outputs": [],
   "source": [
    "# Accessing values from the list\n",
    "list1 = ['physics', 'chemistry', 1997, 2000]\n",
    "list2 = [1,2,3,4,5,6,7]\n",
    "\n",
    "print (list1)\n",
    "print ()\n",
    "print (list2)"
   ]
  },
  {
   "cell_type": "code",
   "execution_count": null,
   "metadata": {},
   "outputs": [],
   "source": [
    "print (list1[0])\n",
    "print (list2[1:5]) # [Start : Stop - 1]"
   ]
  },
  {
   "cell_type": "code",
   "execution_count": null,
   "metadata": {},
   "outputs": [],
   "source": [
    "aList = [123, 'xyz', 'zara', 'abc']\n",
    "bList = [2009, 'mani']\n",
    "\n",
    "print (aList)\n",
    "print (bList)\n",
    "print ()\n",
    "print (aList + bList) # concat\n",
    "print (bList + aList)\n",
    "print ()\n",
    "print (aList * 2) # repetition"
   ]
  },
  {
   "cell_type": "markdown",
   "metadata": {},
   "source": [
    "## Inbuilt function in List"
   ]
  },
  {
   "cell_type": "code",
   "execution_count": null,
   "metadata": {},
   "outputs": [],
   "source": [
    "# list append() -- Modify - adding a new value - appends an element to the end of the list\n",
    "\n",
    "aList = [123, 'xyz', 'zara', 'abc']\n",
    "print ('Original List : ', aList)\n",
    "print ()\n",
    "\n",
    "aList.append(2009)\n",
    "\n",
    "print ('Updated List : ', aList)"
   ]
  },
  {
   "cell_type": "code",
   "execution_count": null,
   "metadata": {},
   "outputs": [],
   "source": [
    "# Modify a list: Insert a new item at a certain index\n",
    "\n",
    "aList = [123, 'xyz', 'zara', 'abc']\n",
    "print ('Original List : ', aList)\n",
    "print ()\n",
    "\n",
    "aList.insert(2, 2009) # index and value --- insert 2009 at index 2\n",
    "print ('Updated List : ', aList)"
   ]
  },
  {
   "cell_type": "code",
   "execution_count": null,
   "metadata": {
    "tags": []
   },
   "outputs": [],
   "source": [
    "# Shows the index of an element - The index() method returns the position at the first occurrence of the specified value.\n",
    "\n",
    "aList = [123, 'xyz', 'zara', 'abc', 123]\n",
    "\n",
    "print (aList.index('xyz'))\n",
    "print (aList.index('zara'))\n",
    "print (aList.index(123))\n",
    "print (aList.index(\"XYZ\")) # ValueError: 'XYZ' is not in list"
   ]
  },
  {
   "cell_type": "code",
   "execution_count": null,
   "metadata": {},
   "outputs": [],
   "source": [
    "# Remove - element -- Modifying the list\n",
    "# remove deletes the item, does not display anything\n",
    "\n",
    "aList = [123, 'xyz', 'zara', 'abc']\n",
    "print ('List = ', aList)\n",
    "print ()\n",
    "\n",
    "aList.remove(\"xyz\")\n",
    "print ('List = ', aList)\n",
    "print ()\n",
    "\n",
    "aList.remove(\"zara\")\n",
    "print ('List = ', aList)"
   ]
  },
  {
   "cell_type": "code",
   "execution_count": null,
   "metadata": {
    "tags": []
   },
   "outputs": [],
   "source": [
    "# pop() - The pop() method removes the item at the given index from the list and returns the removed item.\n",
    "\n",
    "aList = [123, 'xyz', 'zara', 'abc']\n",
    "print ('List = ', aList)\n",
    "print ()\n",
    "\n",
    "print (aList.pop(2))\n",
    "print ()\n",
    "print ('List = ', aList)\n",
    "print ()\n",
    "\n",
    "print (aList.pop()) # print the element or value which will be dropped. when no indice is mentioned picks the last one\n",
    "print ()\n",
    "print ('List = ', aList)"
   ]
  },
  {
   "cell_type": "code",
   "execution_count": null,
   "metadata": {},
   "outputs": [],
   "source": [
    "# The sort() method sorts the list ascending by default.\n",
    "\n",
    "list3 = [4,56,987,0,45,33,67,456,33,23]\n",
    "print (list3)\n",
    "print ()\n",
    "\n",
    "list3.sort() # ascending == reverse=False\n",
    "print (list3)\n",
    "print ()\n",
    "\n",
    "list3.sort(reverse=True) # descending\n",
    "print (list3)"
   ]
  },
  {
   "cell_type": "markdown",
   "metadata": {},
   "source": [
    "# Positive and Negative indice in List"
   ]
  },
  {
   "cell_type": "markdown",
   "metadata": {},
   "source": [
    "- As you have learned earlier, positive indices are counted from the left, starting with 0. By providing the positive index, we can access the specified list element. \n",
    "\n",
    "- Recall that negative indices are counted from the right, starting with -1. Since -2 refers to the second element from the right in the list, the value 5.2 is generated as the output."
   ]
  },
  {
   "cell_type": "code",
   "execution_count": null,
   "metadata": {},
   "outputs": [],
   "source": [
    "print (CL)"
   ]
  },
  {
   "cell_type": "code",
   "execution_count": null,
   "metadata": {},
   "outputs": [],
   "source": [
    "print (CL[0])\n",
    "print (CL[1])\n",
    "print (CL[2])\n",
    "print (CL[3])"
   ]
  },
  {
   "cell_type": "code",
   "execution_count": null,
   "metadata": {},
   "outputs": [],
   "source": [
    "print (CL[-4])\n",
    "print (CL[-3])\n",
    "print (CL[-2])\n",
    "print (CL[-1])"
   ]
  },
  {
   "cell_type": "markdown",
   "metadata": {},
   "source": [
    "# Dictionary\n",
    "\n",
    "- Dictionary is likely the most important built-in Python data structure. \n",
    "- A dictionary is a **flexibly-sized collection of key-value pairs**, where keys and values are Python objects.\n",
    "\n",
    "- Dictionaries store a mapping between **a set of keys** and **a set of values**. \n",
    "- Keys are variables, and they are listed together with the values assigned to them. This forms a key-value pair. \n",
    "- The keys can be of any **immutable** type and the values can be of any type. "
   ]
  },
  {
   "cell_type": "code",
   "execution_count": null,
   "metadata": {},
   "outputs": [],
   "source": [
    "dict1 = {'Name' : \"Zara\",\n",
    "         'Age' : 7, \n",
    "         'Class' : 'First'}\n",
    "print (dict1)"
   ]
  },
  {
   "cell_type": "code",
   "execution_count": null,
   "metadata": {},
   "outputs": [],
   "source": [
    "dict1 = {'Name' : \"Zara\", 'Age' : 7, 'Class' : 'First'}\n",
    "print (dict1)"
   ]
  },
  {
   "cell_type": "code",
   "execution_count": null,
   "metadata": {},
   "outputs": [],
   "source": [
    "dict1.keys() # View only keys"
   ]
  },
  {
   "cell_type": "code",
   "execution_count": null,
   "metadata": {},
   "outputs": [],
   "source": [
    "print (dict1.values()) # View only values"
   ]
  },
  {
   "cell_type": "code",
   "execution_count": null,
   "metadata": {},
   "outputs": [],
   "source": [
    "print (dict1.items()) # key-value pair"
   ]
  },
  {
   "cell_type": "code",
   "execution_count": null,
   "metadata": {
    "tags": []
   },
   "outputs": [],
   "source": [
    "dict1[0]"
   ]
  },
  {
   "cell_type": "markdown",
   "metadata": {},
   "source": [
    "- The Python Dictionary object provides a key:value indexing facility. \n",
    "- Note that dictionaries are unordered - since the values in the dictionary are indexed by keys, they are not held in any particular order, unlike a list, where each item can be located by its position in the list.\n",
    "- Dict by default maintains the data in sorted manner based on key part of the data"
   ]
  },
  {
   "cell_type": "code",
   "execution_count": null,
   "metadata": {},
   "outputs": [],
   "source": [
    "# To extract data from dictionary, we need to use key\n",
    "\n",
    "dict1['Name']"
   ]
  },
  {
   "cell_type": "markdown",
   "metadata": {},
   "source": [
    "# Updating the Dict"
   ]
  },
  {
   "cell_type": "code",
   "execution_count": null,
   "metadata": {},
   "outputs": [],
   "source": [
    "dict1 = {'Name': 'Zara', 'Age': 7, 'Class': 'First'}\n",
    "print (dict1)\n",
    "print ()\n",
    "\n",
    "print (dict1[\"Age\"])\n",
    "print ()\n",
    "\n",
    "dict1[\"Age\"] = [7,8]  # updating/ modifying a value\n",
    "print (dict1)\n",
    "print ()\n",
    "\n",
    "dict1['School'] = 'DPS' # adding a key value pair\n",
    "print (dict1)"
   ]
  },
  {
   "cell_type": "markdown",
   "metadata": {},
   "source": [
    "## Keys are immutable"
   ]
  },
  {
   "cell_type": "code",
   "execution_count": null,
   "metadata": {},
   "outputs": [],
   "source": [
    "dict1 = {['Name']: 'Zara', 'Age': 7, 'Class': 'First'}\n",
    "print (dict1)\n",
    "print ()\n",
    "\n",
    "# TypeError: unhashable type: 'list'\n",
    "# keys are immutable. list are mutable hence the error"
   ]
  },
  {
   "cell_type": "code",
   "execution_count": null,
   "metadata": {},
   "outputs": [],
   "source": [
    "dict1 = {('Name'): 'Zara', 'Age': 7, 'Class': 'First'}\n",
    "print (dict1)"
   ]
  },
  {
   "cell_type": "markdown",
   "metadata": {},
   "source": [
    "# Clear Dictionary"
   ]
  },
  {
   "cell_type": "code",
   "execution_count": null,
   "metadata": {},
   "outputs": [],
   "source": [
    "dict1.clear()\n",
    "print (dict1) # empty the dictionary"
   ]
  },
  {
   "cell_type": "markdown",
   "metadata": {},
   "source": [
    "# Del Dictionary"
   ]
  },
  {
   "cell_type": "code",
   "execution_count": null,
   "metadata": {},
   "outputs": [],
   "source": [
    "del (dict1)\n",
    "print (dict1) # error"
   ]
  },
  {
   "cell_type": "markdown",
   "metadata": {},
   "source": [
    "# Tuple vs List vs Dictionary"
   ]
  },
  {
   "cell_type": "code",
   "execution_count": null,
   "metadata": {},
   "outputs": [],
   "source": [
    "A = ()\n",
    "print (A)\n",
    "print (type(A))\n",
    "print ()\n",
    "\n",
    "B = []\n",
    "print (B)\n",
    "print (type(B))\n",
    "print ()\n",
    "\n",
    "C = {}\n",
    "print (C)\n",
    "print (type(C))"
   ]
  },
  {
   "cell_type": "markdown",
   "metadata": {},
   "source": [
    "# Sets\n",
    "\n",
    "SET IS A COLLECTION OF UNIQUE ELEMENTS\n",
    "\n",
    "unique - no duplicate values "
   ]
  },
  {
   "cell_type": "code",
   "execution_count": null,
   "metadata": {},
   "outputs": [],
   "source": [
    "# defining a set\n",
    "\n",
    "x = set()\n",
    "print (x)\n",
    "print (type(x))"
   ]
  },
  {
   "cell_type": "code",
   "execution_count": null,
   "metadata": {},
   "outputs": [],
   "source": [
    "# to add a value to a set setname.add(value)\n",
    "\n",
    "x.add(1)\n",
    "print (x)"
   ]
  },
  {
   "cell_type": "code",
   "execution_count": null,
   "metadata": {},
   "outputs": [],
   "source": [
    "x.add(20)\n",
    "print(x)\n",
    "print ()\n",
    "\n",
    "x.add(200)\n",
    "print(x)\n",
    "print ()\n",
    "\n",
    "x.add(20)\n",
    "print(x)\n",
    "print ()"
   ]
  },
  {
   "cell_type": "code",
   "execution_count": null,
   "metadata": {},
   "outputs": [],
   "source": [
    "x.add(50000)\n",
    "print(x)\n",
    "print ()\n",
    "\n",
    "x.add(10000)\n",
    "print(x)"
   ]
  },
  {
   "cell_type": "markdown",
   "metadata": {},
   "source": [
    "**Sets are unordered** the items has no index."
   ]
  },
  {
   "cell_type": "code",
   "execution_count": null,
   "metadata": {},
   "outputs": [],
   "source": [
    "x.add(\"apple\")\n",
    "x.add('cherry')\n",
    "x"
   ]
  },
  {
   "cell_type": "code",
   "execution_count": null,
   "metadata": {},
   "outputs": [],
   "source": []
  }
 ],
 "metadata": {
  "kernelspec": {
   "display_name": "Python 3 (ipykernel)",
   "language": "python",
   "name": "python3"
  },
  "language_info": {
   "codemirror_mode": {
    "name": "ipython",
    "version": 3
   },
   "file_extension": ".py",
   "mimetype": "text/x-python",
   "name": "python",
   "nbconvert_exporter": "python",
   "pygments_lexer": "ipython3",
   "version": "3.9.12"
  }
 },
 "nbformat": 4,
 "nbformat_minor": 4
}
