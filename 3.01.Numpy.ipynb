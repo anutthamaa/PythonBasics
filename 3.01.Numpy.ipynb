{
 "cells": [
  {
   "cell_type": "markdown",
   "metadata": {},
   "source": [
    "# Limitations of Lists"
   ]
  },
  {
   "cell_type": "markdown",
   "metadata": {},
   "source": [
    "You have already seen what lists are and what you can do with them. To quickly recap, a list is a basic Python data structure which can hold multiple values of multiple data types such as integers, floats, strings, and so on. \n",
    "\n",
    "In this example, we have two lists “distance” and “speed.” Each list holds four different readings. These readings correspond to each other. "
   ]
  },
  {
   "cell_type": "code",
   "execution_count": 1,
   "metadata": {},
   "outputs": [],
   "source": [
    "distance = [100, 15, 900, 60]\n",
    "speed = [20, 0.75, 90, 5]"
   ]
  },
  {
   "cell_type": "code",
   "execution_count": 2,
   "metadata": {
    "collapsed": true,
    "jupyter": {
     "outputs_hidden": true
    },
    "tags": []
   },
   "outputs": [
    {
     "ename": "TypeError",
     "evalue": "unsupported operand type(s) for /: 'list' and 'list'",
     "output_type": "error",
     "traceback": [
      "\u001b[0;31m---------------------------------------------------------------------------\u001b[0m",
      "\u001b[0;31mTypeError\u001b[0m                                 Traceback (most recent call last)",
      "\u001b[0;32m<ipython-input-2-2d86d4fb96d3>\u001b[0m in \u001b[0;36m<module>\u001b[0;34m\u001b[0m\n\u001b[0;32m----> 1\u001b[0;31m \u001b[0mtime\u001b[0m \u001b[0;34m=\u001b[0m \u001b[0mdistance\u001b[0m\u001b[0;34m/\u001b[0m\u001b[0mspeed\u001b[0m\u001b[0;34m\u001b[0m\u001b[0;34m\u001b[0m\u001b[0m\n\u001b[0m\u001b[1;32m      2\u001b[0m \u001b[0mtime\u001b[0m\u001b[0;34m\u001b[0m\u001b[0;34m\u001b[0m\u001b[0m\n\u001b[1;32m      3\u001b[0m \u001b[0;34m\u001b[0m\u001b[0m\n\u001b[1;32m      4\u001b[0m \u001b[0;31m# TypeError: unsupported operand type(s) for /: 'list' and 'list'\u001b[0m\u001b[0;34m\u001b[0m\u001b[0;34m\u001b[0m\u001b[0;34m\u001b[0m\u001b[0m\n",
      "\u001b[0;31mTypeError\u001b[0m: unsupported operand type(s) for /: 'list' and 'list'"
     ]
    }
   ],
   "source": [
    "time = distance/speed\n",
    "time\n",
    "\n",
    "# TypeError: unsupported operand type(s) for /: 'list' and 'list'"
   ]
  },
  {
   "cell_type": "code",
   "execution_count": 4,
   "metadata": {},
   "outputs": [
    {
     "data": {
      "text/plain": [
       "[5.0, 20.0, 10.0, 12.0]"
      ]
     },
     "execution_count": 4,
     "metadata": {},
     "output_type": "execute_result"
    }
   ],
   "source": [
    "distance = [100, 15, 900, 60]\n",
    "speed = [20, 0.75, 90, 5]\n",
    "L3 = []\n",
    "\n",
    "def DivList(L1, L2):\n",
    "    l1 = len(L1)\n",
    "    l2 = len(L2)\n",
    "    if l1 is not l2:\n",
    "        print (\"Error can not add two lists\")\n",
    "    for i in range(0, l1):\n",
    "        L3.append(L1[i] / L2[i])\n",
    "    return L3\n",
    "\n",
    "DivList(distance, speed)"
   ]
  },
  {
   "cell_type": "markdown",
   "metadata": {},
   "source": [
    "Using these lists, if you try to calculate the time, which is equal to distance over time, it will give you an error. That’s because mathematical functions can’t be applied over an entire list. Now, let’s see how **NumPy** solves this problem.\n",
    "\n",
    "**A Python library is a collection of related modules. It contains bundles of code that can be used repeatedly in different programs.**"
   ]
  },
  {
   "cell_type": "markdown",
   "metadata": {},
   "source": [
    "# Numpy\n",
    "\n",
    "NumPy is a Python library that supports a data container called arrays. **Arrays are like lists, but they can do something that lists can’t.** They easily allow you to **apply mathematical operations over the entire dataset**. Let’s see how this works. \n",
    "\n",
    "First, you need to import the NumPy library. You then need to convert the ‘distance’ and ‘time’ lists into NumPy arrays. Apply the formula for time using these arrays. You can see that NumPy easily generates an output for each of the four readings. \n",
    "\n",
    "This property of NumPy makes a Data Scientist’s job much easier, because it helps them to easily manipulate data by applying mathematical functions over a given dataset."
   ]
  },
  {
   "cell_type": "code",
   "execution_count": 5,
   "metadata": {},
   "outputs": [],
   "source": [
    "import numpy as np # calling the library with import and giving it an alias\n",
    "\n",
    "# sqrt == np.sqrt\n",
    "# sqrt == numpy.sqrt"
   ]
  },
  {
   "cell_type": "code",
   "execution_count": 6,
   "metadata": {},
   "outputs": [],
   "source": [
    "np_distance = np.array(distance)\n",
    "np_speed = np.array(speed)"
   ]
  },
  {
   "cell_type": "code",
   "execution_count": 7,
   "metadata": {},
   "outputs": [
    {
     "data": {
      "text/plain": [
       "array([100,  15, 900,  60])"
      ]
     },
     "execution_count": 7,
     "metadata": {},
     "output_type": "execute_result"
    }
   ],
   "source": [
    "np_distance"
   ]
  },
  {
   "cell_type": "code",
   "execution_count": 8,
   "metadata": {},
   "outputs": [
    {
     "data": {
      "text/plain": [
       "array([20.  ,  0.75, 90.  ,  5.  ])"
      ]
     },
     "execution_count": 8,
     "metadata": {},
     "output_type": "execute_result"
    }
   ],
   "source": [
    "np_speed"
   ]
  },
  {
   "cell_type": "code",
   "execution_count": 9,
   "metadata": {},
   "outputs": [
    {
     "data": {
      "text/plain": [
       "array([ 5., 20., 10., 12.])"
      ]
     },
     "execution_count": 9,
     "metadata": {},
     "output_type": "execute_result"
    }
   ],
   "source": [
    "time = np_distance/np_speed\n",
    "time"
   ]
  },
  {
   "cell_type": "markdown",
   "metadata": {},
   "source": [
    "### Arrays\n",
    "\n",
    "- Arrays can be one-dimensional, two-dimensional, or multi-dimensional. \n",
    "- The best way to visualize an array is as rows and columns. You can also look at it by its dimensional axes or rank. \n",
    "- You can think of a one-dimensional array as a single row of values. So, a one-dimensional array has one axis or rank 1. \n",
    "- Two-dimensional arrays can be visualized with rows and columns. This means that it has two axes or rank 2. \n",
    "- A three-dimensional array has three axes and can be visualized as a cube which has height, width, and length.\n",
    "- Similarly, multi-dimensional arrays have multiple axes."
   ]
  },
  {
   "cell_type": "markdown",
   "metadata": {},
   "source": [
    "# Creating and Printing an array"
   ]
  },
  {
   "cell_type": "code",
   "execution_count": 10,
   "metadata": {},
   "outputs": [
    {
     "name": "stdout",
     "output_type": "stream",
     "text": [
      "[1 2 3 4 5 6]\n",
      "<class 'numpy.ndarray'>\n"
     ]
    },
    {
     "data": {
      "text/plain": [
       "array([1, 2, 3, 4, 5, 6])"
      ]
     },
     "execution_count": 10,
     "metadata": {},
     "output_type": "execute_result"
    }
   ],
   "source": [
    "# Create a One Dimensional Array == Row\n",
    "\n",
    "list1 = [1,2,3,4,5,6]\n",
    "\n",
    "oneDimExample = np.array(list1)\n",
    "print (oneDimExample)                # looks like a list\n",
    "print (type(oneDimExample))          # numpy.ndarray\n",
    "oneDimExample\n",
    "\n",
    "# n-dimensional array"
   ]
  },
  {
   "cell_type": "code",
   "execution_count": 11,
   "metadata": {},
   "outputs": [
    {
     "data": {
      "text/plain": [
       "array([[1, 2, 3],\n",
       "       [4, 5, 6],\n",
       "       [7, 8, 9]])"
      ]
     },
     "execution_count": 11,
     "metadata": {},
     "output_type": "execute_result"
    }
   ],
   "source": [
    "# Create a two dimensional array == Matrix\n",
    "\n",
    "twoDimExample = np.array([[1,2,3],\n",
    "                         [4,5,6],\n",
    "                         [7,8,9]])\n",
    "twoDimExample"
   ]
  },
  {
   "cell_type": "code",
   "execution_count": 12,
   "metadata": {
    "tags": []
   },
   "outputs": [
    {
     "data": {
      "text/plain": [
       "array([[[  1,   2,   3],\n",
       "        [  4,   5,   6],\n",
       "        [  7,   8,   9],\n",
       "        [ 10,  11,  12]],\n",
       "\n",
       "       [[ 10,  20,  30],\n",
       "        [ 40,  50,  60],\n",
       "        [ 70,  80,  90],\n",
       "        [100, 110, 120]]])"
      ]
     },
     "execution_count": 12,
     "metadata": {},
     "output_type": "execute_result"
    }
   ],
   "source": [
    "# Create a three dimensional array == Cube\n",
    "\n",
    "arr_3d = np.array([[[1,2,3], [4,5,6], [7,8,9],[10,11,12]], \n",
    "                   [[10,20,30], [40,50,60], [70,80,90], [100,110,120]]])\n",
    "arr_3d"
   ]
  },
  {
   "cell_type": "markdown",
   "metadata": {},
   "source": [
    "# Class and Attributes of ndarray"
   ]
  },
  {
   "cell_type": "markdown",
   "metadata": {},
   "source": [
    "Numpy’s array class is “ndarray,” also referred to as “numpy.ndarray.” The attributes of ndarray are:"
   ]
  },
  {
   "cell_type": "markdown",
   "metadata": {},
   "source": [
    "## dim\n",
    "\n",
    "ndarray.ndim – This refers to the number of axes or the dimensions of the array, which means that it will indicate whether it is a one-dimensional, two-dimensional. It is also called the rank of the array."
   ]
  },
  {
   "cell_type": "code",
   "execution_count": 13,
   "metadata": {},
   "outputs": [
    {
     "data": {
      "text/plain": [
       "1"
      ]
     },
     "execution_count": 13,
     "metadata": {},
     "output_type": "execute_result"
    }
   ],
   "source": [
    "oneDimExample.ndim"
   ]
  },
  {
   "cell_type": "code",
   "execution_count": 14,
   "metadata": {},
   "outputs": [
    {
     "data": {
      "text/plain": [
       "2"
      ]
     },
     "execution_count": 14,
     "metadata": {},
     "output_type": "execute_result"
    }
   ],
   "source": [
    "twoDimExample.ndim"
   ]
  },
  {
   "cell_type": "code",
   "execution_count": 15,
   "metadata": {},
   "outputs": [
    {
     "data": {
      "text/plain": [
       "3"
      ]
     },
     "execution_count": 15,
     "metadata": {},
     "output_type": "execute_result"
    }
   ],
   "source": [
    "arr_3d.ndim"
   ]
  },
  {
   "cell_type": "markdown",
   "metadata": {},
   "source": [
    "## shape\n",
    "\n",
    "This consists of a tuple of integers showing the size of the array in each dimension. **The length of the “shape tuple” is the rank or ndim.**\n",
    "\n",
    "ndarray.shape describes the structure of an array. It consists of a tuple of integers indicating the size of the array in each dimension. For a matrix with n rows and m columns, the shape will be (n, m). So, the length of the shape tuple is the rank or ndim. \n",
    "\n",
    "The shape tuple of both the arrays indicate their size along each dimension."
   ]
  },
  {
   "cell_type": "code",
   "execution_count": 21,
   "metadata": {},
   "outputs": [
    {
     "name": "stdout",
     "output_type": "stream",
     "text": [
      "[1 2 3 4 5 6]\n"
     ]
    },
    {
     "data": {
      "text/plain": [
       "(6,)"
      ]
     },
     "execution_count": 21,
     "metadata": {},
     "output_type": "execute_result"
    }
   ],
   "source": [
    "print (oneDimExample)\n",
    "oneDimExample.shape"
   ]
  },
  {
   "cell_type": "code",
   "execution_count": 19,
   "metadata": {},
   "outputs": [
    {
     "name": "stdout",
     "output_type": "stream",
     "text": [
      "[[1 2 3]\n",
      " [4 5 6]\n",
      " [7 8 9]]\n"
     ]
    },
    {
     "data": {
      "text/plain": [
       "(3, 3)"
      ]
     },
     "execution_count": 19,
     "metadata": {},
     "output_type": "execute_result"
    }
   ],
   "source": [
    "print (twoDimExample)\n",
    "twoDimExample.shape\n",
    "\n",
    "# (no. of rows, no. of cols)"
   ]
  },
  {
   "cell_type": "code",
   "execution_count": 17,
   "metadata": {},
   "outputs": [
    {
     "name": "stdout",
     "output_type": "stream",
     "text": [
      "[[[  1   2   3]\n",
      "  [  4   5   6]\n",
      "  [  7   8   9]\n",
      "  [ 10  11  12]]\n",
      "\n",
      " [[ 10  20  30]\n",
      "  [ 40  50  60]\n",
      "  [ 70  80  90]\n",
      "  [100 110 120]]]\n"
     ]
    },
    {
     "data": {
      "text/plain": [
       "(2, 4, 3)"
      ]
     },
     "execution_count": 17,
     "metadata": {},
     "output_type": "execute_result"
    }
   ],
   "source": [
    "print (arr_3d)\n",
    "arr_3d.shape\n",
    "\n",
    "# (no. of matrix, no. of rows, no. of cols)"
   ]
  },
  {
   "cell_type": "markdown",
   "metadata": {},
   "source": [
    "## size\n",
    "\n",
    "It gives **the total number of elements in the array.** It is equal to the product of the elements of the shape tuple.\n",
    "ndarray.size indicates the number of elements present in an array. It is equal to the product of the elements of its shape tuple."
   ]
  },
  {
   "cell_type": "code",
   "execution_count": 22,
   "metadata": {},
   "outputs": [
    {
     "name": "stdout",
     "output_type": "stream",
     "text": [
      "[1 2 3 4 5 6]\n"
     ]
    },
    {
     "data": {
      "text/plain": [
       "6"
      ]
     },
     "execution_count": 22,
     "metadata": {},
     "output_type": "execute_result"
    }
   ],
   "source": [
    "print (oneDimExample)\n",
    "oneDimExample.size"
   ]
  },
  {
   "cell_type": "code",
   "execution_count": 23,
   "metadata": {},
   "outputs": [
    {
     "name": "stdout",
     "output_type": "stream",
     "text": [
      "[[1 2 3]\n",
      " [4 5 6]\n",
      " [7 8 9]]\n"
     ]
    },
    {
     "data": {
      "text/plain": [
       "9"
      ]
     },
     "execution_count": 23,
     "metadata": {},
     "output_type": "execute_result"
    }
   ],
   "source": [
    "print (twoDimExample)\n",
    "twoDimExample.size"
   ]
  },
  {
   "cell_type": "code",
   "execution_count": 24,
   "metadata": {},
   "outputs": [
    {
     "name": "stdout",
     "output_type": "stream",
     "text": [
      "[[[  1   2   3]\n",
      "  [  4   5   6]\n",
      "  [  7   8   9]\n",
      "  [ 10  11  12]]\n",
      "\n",
      " [[ 10  20  30]\n",
      "  [ 40  50  60]\n",
      "  [ 70  80  90]\n",
      "  [100 110 120]]]\n"
     ]
    },
    {
     "data": {
      "text/plain": [
       "24"
      ]
     },
     "execution_count": 24,
     "metadata": {},
     "output_type": "execute_result"
    }
   ],
   "source": [
    "print (arr_3d)\n",
    "arr_3d.size"
   ]
  },
  {
   "cell_type": "markdown",
   "metadata": {},
   "source": [
    "# Shape Manipulation"
   ]
  },
  {
   "cell_type": "markdown",
   "metadata": {},
   "source": [
    "The shape of a basic array can be changed according to the requirement using NumPy library functions. These array shape manipulation methods really come in handy during the data wrangling phase and is used extensively by Data Scientists.\n",
    "Following are some common methods for manipulating shapes:\n",
    "- Ravel/Flatten\n",
    "- Reshape\n",
    "- Resize\n",
    "\n",
    "Let’s look at each in the following:"
   ]
  },
  {
   "cell_type": "code",
   "execution_count": 25,
   "metadata": {},
   "outputs": [
    {
     "name": "stdout",
     "output_type": "stream",
     "text": [
      "[[10 15 17 26 13 19]\n",
      " [12 11 21 24 14 23]]\n",
      "\n",
      "2\n",
      "\n",
      "(2, 6)\n",
      "\n",
      "12\n"
     ]
    }
   ],
   "source": [
    "trials = np.array([[10,15,17,26,13,19],[12,11,21,24,14,23]])\n",
    "print (trials)\n",
    "print ()\n",
    "print (trials.ndim)\n",
    "print ()\n",
    "print (trials.shape)\n",
    "print ()\n",
    "print (trials.size)"
   ]
  },
  {
   "cell_type": "markdown",
   "metadata": {},
   "source": [
    "### Ravel\n",
    "This function returns a flattened one-dimensional array. The returned array will have the same type as that of the input array. The function takes one parameter."
   ]
  },
  {
   "cell_type": "code",
   "execution_count": 26,
   "metadata": {},
   "outputs": [
    {
     "name": "stdout",
     "output_type": "stream",
     "text": [
      "Ravel-ed Trial :  [10 15 17 26 13 19 12 11 21 24 14 23]\n",
      "\n",
      "Ravel-ed Trial Dimension :  1\n",
      "Ravel-ed Trial Shape :  (12,)\n",
      "\n",
      "Original Dimension :  2\n",
      "Original Shape :  (2, 6)\n"
     ]
    }
   ],
   "source": [
    "print (\"Ravel-ed Trial : \", trials.ravel())\n",
    "print ()\n",
    "print (\"Ravel-ed Trial Dimension : \", trials.ravel().ndim)\n",
    "print (\"Ravel-ed Trial Shape : \", trials.ravel().shape)\n",
    "print ()\n",
    "print (\"Original Dimension : \", trials.ndim)\n",
    "print (\"Original Shape : \", trials.shape)"
   ]
  },
  {
   "cell_type": "markdown",
   "metadata": {},
   "source": [
    "- **The ravel function flattens the dataset into a single row.**\n",
    "- **It will *not* modify the original array**"
   ]
  },
  {
   "cell_type": "markdown",
   "metadata": {},
   "source": [
    "### Reshape\n",
    "This function gives a new shape to an array without changing the data."
   ]
  },
  {
   "cell_type": "code",
   "execution_count": 28,
   "metadata": {},
   "outputs": [
    {
     "name": "stdout",
     "output_type": "stream",
     "text": [
      "[[10 15 17 26 13 19]\n",
      " [12 11 21 24 14 23]]\n",
      "\n",
      "Original Array's Shape :  (2, 6)\n",
      "\n",
      "Re-shaped Array : \n",
      " [[10 15 17 26]\n",
      " [13 19 12 11]\n",
      " [21 24 14 23]]\n",
      "Re-shaped Array's Shape :  (3, 4)\n",
      "\n",
      "Original Array's Shape :  (2, 6)\n"
     ]
    }
   ],
   "source": [
    "trials = np.array([[10,15,17,26,13,19],[12,11,21,24,14,23]])\n",
    "print (trials)\n",
    "print ()\n",
    "\n",
    "print (\"Original Array's Shape : \", trials.shape)\n",
    "print ()\n",
    "\n",
    "print (\"Re-shaped Array : \\n\", trials.reshape(3,4)) \n",
    "print (\"Re-shaped Array's Shape : \", trials.reshape(3,4).shape) # a reshaped array\n",
    "print ()\n",
    "\n",
    "print (\"Original Array's Shape : \", trials.shape)"
   ]
  },
  {
   "cell_type": "markdown",
   "metadata": {},
   "source": [
    "- **Reshape is a function which reshapes the dataset**\n",
    "- **Here, the dataset is reshaped from 2 rows and 6 columns to 3 rows and 4 columns**\n",
    "- **It will *not* modify the original array**"
   ]
  },
  {
   "cell_type": "code",
   "execution_count": 29,
   "metadata": {},
   "outputs": [
    {
     "data": {
      "text/plain": [
       "array([[10, 15, 17, 26],\n",
       "       [13, 19, 12, 11],\n",
       "       [21, 24, 14, 23]])"
      ]
     },
     "execution_count": 29,
     "metadata": {},
     "output_type": "execute_result"
    }
   ],
   "source": [
    "reshaped_trials = trials.reshape(3,4)\n",
    "reshaped_trials"
   ]
  },
  {
   "cell_type": "code",
   "execution_count": 30,
   "metadata": {
    "collapsed": true,
    "jupyter": {
     "outputs_hidden": true
    },
    "tags": []
   },
   "outputs": [
    {
     "name": "stdout",
     "output_type": "stream",
     "text": [
      "[[10 15 17 26 13 19]\n",
      " [12 11 21 24 14 23]]\n",
      "\n",
      "Original Array's Shape :  (2, 6)\n",
      "\n"
     ]
    },
    {
     "ename": "ValueError",
     "evalue": "cannot reshape array of size 12 into shape (3,5)",
     "output_type": "error",
     "traceback": [
      "\u001b[0;31m---------------------------------------------------------------------------\u001b[0m",
      "\u001b[0;31mValueError\u001b[0m                                Traceback (most recent call last)",
      "\u001b[0;32m<ipython-input-30-a1fbf4e8da3d>\u001b[0m in \u001b[0;36m<module>\u001b[0;34m\u001b[0m\n\u001b[1;32m      6\u001b[0m \u001b[0mprint\u001b[0m \u001b[0;34m(\u001b[0m\u001b[0;34m)\u001b[0m\u001b[0;34m\u001b[0m\u001b[0;34m\u001b[0m\u001b[0m\n\u001b[1;32m      7\u001b[0m \u001b[0;34m\u001b[0m\u001b[0m\n\u001b[0;32m----> 8\u001b[0;31m \u001b[0mprint\u001b[0m \u001b[0;34m(\u001b[0m\u001b[0;34m\"Re-shaped Array : \\n\"\u001b[0m\u001b[0;34m,\u001b[0m \u001b[0mtrials\u001b[0m\u001b[0;34m.\u001b[0m\u001b[0mreshape\u001b[0m\u001b[0;34m(\u001b[0m\u001b[0;36m3\u001b[0m\u001b[0;34m,\u001b[0m\u001b[0;36m5\u001b[0m\u001b[0;34m)\u001b[0m\u001b[0;34m)\u001b[0m\u001b[0;34m\u001b[0m\u001b[0;34m\u001b[0m\u001b[0m\n\u001b[0m\u001b[1;32m      9\u001b[0m \u001b[0mprint\u001b[0m \u001b[0;34m(\u001b[0m\u001b[0;34m\"Re-shaped Array's Shape : \"\u001b[0m\u001b[0;34m,\u001b[0m \u001b[0mtrials\u001b[0m\u001b[0;34m.\u001b[0m\u001b[0mreshape\u001b[0m\u001b[0;34m(\u001b[0m\u001b[0;36m3\u001b[0m\u001b[0;34m,\u001b[0m\u001b[0;36m5\u001b[0m\u001b[0;34m)\u001b[0m\u001b[0;34m.\u001b[0m\u001b[0mshape\u001b[0m\u001b[0;34m)\u001b[0m \u001b[0;31m# a reshaped array\u001b[0m\u001b[0;34m\u001b[0m\u001b[0;34m\u001b[0m\u001b[0m\n\u001b[1;32m     10\u001b[0m \u001b[0mprint\u001b[0m \u001b[0;34m(\u001b[0m\u001b[0;34m)\u001b[0m\u001b[0;34m\u001b[0m\u001b[0;34m\u001b[0m\u001b[0m\n",
      "\u001b[0;31mValueError\u001b[0m: cannot reshape array of size 12 into shape (3,5)"
     ]
    }
   ],
   "source": [
    "trials = np.array([[10,15,17,26,13,19],[12,11,21,24,14,23]])\n",
    "print (trials)\n",
    "print ()\n",
    "\n",
    "print (\"Original Array's Shape : \", trials.shape)\n",
    "print ()\n",
    "\n",
    "print (\"Re-shaped Array : \\n\", trials.reshape(3,5)) \n",
    "print (\"Re-shaped Array's Shape : \", trials.reshape(3,5).shape) # a reshaped array\n",
    "print ()\n",
    "\n",
    "print (\"Original Array's Shape : \", trials.shape)"
   ]
  },
  {
   "cell_type": "code",
   "execution_count": 31,
   "metadata": {
    "collapsed": true,
    "jupyter": {
     "outputs_hidden": true
    },
    "tags": []
   },
   "outputs": [
    {
     "name": "stdout",
     "output_type": "stream",
     "text": [
      "[[10 15 17 26 13 19]\n",
      " [12 11 21 24 14 23]]\n",
      "\n",
      "Original Array's Shape :  (2, 6)\n",
      "\n"
     ]
    },
    {
     "ename": "ValueError",
     "evalue": "cannot reshape array of size 12 into shape (3,3)",
     "output_type": "error",
     "traceback": [
      "\u001b[0;31m---------------------------------------------------------------------------\u001b[0m",
      "\u001b[0;31mValueError\u001b[0m                                Traceback (most recent call last)",
      "\u001b[0;32m<ipython-input-31-2373a73d66c2>\u001b[0m in \u001b[0;36m<module>\u001b[0;34m\u001b[0m\n\u001b[1;32m      6\u001b[0m \u001b[0mprint\u001b[0m \u001b[0;34m(\u001b[0m\u001b[0;34m)\u001b[0m\u001b[0;34m\u001b[0m\u001b[0;34m\u001b[0m\u001b[0m\n\u001b[1;32m      7\u001b[0m \u001b[0;34m\u001b[0m\u001b[0m\n\u001b[0;32m----> 8\u001b[0;31m \u001b[0mprint\u001b[0m \u001b[0;34m(\u001b[0m\u001b[0;34m\"Re-shaped Array : \\n\"\u001b[0m\u001b[0;34m,\u001b[0m \u001b[0mtrials\u001b[0m\u001b[0;34m.\u001b[0m\u001b[0mreshape\u001b[0m\u001b[0;34m(\u001b[0m\u001b[0;36m3\u001b[0m\u001b[0;34m,\u001b[0m\u001b[0;36m3\u001b[0m\u001b[0;34m)\u001b[0m\u001b[0;34m)\u001b[0m\u001b[0;34m\u001b[0m\u001b[0;34m\u001b[0m\u001b[0m\n\u001b[0m\u001b[1;32m      9\u001b[0m \u001b[0mprint\u001b[0m \u001b[0;34m(\u001b[0m\u001b[0;34m\"Re-shaped Array's Shape : \"\u001b[0m\u001b[0;34m,\u001b[0m \u001b[0mtrials\u001b[0m\u001b[0;34m.\u001b[0m\u001b[0mreshape\u001b[0m\u001b[0;34m(\u001b[0m\u001b[0;36m3\u001b[0m\u001b[0;34m,\u001b[0m\u001b[0;36m3\u001b[0m\u001b[0;34m)\u001b[0m\u001b[0;34m.\u001b[0m\u001b[0mshape\u001b[0m\u001b[0;34m)\u001b[0m \u001b[0;31m# a reshaped array\u001b[0m\u001b[0;34m\u001b[0m\u001b[0;34m\u001b[0m\u001b[0m\n\u001b[1;32m     10\u001b[0m \u001b[0mprint\u001b[0m \u001b[0;34m(\u001b[0m\u001b[0;34m)\u001b[0m\u001b[0;34m\u001b[0m\u001b[0;34m\u001b[0m\u001b[0m\n",
      "\u001b[0;31mValueError\u001b[0m: cannot reshape array of size 12 into shape (3,3)"
     ]
    }
   ],
   "source": [
    "trials = np.array([[10,15,17,26,13,19],[12,11,21,24,14,23]])\n",
    "print (trials)\n",
    "print ()\n",
    "\n",
    "print (\"Original Array's Shape : \", trials.shape)\n",
    "print ()\n",
    "\n",
    "print (\"Re-shaped Array : \\n\", trials.reshape(3,3)) \n",
    "print (\"Re-shaped Array's Shape : \", trials.reshape(3,3).shape) # a reshaped array\n",
    "print ()\n",
    "\n",
    "print (\"Original Array's Shape : \", trials.shape)"
   ]
  },
  {
   "cell_type": "markdown",
   "metadata": {},
   "source": [
    "### Resize\n",
    "This function returns a new array with the specified size."
   ]
  },
  {
   "cell_type": "code",
   "execution_count": 32,
   "metadata": {
    "tags": []
   },
   "outputs": [
    {
     "name": "stdout",
     "output_type": "stream",
     "text": [
      "Original Array : \n",
      " [[10 15 17 26 13 19]\n",
      " [12 11 21 24 14 23]]\n",
      "\n",
      "Original Array's Shape :  (2, 6)\n",
      "\n",
      "Updated Array's Shape :  (3, 4)\n",
      "\n",
      "Updated Array : \n",
      " [[10 15 17 26]\n",
      " [13 19 12 11]\n",
      " [21 24 14 23]]\n"
     ]
    }
   ],
   "source": [
    "trials = np.array([[10,15,17,26,13,19],[12,11,21,24,14,23]])\n",
    "print (\"Original Array : \\n\", trials)\n",
    "print ()\n",
    "print (\"Original Array's Shape : \", trials.shape) \n",
    "print ()\n",
    "\n",
    "trials.resize(3,4) # no output - updates the original array\n",
    "\n",
    "print (\"Updated Array's Shape : \", trials.shape) \n",
    "print ()\n",
    "print (\"Updated Array : \\n\", trials)"
   ]
  },
  {
   "cell_type": "code",
   "execution_count": 33,
   "metadata": {
    "collapsed": true,
    "jupyter": {
     "outputs_hidden": true
    },
    "tags": []
   },
   "outputs": [
    {
     "name": "stdout",
     "output_type": "stream",
     "text": [
      "Original Array : \n",
      " [[10 15 17 26 13 19]\n",
      " [12 11 21 24 14 23]]\n",
      "\n",
      "Original Array's Shape :  (2, 6)\n",
      "\n",
      "Updated Array's Shape :  (3, 5)\n",
      "\n",
      "Updated Array : \n",
      " [[10 15 17 26 13]\n",
      " [19 12 11 21 24]\n",
      " [14 23  0  0  0]]\n"
     ]
    }
   ],
   "source": [
    "trials = np.array([[10,15,17,26,13,19],[12,11,21,24,14,23]])\n",
    "print (\"Original Array : \\n\", trials)\n",
    "print ()\n",
    "print (\"Original Array's Shape : \", trials.shape) \n",
    "print ()\n",
    "\n",
    "trials.resize(3,5) # no output - updates the original array\n",
    "\n",
    "print (\"Updated Array's Shape : \", trials.shape) \n",
    "print ()\n",
    "print (\"Updated Array : \\n\", trials)"
   ]
  },
  {
   "cell_type": "code",
   "execution_count": 34,
   "metadata": {
    "collapsed": true,
    "jupyter": {
     "outputs_hidden": true
    },
    "tags": []
   },
   "outputs": [
    {
     "name": "stdout",
     "output_type": "stream",
     "text": [
      "Original Array : \n",
      " [[10 15 17 26 13 19]\n",
      " [12 11 21 24 14 23]]\n",
      "\n",
      "Original Array's Shape :  (2, 6)\n",
      "\n",
      "Updated Array's Shape :  (3, 3)\n",
      "\n",
      "Updated Array : \n",
      " [[10 15 17]\n",
      " [26 13 19]\n",
      " [12 11 21]]\n"
     ]
    }
   ],
   "source": [
    "trials = np.array([[10,15,17,26,13,19],[12,11,21,24,14,23]])\n",
    "print (\"Original Array : \\n\", trials)\n",
    "print ()\n",
    "print (\"Original Array's Shape : \", trials.shape) \n",
    "print ()\n",
    "\n",
    "trials.resize(3,3) # no output - updates the original array\n",
    "\n",
    "print (\"Updated Array's Shape : \", trials.shape) \n",
    "print ()\n",
    "print (\"Updated Array : \\n\", trials)"
   ]
  },
  {
   "cell_type": "markdown",
   "metadata": {},
   "source": [
    "# Built-in Mathematical Functions"
   ]
  },
  {
   "cell_type": "code",
   "execution_count": 35,
   "metadata": {},
   "outputs": [],
   "source": [
    "A = [10,15,17,26]\n",
    "B = [12,11,21,24]\n",
    "\n",
    "A = np.array(A)\n",
    "B = np.array(B)"
   ]
  },
  {
   "cell_type": "code",
   "execution_count": 36,
   "metadata": {},
   "outputs": [
    {
     "data": {
      "text/plain": [
       "array([22, 26, 38, 50])"
      ]
     },
     "execution_count": 36,
     "metadata": {},
     "output_type": "execute_result"
    }
   ],
   "source": [
    "A + B"
   ]
  },
  {
   "cell_type": "code",
   "execution_count": 37,
   "metadata": {},
   "outputs": [
    {
     "data": {
      "text/plain": [
       "array([-2,  4, -4,  2])"
      ]
     },
     "execution_count": 37,
     "metadata": {},
     "output_type": "execute_result"
    }
   ],
   "source": [
    "A - B"
   ]
  },
  {
   "cell_type": "code",
   "execution_count": 38,
   "metadata": {},
   "outputs": [
    {
     "data": {
      "text/plain": [
       "array([120, 165, 357, 624])"
      ]
     },
     "execution_count": 38,
     "metadata": {},
     "output_type": "execute_result"
    }
   ],
   "source": [
    "A * B"
   ]
  },
  {
   "cell_type": "code",
   "execution_count": 39,
   "metadata": {},
   "outputs": [
    {
     "data": {
      "text/plain": [
       "array([0.83333333, 1.36363636, 0.80952381, 1.08333333])"
      ]
     },
     "execution_count": 39,
     "metadata": {},
     "output_type": "execute_result"
    }
   ],
   "source": [
    "A / B"
   ]
  },
  {
   "cell_type": "code",
   "execution_count": 40,
   "metadata": {},
   "outputs": [
    {
     "data": {
      "text/plain": [
       "array([100, 225, 289, 676])"
      ]
     },
     "execution_count": 40,
     "metadata": {},
     "output_type": "execute_result"
    }
   ],
   "source": [
    "A **2 # ** power of"
   ]
  },
  {
   "cell_type": "code",
   "execution_count": 41,
   "metadata": {
    "collapsed": true,
    "jupyter": {
     "outputs_hidden": true
    },
    "tags": []
   },
   "outputs": [
    {
     "ename": "NameError",
     "evalue": "name 'sqrt' is not defined",
     "output_type": "error",
     "traceback": [
      "\u001b[0;31m---------------------------------------------------------------------------\u001b[0m",
      "\u001b[0;31mNameError\u001b[0m                                 Traceback (most recent call last)",
      "\u001b[0;32m<ipython-input-41-b6555436bc2d>\u001b[0m in \u001b[0;36m<module>\u001b[0;34m\u001b[0m\n\u001b[0;32m----> 1\u001b[0;31m \u001b[0msqrt\u001b[0m\u001b[0;34m(\u001b[0m\u001b[0mA\u001b[0m\u001b[0;34m)\u001b[0m\u001b[0;34m\u001b[0m\u001b[0;34m\u001b[0m\u001b[0m\n\u001b[0m",
      "\u001b[0;31mNameError\u001b[0m: name 'sqrt' is not defined"
     ]
    }
   ],
   "source": [
    "sqrt(A)"
   ]
  },
  {
   "cell_type": "code",
   "execution_count": 42,
   "metadata": {},
   "outputs": [
    {
     "data": {
      "text/plain": [
       "array([3.16227766, 3.87298335, 4.12310563, 5.09901951])"
      ]
     },
     "execution_count": 42,
     "metadata": {},
     "output_type": "execute_result"
    }
   ],
   "source": [
    "np.sqrt(A)"
   ]
  },
  {
   "cell_type": "code",
   "execution_count": 43,
   "metadata": {},
   "outputs": [
    {
     "name": "stdout",
     "output_type": "stream",
     "text": [
      "[1. 1. 4. 2. 3. 5.]\n"
     ]
    }
   ],
   "source": [
    "print (np.floor([1.2,1.3,4.9,2.6,3.3,5.6])) # nearest lowest integer"
   ]
  },
  {
   "cell_type": "code",
   "execution_count": 44,
   "metadata": {},
   "outputs": [
    {
     "name": "stdout",
     "output_type": "stream",
     "text": [
      "[1. 1. 5. 3. 3. 6.]\n"
     ]
    }
   ],
   "source": [
    "print (np.round([1.2,1.3,4.9,2.6,3.3,5.6]))"
   ]
  },
  {
   "cell_type": "code",
   "execution_count": 48,
   "metadata": {},
   "outputs": [
    {
     "name": "stdout",
     "output_type": "stream",
     "text": [
      "[2. 2. 5. 3. 4. 6.]\n"
     ]
    }
   ],
   "source": [
    "print (np.ceil([1.2,1.3,4.9,2.6,3.3,5.6])) # nearest greater integer"
   ]
  },
  {
   "cell_type": "markdown",
   "metadata": {},
   "source": [
    "# Broadcasting"
   ]
  },
  {
   "cell_type": "markdown",
   "metadata": {},
   "source": [
    "NumPy uses broadcasting to carry out arithmetic operations between arrays of different shapes. \n",
    "\n",
    "To understand how this works, let’s look at the examples shown here. Array_a and array_b have the same shape, which is one row and four columns. So, to calculate the product of the two arrays, NumPy conducts an element-wise multiplication. \n",
    "\n",
    "However, scalar_c is a single scalar value. Its shape doesn’t match with array_a. In this case, NumPy doesn’t have to create copies of the scalar value to multiply it element-wise with the array elements. Instead, it broadcasts the scalar value over the entire array to find the product. This saves memory space as an array takes a lot more memory than a scalar.\n"
   ]
  },
  {
   "cell_type": "markdown",
   "metadata": {},
   "source": [
    "Though broadcasting can help carry out mathematical operations between different-shaped arrays, they are subject to certain constraints as listed below:\n",
    "\n",
    "When NumPy operates on two arrays, it compares their shapes element-wise. It finds these shapes compatible only if:\n",
    "Their dimensions are the same or one of them has a dimension of size 1.\n",
    "If these conditions are not met, a \"ValueError” is thrown, indicating that the arrays have incompatible shapes.\n"
   ]
  },
  {
   "cell_type": "code",
   "execution_count": 50,
   "metadata": {},
   "outputs": [],
   "source": [
    "# [2, 3, 5, 8] * 0.3"
   ]
  },
  {
   "cell_type": "code",
   "execution_count": 2,
   "metadata": {},
   "outputs": [
    {
     "data": {
      "text/plain": [
       "array([2, 3, 5, 8, 9])"
      ]
     },
     "execution_count": 2,
     "metadata": {},
     "output_type": "execute_result"
    }
   ],
   "source": [
    "import numpy as np\n",
    "array_a = np.array([2, 3, 5, 8,9])\n",
    "array_a"
   ]
  },
  {
   "cell_type": "code",
   "execution_count": 3,
   "metadata": {},
   "outputs": [
    {
     "data": {
      "text/plain": [
       "array([0.3, 0.3, 0.3, 0.3])"
      ]
     },
     "execution_count": 3,
     "metadata": {},
     "output_type": "execute_result"
    }
   ],
   "source": [
    "array_b = np.array([0.3,0.3,0.3,0.3])\n",
    "array_b"
   ]
  },
  {
   "cell_type": "code",
   "execution_count": 4,
   "metadata": {},
   "outputs": [
    {
     "ename": "ValueError",
     "evalue": "operands could not be broadcast together with shapes (5,) (4,) ",
     "output_type": "error",
     "traceback": [
      "\u001b[1;31m---------------------------------------------------------------------------\u001b[0m",
      "\u001b[1;31mValueError\u001b[0m                                Traceback (most recent call last)",
      "Input \u001b[1;32mIn [4]\u001b[0m, in \u001b[0;36m<cell line: 1>\u001b[1;34m()\u001b[0m\n\u001b[1;32m----> 1\u001b[0m \u001b[43marray_a\u001b[49m\u001b[43m \u001b[49m\u001b[38;5;241;43m*\u001b[39;49m\u001b[43m \u001b[49m\u001b[43marray_b\u001b[49m\n",
      "\u001b[1;31mValueError\u001b[0m: operands could not be broadcast together with shapes (5,) (4,) "
     ]
    }
   ],
   "source": [
    "array_a * array_b"
   ]
  },
  {
   "cell_type": "code",
   "execution_count": 54,
   "metadata": {},
   "outputs": [
    {
     "data": {
      "text/plain": [
       "array([0.6, 0.9, 1.5, 2.4])"
      ]
     },
     "execution_count": 54,
     "metadata": {},
     "output_type": "execute_result"
    }
   ],
   "source": [
    "array_a * 0.3 # it broadcasts the value over the entire array to find the product"
   ]
  },
  {
   "cell_type": "markdown",
   "metadata": {},
   "source": [
    "Let’s look at an example to see how broadcasting works:\n",
    "- The two datasets represent a worker’s earnings over a period of two weeks, excluding weekends.\n",
    "- The total earning after two weeks is the vector addition where **element-wise arithmetic operation is performed**.\n",
    "- To calculate the number of hours worked for each day in week one, you need to divide the week one dataset by 15, which is the hourly wage. This arithmetic operation is carried out through **broadcasting**."
   ]
  },
  {
   "cell_type": "code",
   "execution_count": 55,
   "metadata": {},
   "outputs": [],
   "source": [
    "np_week_one = np.array([105,135,195,120,165])\n",
    "np_week_two = np.array([123,156,230,200,147])"
   ]
  },
  {
   "cell_type": "code",
   "execution_count": 56,
   "metadata": {},
   "outputs": [
    {
     "name": "stdout",
     "output_type": "stream",
     "text": [
      "[228 291 425 320 312]\n"
     ]
    }
   ],
   "source": [
    "# **element-wise arithmetic operation is performed**\n",
    "\n",
    "total_earning = np_week_one + np_week_two\n",
    "print (total_earning)"
   ]
  },
  {
   "cell_type": "code",
   "execution_count": 57,
   "metadata": {},
   "outputs": [
    {
     "name": "stdout",
     "output_type": "stream",
     "text": [
      "[ 7.  9. 13.  8. 11.]\n"
     ]
    }
   ],
   "source": [
    "# **broadcasting**\n",
    "\n",
    "np_week_one_hrs = np_week_one/15           # 15, which is the hourly wage\n",
    "print (np_week_one_hrs)"
   ]
  },
  {
   "cell_type": "markdown",
   "metadata": {},
   "source": [
    "# Accessing Array Elements"
   ]
  },
  {
   "cell_type": "code",
   "execution_count": 81,
   "metadata": {},
   "outputs": [
    {
     "data": {
      "text/plain": [
       "array([[10, 15, 17, 26],\n",
       "       [12, 11, 21, 24]])"
      ]
     },
     "execution_count": 81,
     "metadata": {},
     "output_type": "execute_result"
    }
   ],
   "source": [
    "A = np.array([[10,15,17,26],[12,11,21,24]])\n",
    "A"
   ]
  },
  {
   "cell_type": "code",
   "execution_count": 59,
   "metadata": {},
   "outputs": [
    {
     "name": "stdout",
     "output_type": "stream",
     "text": [
      "2\n",
      "(2, 4)\n"
     ]
    }
   ],
   "source": [
    "print (A.ndim)\n",
    "print (A.shape)"
   ]
  },
  {
   "cell_type": "code",
   "execution_count": 60,
   "metadata": {},
   "outputs": [
    {
     "data": {
      "text/plain": [
       "array([10, 15, 17, 26])"
      ]
     },
     "execution_count": 60,
     "metadata": {},
     "output_type": "execute_result"
    }
   ],
   "source": [
    "A[0] # 1st Row"
   ]
  },
  {
   "cell_type": "code",
   "execution_count": 61,
   "metadata": {},
   "outputs": [
    {
     "data": {
      "text/plain": [
       "array([12, 11, 21, 24])"
      ]
     },
     "execution_count": 61,
     "metadata": {},
     "output_type": "execute_result"
    }
   ],
   "source": [
    "A[1] # 2nd Row"
   ]
  },
  {
   "cell_type": "markdown",
   "metadata": {},
   "source": [
    "## How to access the first columns -- [10,12]?"
   ]
  },
  {
   "cell_type": "code",
   "execution_count": 62,
   "metadata": {},
   "outputs": [
    {
     "data": {
      "text/plain": [
       "10"
      ]
     },
     "execution_count": 62,
     "metadata": {},
     "output_type": "execute_result"
    }
   ],
   "source": [
    "A[0][0]"
   ]
  },
  {
   "cell_type": "code",
   "execution_count": 63,
   "metadata": {},
   "outputs": [
    {
     "data": {
      "text/plain": [
       "15"
      ]
     },
     "execution_count": 63,
     "metadata": {},
     "output_type": "execute_result"
    }
   ],
   "source": [
    "A[0][1]"
   ]
  },
  {
   "cell_type": "code",
   "execution_count": 64,
   "metadata": {},
   "outputs": [
    {
     "data": {
      "text/plain": [
       "array([], shape=(0, 4), dtype=int64)"
      ]
     },
     "execution_count": 64,
     "metadata": {},
     "output_type": "execute_result"
    }
   ],
   "source": [
    "A[1:1]"
   ]
  },
  {
   "cell_type": "code",
   "execution_count": 65,
   "metadata": {},
   "outputs": [
    {
     "data": {
      "image/png": "[encoded data removed]",
      "text/plain": [
       "<IPython.core.display.Image object>"
      ]
     },
     "execution_count": 65,
     "metadata": {},
     "output_type": "execute_result"
    }
   ],
   "source": [
    "from IPython.display import Image\n",
    "Image(filename ='Indexing.png')"
   ]
  },
  {
   "cell_type": "code",
   "execution_count": 66,
   "metadata": {},
   "outputs": [
    {
     "data": {
      "text/plain": [
       "array([[10, 15, 17, 26],\n",
       "       [12, 11, 21, 24]])"
      ]
     },
     "execution_count": 66,
     "metadata": {},
     "output_type": "execute_result"
    }
   ],
   "source": [
    "A"
   ]
  },
  {
   "cell_type": "code",
   "execution_count": 67,
   "metadata": {},
   "outputs": [
    {
     "data": {
      "text/plain": [
       "array([10, 12])"
      ]
     },
     "execution_count": 67,
     "metadata": {},
     "output_type": "execute_result"
    }
   ],
   "source": [
    "A[ : , 0]\n",
    "\n",
    "# values before the ',' stand for rows and values after the ',' stand for columns\n",
    "# \":\" before the comma is to select all the rows for the said col"
   ]
  },
  {
   "cell_type": "code",
   "execution_count": 68,
   "metadata": {},
   "outputs": [
    {
     "data": {
      "text/plain": [
       "array([26, 24])"
      ]
     },
     "execution_count": 68,
     "metadata": {},
     "output_type": "execute_result"
    }
   ],
   "source": [
    "A[ : , 3]"
   ]
  },
  {
   "cell_type": "code",
   "execution_count": 69,
   "metadata": {},
   "outputs": [
    {
     "data": {
      "text/plain": [
       "array([26, 24])"
      ]
     },
     "execution_count": 69,
     "metadata": {},
     "output_type": "execute_result"
    }
   ],
   "source": [
    "A[ : , -1]"
   ]
  },
  {
   "cell_type": "markdown",
   "metadata": {},
   "source": [
    "# Slicing Array Elements"
   ]
  },
  {
   "cell_type": "code",
   "execution_count": 70,
   "metadata": {},
   "outputs": [
    {
     "data": {
      "image/png": "[encoded data removed]",
      "text/plain": [
       "<IPython.core.display.Image object>"
      ]
     },
     "execution_count": 70,
     "metadata": {},
     "output_type": "execute_result"
    }
   ],
   "source": [
    "Image(filename='slicing.png')"
   ]
  },
  {
   "cell_type": "code",
   "execution_count": 71,
   "metadata": {},
   "outputs": [
    {
     "data": {
      "text/plain": [
       "array([[10, 15, 17, 26],\n",
       "       [12, 11, 21, 24]])"
      ]
     },
     "execution_count": 71,
     "metadata": {},
     "output_type": "execute_result"
    }
   ],
   "source": [
    "A"
   ]
  },
  {
   "cell_type": "code",
   "execution_count": 72,
   "metadata": {},
   "outputs": [
    {
     "data": {
      "text/plain": [
       "array([[15, 17],\n",
       "       [11, 21]])"
      ]
     },
     "execution_count": 72,
     "metadata": {},
     "output_type": "execute_result"
    }
   ],
   "source": [
    "A[ : , 1:3] \n",
    "\n",
    "# Slicing the array data [ : , 1 : 3] where 1 is inclusive but 3 is not. elements from 1 to (3-1)"
   ]
  },
  {
   "cell_type": "code",
   "execution_count": 76,
   "metadata": {},
   "outputs": [
    {
     "data": {
      "text/plain": [
       "array([[10, 26],\n",
       "       [12, 24]])"
      ]
     },
     "execution_count": 76,
     "metadata": {},
     "output_type": "execute_result"
    }
   ],
   "source": [
    "A[ : , (0,-1)]"
   ]
  },
  {
   "cell_type": "code",
   "execution_count": 77,
   "metadata": {},
   "outputs": [
    {
     "data": {
      "text/plain": [
       "array([[10, 26],\n",
       "       [12, 24]])"
      ]
     },
     "execution_count": 77,
     "metadata": {},
     "output_type": "execute_result"
    }
   ],
   "source": [
    "A[ : , (0,3)]"
   ]
  },
  {
   "cell_type": "code",
   "execution_count": 78,
   "metadata": {},
   "outputs": [
    {
     "data": {
      "text/plain": [
       "array([[10, 26],\n",
       "       [12, 24]])"
      ]
     },
     "execution_count": 78,
     "metadata": {},
     "output_type": "execute_result"
    }
   ],
   "source": [
    "A[:, 0:4:3] # start from 0, go till 3 give me 3rd column\n",
    "\n",
    "# Start : Upperbound : Step\n",
    "# Stop = Upperbound - 1"
   ]
  },
  {
   "cell_type": "code",
   "execution_count": 85,
   "metadata": {},
   "outputs": [
    {
     "data": {
      "text/plain": [
       "array([ 0,  1,  2,  3,  4,  5,  6,  7,  8,  9, 10, 11, 12, 13, 14, 15, 16,\n",
       "       17, 18, 19, 20])"
      ]
     },
     "execution_count": 85,
     "metadata": {},
     "output_type": "execute_result"
    }
   ],
   "source": [
    "a = np.array(list(range(0,21)))\n",
    "a"
   ]
  },
  {
   "cell_type": "code",
   "execution_count": 90,
   "metadata": {},
   "outputs": [
    {
     "data": {
      "text/plain": [
       "array([20, 19, 18, 17, 16, 15, 14, 13, 12, 11, 10,  9,  8,  7,  6,  5,  4,\n",
       "        3,  2,  1,  0])"
      ]
     },
     "execution_count": 90,
     "metadata": {},
     "output_type": "execute_result"
    }
   ],
   "source": [
    "# Reverse Array A\n",
    "\n",
    "np.flip(a)\n",
    "\n",
    "# a[:6]          # 0 to 5       # start from 0\n",
    "# a[10:]         # 10 to stop  # stop at the last value/element \n",
    "\n",
    "a[::-1]     # generic way to reverse an array of any size\n",
    "\n",
    "# start from 0, stop at the last value/element and step is -1"
   ]
  },
  {
   "cell_type": "code",
   "execution_count": 91,
   "metadata": {},
   "outputs": [
    {
     "data": {
      "text/plain": [
       "'Data Science With Python'"
      ]
     },
     "execution_count": 91,
     "metadata": {},
     "output_type": "execute_result"
    }
   ],
   "source": [
    "aa = \"Data Science With Python\"\n",
    "aa"
   ]
  },
  {
   "cell_type": "code",
   "execution_count": 92,
   "metadata": {},
   "outputs": [
    {
     "data": {
      "text/plain": [
       "'nohtyP htiW ecneicS ataD'"
      ]
     },
     "execution_count": 92,
     "metadata": {},
     "output_type": "execute_result"
    }
   ],
   "source": [
    "aa[::-1]"
   ]
  },
  {
   "cell_type": "code",
   "execution_count": 94,
   "metadata": {},
   "outputs": [
    {
     "data": {
      "text/plain": [
       "'Data Science With Python'"
      ]
     },
     "execution_count": 94,
     "metadata": {},
     "output_type": "execute_result"
    }
   ],
   "source": [
    "np.flip(aa)"
   ]
  },
  {
   "cell_type": "code",
   "execution_count": null,
   "metadata": {},
   "outputs": [],
   "source": []
  }
 ],
 "metadata": {
  "kernelspec": {
   "display_name": "Python 3 (ipykernel)",
   "language": "python",
   "name": "python3"
  },
  "language_info": {
   "codemirror_mode": {
    "name": "ipython",
    "version": 3
   },
   "file_extension": ".py",
   "mimetype": "text/x-python",
   "name": "python",
   "nbconvert_exporter": "python",
   "pygments_lexer": "ipython3",
   "version": "3.9.12"
  }
 },
 "nbformat": 4,
 "nbformat_minor": 4
}
