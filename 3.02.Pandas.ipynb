{
 "cells": [
  {
   "cell_type": "markdown",
   "metadata": {},
   "source": [
    "# Pandas -- Data Analysis Library\n",
    "- Used extensively by Data Scientist/Data Analyst to perform EDA (Exploratory Data Analysis)\n",
    "- EDA is all about getting comfortable with the data such that you can answer any type of question\n",
    "raised by your stakeholders / client"
   ]
  },
  {
   "cell_type": "code",
   "execution_count": 1,
   "metadata": {},
   "outputs": [],
   "source": [
    "import numpy as np\n",
    "import pandas as pd"
   ]
  },
  {
   "cell_type": "markdown",
   "metadata": {},
   "source": [
    "# Data Containers"
   ]
  },
  {
   "cell_type": "markdown",
   "metadata": {},
   "source": [
    "## Series\n",
    "\n",
    "Series: It is a one-dimensional array-like structure used to represent a dataset and can be visualized as **a single column dataset**. It supports multiple data types, such as Integer, string, float.\n",
    "\n",
    "Series can be created in multiple ways with the help of data elements which, if defined properly, act as data input to create a series. Therefore, data input can be an ndarray, dict, scalar, or a list. Let’s take a look at each one in detail.\n",
    "\n",
    "Now, let’s see how we can create a series."
   ]
  },
  {
   "cell_type": "markdown",
   "metadata": {},
   "source": [
    "### List\n",
    "\n",
    "This basic Python data structure which can act as an input to create Pandas series. List can hold a range of values of multiple data types. So, if a dataset appears as list, use list as input to create series."
   ]
  },
  {
   "cell_type": "code",
   "execution_count": 2,
   "metadata": {},
   "outputs": [
    {
     "name": "stdout",
     "output_type": "stream",
     "text": [
      "['a', 'b', 'c', 'd', 'e', 'f']\n"
     ]
    }
   ],
   "source": [
    "print (list('abcdef'))"
   ]
  },
  {
   "cell_type": "code",
   "execution_count": 3,
   "metadata": {},
   "outputs": [
    {
     "name": "stdout",
     "output_type": "stream",
     "text": [
      "0    a\n",
      "1    b\n",
      "2    c\n",
      "3    d\n",
      "4    e\n",
      "5    f\n",
      "dtype: object\n"
     ]
    }
   ],
   "source": [
    "# Pass list as an argument\n",
    "\n",
    "first_series = pd.Series(list('abcdef'))\n",
    "print (first_series)"
   ]
  },
  {
   "cell_type": "markdown",
   "metadata": {},
   "source": [
    "***Shows index, data value and data type***\n",
    "\n",
    "***We have not created index for data but notice that data alignment is done automatically.***"
   ]
  },
  {
   "cell_type": "markdown",
   "metadata": {},
   "source": [
    "### ndarray\n",
    "    \n",
    "An ndarray can be used as an input to create Pandas series. The use of ndarray is recommended wherever the dataset is number-centric and requires complex numerical computing. "
   ]
  },
  {
   "cell_type": "code",
   "execution_count": 4,
   "metadata": {},
   "outputs": [
    {
     "data": {
      "text/plain": [
       "array(['Algeria', 'Angola', 'Argentina', 'Australia', 'Austria',\n",
       "       'Bahamas', 'Bangladesh', 'Belarus', 'Belgium', 'Bhutan', 'Brazil',\n",
       "       'Bulgaria', 'Cambodia', 'Cameroon', 'Chile', 'China', 'Colombia',\n",
       "       'Cyprus', 'Denmark'], dtype='<U10')"
      ]
     },
     "execution_count": 4,
     "metadata": {},
     "output_type": "execute_result"
    }
   ],
   "source": [
    "# ndarray for countries\n",
    "np_countries = np.array(['Algeria','Angola','Argentina','Australia','Austria','Bahamas','Bangladesh','Belarus','Belgium',\n",
    "                      'Bhutan','Brazil','Bulgaria','Cambodia','Cameroon','Chile','China','Colombia','Cyprus','Denmark'])\n",
    "np_countries\n",
    "\n",
    "# U - unicode string\n",
    "\n",
    "# Unicode is a standard encoding system that is used to represent characters from almost all languages. \n",
    "# Every Unicode character is encoded using a unique integer code point between 0 and 0x10FFFF . \n",
    "# A Unicode string is a sequence of zero or more code points."
   ]
  },
  {
   "cell_type": "code",
   "execution_count": 5,
   "metadata": {
    "tags": []
   },
   "outputs": [
    {
     "name": "stdout",
     "output_type": "stream",
     "text": [
      "0        Algeria\n",
      "1         Angola\n",
      "2      Argentina\n",
      "3      Australia\n",
      "4        Austria\n",
      "5        Bahamas\n",
      "6     Bangladesh\n",
      "7        Belarus\n",
      "8        Belgium\n",
      "9         Bhutan\n",
      "10        Brazil\n",
      "11      Bulgaria\n",
      "12      Cambodia\n",
      "13      Cameroon\n",
      "14         Chile\n",
      "15         China\n",
      "16      Colombia\n",
      "17        Cyprus\n",
      "18       Denmark\n",
      "dtype: object\n"
     ]
    }
   ],
   "source": [
    "# Pass ndarray as an argument\n",
    "\n",
    "s_countries = pd.Series(np_countries)\n",
    "print (s_countries)"
   ]
  },
  {
   "cell_type": "markdown",
   "metadata": {},
   "source": [
    "### dict\n",
    "A Pandas series can also be created using dictionary and it is very efficient when it comes to indexing or reindexing a dataset for data wrangling purposes. dict works in a key-value fashion, so use it whenever the dataset is structured as key-value pair."
   ]
  },
  {
   "cell_type": "code",
   "execution_count": 6,
   "metadata": {},
   "outputs": [
    {
     "name": "stdout",
     "output_type": "stream",
     "text": [
      "{'A': 20, 'B': 35, 'C': 100}\n"
     ]
    }
   ],
   "source": [
    "dictionary = {\"A\" : 20, \"B\" : 35, 'C': 100}\n",
    "print (dictionary)"
   ]
  },
  {
   "cell_type": "code",
   "execution_count": 7,
   "metadata": {},
   "outputs": [
    {
     "name": "stdout",
     "output_type": "stream",
     "text": [
      "A     20\n",
      "B     35\n",
      "C    100\n",
      "dtype: int64\n"
     ]
    }
   ],
   "source": [
    "# Pass dictionary as an argument\n",
    "\n",
    "series = pd.Series(dictionary)\n",
    "print(series) "
   ]
  },
  {
   "cell_type": "markdown",
   "metadata": {},
   "source": [
    "### Input values in pd.Series"
   ]
  },
  {
   "cell_type": "code",
   "execution_count": 8,
   "metadata": {
    "tags": []
   },
   "outputs": [
    {
     "name": "stdout",
     "output_type": "stream",
     "text": [
      "Algeria        2255.225482\n",
      "Angola          629.955306\n",
      "Argentina     11601.630220\n",
      "Australia     25306.824940\n",
      "Austria       27266.403350\n",
      "Bahamas       19466.990520\n",
      "Bangladesh      588.369178\n",
      "Belarus        2890.345675\n",
      "Belgium       24733.626960\n",
      "Bhutan         1445.760002\n",
      "Brazil         4803.398244\n",
      "Bulgaria       2618.876037\n",
      "Cambodia        590.452112\n",
      "Cameroon        665.798233\n",
      "Chile          7122.938458\n",
      "China          2639.541560\n",
      "Colombia       3362.465600\n",
      "Cyprus        15378.167040\n",
      "Denmark       30860.128080\n",
      "dtype: float64\n"
     ]
    }
   ],
   "source": [
    "# Series for countries and their gdp\n",
    "\n",
    "country_gdp = pd.Series([2255.225482,629.9553062,11601.63022,25306.82494,27266.40335,19466.99052,588.3691778,2890.345675,\n",
    "                           24733.62696,1445.760002,4803.398244,2618.876037,590.4521124,665.7982328,7122.938458,2639.54156,\n",
    "                           3362.4656,15378.16704,30860.12808], \n",
    "                        index = ['Algeria','Angola','Argentina','Australia','Austria','Bahamas','Bangladesh','Belarus',\n",
    "                                      'Belgium','Bhutan','Brazil','Bulgaria','Cambodia','Cameroon','Chile','China','Colombia',\n",
    "                                      'Cyprus','Denmark'])\n",
    "print (country_gdp)"
   ]
  },
  {
   "cell_type": "markdown",
   "metadata": {},
   "source": [
    "### Vectorized operations\n",
    "\n",
    "Vectorized operations show you how you can add two or more series. The vector operations are essentially performed by the index positions of data elements.\n",
    "\n",
    "The first example shows how the two series, ‘first_vector_series’ and ‘second_vector_series’ are added and this is done at index level. "
   ]
  },
  {
   "cell_type": "code",
   "execution_count": 9,
   "metadata": {},
   "outputs": [
    {
     "name": "stdout",
     "output_type": "stream",
     "text": [
      "a    1\n",
      "b    2\n",
      "c    3\n",
      "d    4\n",
      "dtype: int64\n",
      "\n",
      "a    10\n",
      "b    20\n",
      "c    30\n",
      "d    40\n",
      "dtype: int64\n"
     ]
    }
   ],
   "source": [
    "first_vector_series = pd.Series([1,2,3,4], index = ['a','b','c','d']) \n",
    "second_vector_series = pd.Series([10,20,30,40], index = ['a','b','c','d'])\n",
    "\n",
    "print (first_vector_series)\n",
    "print ()\n",
    "print (second_vector_series)"
   ]
  },
  {
   "cell_type": "code",
   "execution_count": 10,
   "metadata": {},
   "outputs": [
    {
     "name": "stdout",
     "output_type": "stream",
     "text": [
      "a    11\n",
      "b    22\n",
      "c    33\n",
      "d    44\n",
      "dtype: int64\n"
     ]
    }
   ],
   "source": [
    "print (first_vector_series + second_vector_series)"
   ]
  },
  {
   "cell_type": "markdown",
   "metadata": {},
   "source": [
    "Let’s **shuffle indices** and see what happens. For the second vector series, we change the values of indices a, d, b, and c. Thus, when we add the two vector series, we get a different output as the data element is bound to the index position. "
   ]
  },
  {
   "cell_type": "code",
   "execution_count": 11,
   "metadata": {},
   "outputs": [
    {
     "name": "stdout",
     "output_type": "stream",
     "text": [
      "a    1\n",
      "b    2\n",
      "c    3\n",
      "d    4\n",
      "dtype: int64\n",
      "\n",
      "c    10\n",
      "a    20\n",
      "d    30\n",
      "b    40\n",
      "dtype: int64\n"
     ]
    }
   ],
   "source": [
    "first_vector_series = pd.Series([1,2,3,4], index = ['a','b','c','d']) \n",
    "second_vector_series = pd.Series([10,20,30,40], index = ['c','a','d','b'])\n",
    "\n",
    "print (first_vector_series)\n",
    "print ()\n",
    "print (second_vector_series)"
   ]
  },
  {
   "cell_type": "code",
   "execution_count": 12,
   "metadata": {},
   "outputs": [
    {
     "name": "stdout",
     "output_type": "stream",
     "text": [
      "a    21\n",
      "b    42\n",
      "c    13\n",
      "d    34\n",
      "dtype: int64\n"
     ]
    }
   ],
   "source": [
    "print (first_vector_series + second_vector_series)"
   ]
  },
  {
   "cell_type": "markdown",
   "metadata": {},
   "source": [
    "***Where ever the indices don't match, it will not add and would hold NOT A NUMBER or NaN***"
   ]
  },
  {
   "cell_type": "code",
   "execution_count": 13,
   "metadata": {
    "tags": []
   },
   "outputs": [
    {
     "name": "stdout",
     "output_type": "stream",
     "text": [
      "a    1\n",
      "b    2\n",
      "c    3\n",
      "d    4\n",
      "dtype: int64\n",
      "\n",
      "a    10.0\n",
      "b    20.0\n",
      "e    30.0\n",
      "f    40.0\n",
      "dtype: float64\n"
     ]
    }
   ],
   "source": [
    "first_vector_series = pd.Series([1,2,3,4], index = ['a','b','c','d']) \n",
    "second_vector_series = pd.Series([10.0,20,30,40], index = ['a','b','e','f'])\n",
    "\n",
    "print (first_vector_series)\n",
    "print ()\n",
    "print (second_vector_series)"
   ]
  },
  {
   "cell_type": "code",
   "execution_count": 14,
   "metadata": {
    "tags": []
   },
   "outputs": [
    {
     "name": "stdout",
     "output_type": "stream",
     "text": [
      "a    11.0\n",
      "b    22.0\n",
      "c     NaN\n",
      "d     NaN\n",
      "e     NaN\n",
      "f     NaN\n",
      "dtype: float64\n"
     ]
    }
   ],
   "source": [
    "print (first_vector_series + second_vector_series)"
   ]
  },
  {
   "cell_type": "markdown",
   "metadata": {},
   "source": [
    "## Dataframes\n",
    "\n",
    "DataFrame is another core feature of the Pandas data structure.\n",
    "\n",
    "DataFrame is a two-dimensional labeled data structure with columns of potentially different data types.\n",
    "\n",
    "A DataFrame looks like a spreadsheet with a row-columnar structure or a SQL data table with rows and columns.\n",
    "\n",
    "There can be several inputs to the DataFrame and we’ll go through them in detail. Let’s have a quick overview of the data inputs:"
   ]
  },
  {
   "cell_type": "markdown",
   "metadata": {},
   "source": [
    "The core data abstraction layer in Pandas is called a DataFrame\n",
    "\n",
    "**Any data that you load/initialize using Pandas will be represented in the form of DataFrame**\n",
    "\n",
    "- To create a Dataframe, you can use the following two approach\n",
    " 1. Create DF using collection object\n",
    " 2. Create DF by loading a file"
   ]
  },
  {
   "cell_type": "markdown",
   "metadata": {},
   "source": [
    "## List"
   ]
  },
  {
   "cell_type": "code",
   "execution_count": 15,
   "metadata": {},
   "outputs": [
    {
     "data": {
      "text/plain": [
       "[[1, 'Prashant', 1000], [2, 'Arun', 2000]]"
      ]
     },
     "execution_count": 15,
     "metadata": {},
     "output_type": "execute_result"
    }
   ],
   "source": [
    "list1 = [[1,'Prashant',1000], [2,'Arun',2000]]\n",
    "list1"
   ]
  },
  {
   "cell_type": "code",
   "execution_count": 16,
   "metadata": {},
   "outputs": [
    {
     "data": {
      "text/html": [
       "<div>\n",
       "<style scoped>\n",
       "    .dataframe tbody tr th:only-of-type {\n",
       "        vertical-align: middle;\n",
       "    }\n",
       "\n",
       "    .dataframe tbody tr th {\n",
       "        vertical-align: top;\n",
       "    }\n",
       "\n",
       "    .dataframe thead th {\n",
       "        text-align: right;\n",
       "    }\n",
       "</style>\n",
       "<table border=\"1\" class=\"dataframe\">\n",
       "  <thead>\n",
       "    <tr style=\"text-align: right;\">\n",
       "      <th></th>\n",
       "      <th>0</th>\n",
       "      <th>1</th>\n",
       "      <th>2</th>\n",
       "    </tr>\n",
       "  </thead>\n",
       "  <tbody>\n",
       "    <tr>\n",
       "      <th>0</th>\n",
       "      <td>1</td>\n",
       "      <td>Prashant</td>\n",
       "      <td>1000</td>\n",
       "    </tr>\n",
       "    <tr>\n",
       "      <th>1</th>\n",
       "      <td>2</td>\n",
       "      <td>Arun</td>\n",
       "      <td>2000</td>\n",
       "    </tr>\n",
       "  </tbody>\n",
       "</table>\n",
       "</div>"
      ],
      "text/plain": [
       "   0         1     2\n",
       "0  1  Prashant  1000\n",
       "1  2      Arun  2000"
      ]
     },
     "execution_count": 16,
     "metadata": {},
     "output_type": "execute_result"
    }
   ],
   "source": [
    "empDataFrameFromList = pd.DataFrame(list1)\n",
    "empDataFrameFromList"
   ]
  },
  {
   "cell_type": "code",
   "execution_count": 17,
   "metadata": {},
   "outputs": [
    {
     "name": "stdout",
     "output_type": "stream",
     "text": [
      "   eid     ename  esal\n",
      "0    1  Prashant  1000\n",
      "1    2      Arun  2000\n"
     ]
    },
    {
     "data": {
      "text/html": [
       "<div>\n",
       "<style scoped>\n",
       "    .dataframe tbody tr th:only-of-type {\n",
       "        vertical-align: middle;\n",
       "    }\n",
       "\n",
       "    .dataframe tbody tr th {\n",
       "        vertical-align: top;\n",
       "    }\n",
       "\n",
       "    .dataframe thead th {\n",
       "        text-align: right;\n",
       "    }\n",
       "</style>\n",
       "<table border=\"1\" class=\"dataframe\">\n",
       "  <thead>\n",
       "    <tr style=\"text-align: right;\">\n",
       "      <th></th>\n",
       "      <th>eid</th>\n",
       "      <th>ename</th>\n",
       "      <th>esal</th>\n",
       "    </tr>\n",
       "  </thead>\n",
       "  <tbody>\n",
       "    <tr>\n",
       "      <th>0</th>\n",
       "      <td>1</td>\n",
       "      <td>Prashant</td>\n",
       "      <td>1000</td>\n",
       "    </tr>\n",
       "    <tr>\n",
       "      <th>1</th>\n",
       "      <td>2</td>\n",
       "      <td>Arun</td>\n",
       "      <td>2000</td>\n",
       "    </tr>\n",
       "  </tbody>\n",
       "</table>\n",
       "</div>"
      ],
      "text/plain": [
       "   eid     ename  esal\n",
       "0    1  Prashant  1000\n",
       "1    2      Arun  2000"
      ]
     },
     "metadata": {},
     "output_type": "display_data"
    },
    {
     "data": {
      "text/html": [
       "<div>\n",
       "<style scoped>\n",
       "    .dataframe tbody tr th:only-of-type {\n",
       "        vertical-align: middle;\n",
       "    }\n",
       "\n",
       "    .dataframe tbody tr th {\n",
       "        vertical-align: top;\n",
       "    }\n",
       "\n",
       "    .dataframe thead th {\n",
       "        text-align: right;\n",
       "    }\n",
       "</style>\n",
       "<table border=\"1\" class=\"dataframe\">\n",
       "  <thead>\n",
       "    <tr style=\"text-align: right;\">\n",
       "      <th></th>\n",
       "      <th>eid</th>\n",
       "      <th>ename</th>\n",
       "      <th>esal</th>\n",
       "    </tr>\n",
       "  </thead>\n",
       "  <tbody>\n",
       "    <tr>\n",
       "      <th>0</th>\n",
       "      <td>1</td>\n",
       "      <td>Prashant</td>\n",
       "      <td>1000</td>\n",
       "    </tr>\n",
       "    <tr>\n",
       "      <th>1</th>\n",
       "      <td>2</td>\n",
       "      <td>Arun</td>\n",
       "      <td>2000</td>\n",
       "    </tr>\n",
       "  </tbody>\n",
       "</table>\n",
       "</div>"
      ],
      "text/plain": [
       "   eid     ename  esal\n",
       "0    1  Prashant  1000\n",
       "1    2      Arun  2000"
      ]
     },
     "execution_count": 17,
     "metadata": {},
     "output_type": "execute_result"
    }
   ],
   "source": [
    "# DataFrame data is represented using Row and Column indexes\n",
    "# You can replace Column indexes with column names\n",
    "\n",
    "empDataFrameFromList.columns = ['eid', 'ename', 'esal'] # set the column names\n",
    "print (empDataFrameFromList)\n",
    "\n",
    "display (empDataFrameFromList)\n",
    "\n",
    "empDataFrameFromList"
   ]
  },
  {
   "cell_type": "code",
   "execution_count": 18,
   "metadata": {},
   "outputs": [
    {
     "data": {
      "text/plain": [
       "Index(['eid', 'ename', 'esal'], dtype='object')"
      ]
     },
     "execution_count": 18,
     "metadata": {},
     "output_type": "execute_result"
    }
   ],
   "source": [
    "empDataFrameFromList.columns # get the column names"
   ]
  },
  {
   "cell_type": "markdown",
   "metadata": {},
   "source": [
    "# Inclass Assignment\n",
    "\n",
    "# 1\n"
   ]
  },
  {
   "cell_type": "markdown",
   "metadata": {},
   "source": [
    "Use the list below to create DF \"empDataFrameFromList2\" and provide the col names as 'empid','ename','esal'\n",
    "\n",
    "list2 = [[1,'Prashant',5000], [2,'Arun',8000], [3,'Aman',9899]]"
   ]
  },
  {
   "cell_type": "markdown",
   "metadata": {},
   "source": [
    "### dict\n",
    "\n",
    "A Pandas DataFrame can also be created using ***dictionary of list***. It is very efficient when it comes to indexing or reindexing a dataset for data wrangling purposes. "
   ]
  },
  {
   "cell_type": "markdown",
   "metadata": {},
   "source": [
    "In this example, we will create a dataset related to Summer Olympics. \n",
    "\n",
    "First, import the Pandas library. Then, declare a dict ‘Olympic_data_list’ and pass the indices ‘HostCity’, ‘No. of Participating Countries’, and ‘Year’ with its data elements as arguments.\n",
    "\n",
    "As you can observe, it is a tabular representation of data with rows and columns.\n",
    "Next, pass this list to the DataFrame method ‘pd.DataFrame’ to create a basic DataFrame.\n",
    "\n",
    "Note that data alignment is automatically taken care here. When we call this DataFrame ‘df_Olympic_data’, the output displays all the rows with its corresponding indices."
   ]
  },
  {
   "cell_type": "code",
   "execution_count": 19,
   "metadata": {},
   "outputs": [
    {
     "name": "stdout",
     "output_type": "stream",
     "text": [
      "<class 'dict'>\n",
      "\n"
     ]
    },
    {
     "data": {
      "text/plain": [
       "{'HostCity': ['London', 'Beijing', 'Athens', 'Sydney', 'Atlanta'],\n",
       " 'Year': [2012, 2008, 2004, 2000, 1996],\n",
       " 'No of Participating Countries': [205, 205, 201, 200, 197]}"
      ]
     },
     "execution_count": 19,
     "metadata": {},
     "output_type": "execute_result"
    }
   ],
   "source": [
    "olympic_data = {'HostCity':['London', 'Beijing', 'Athens', 'Sydney', 'Atlanta'], \n",
    "                'Year': [2012, 2008, 2004, 2000, 1996],\n",
    "                'No of Participating Countries': [205, 205, 201, 200, 197]}\n",
    "\n",
    "print (type(olympic_data))\n",
    "print ()\n",
    "olympic_data"
   ]
  },
  {
   "cell_type": "code",
   "execution_count": 20,
   "metadata": {
    "tags": []
   },
   "outputs": [
    {
     "data": {
      "text/html": [
       "<div>\n",
       "<style scoped>\n",
       "    .dataframe tbody tr th:only-of-type {\n",
       "        vertical-align: middle;\n",
       "    }\n",
       "\n",
       "    .dataframe tbody tr th {\n",
       "        vertical-align: top;\n",
       "    }\n",
       "\n",
       "    .dataframe thead th {\n",
       "        text-align: right;\n",
       "    }\n",
       "</style>\n",
       "<table border=\"1\" class=\"dataframe\">\n",
       "  <thead>\n",
       "    <tr style=\"text-align: right;\">\n",
       "      <th></th>\n",
       "      <th>HostCity</th>\n",
       "      <th>Year</th>\n",
       "      <th>No of Participating Countries</th>\n",
       "    </tr>\n",
       "  </thead>\n",
       "  <tbody>\n",
       "    <tr>\n",
       "      <th>0</th>\n",
       "      <td>London</td>\n",
       "      <td>2012</td>\n",
       "      <td>205</td>\n",
       "    </tr>\n",
       "    <tr>\n",
       "      <th>1</th>\n",
       "      <td>Beijing</td>\n",
       "      <td>2008</td>\n",
       "      <td>205</td>\n",
       "    </tr>\n",
       "    <tr>\n",
       "      <th>2</th>\n",
       "      <td>Athens</td>\n",
       "      <td>2004</td>\n",
       "      <td>201</td>\n",
       "    </tr>\n",
       "    <tr>\n",
       "      <th>3</th>\n",
       "      <td>Sydney</td>\n",
       "      <td>2000</td>\n",
       "      <td>200</td>\n",
       "    </tr>\n",
       "    <tr>\n",
       "      <th>4</th>\n",
       "      <td>Atlanta</td>\n",
       "      <td>1996</td>\n",
       "      <td>197</td>\n",
       "    </tr>\n",
       "  </tbody>\n",
       "</table>\n",
       "</div>"
      ],
      "text/plain": [
       "  HostCity  Year  No of Participating Countries\n",
       "0   London  2012                            205\n",
       "1  Beijing  2008                            205\n",
       "2   Athens  2004                            201\n",
       "3   Sydney  2000                            200\n",
       "4  Atlanta  1996                            197"
      ]
     },
     "execution_count": 20,
     "metadata": {},
     "output_type": "execute_result"
    }
   ],
   "source": [
    "# dictionary of list as an argument to pd.DataFrame\n",
    "\n",
    "df_olympic_data = pd.DataFrame(olympic_data)\n",
    "df_olympic_data"
   ]
  },
  {
   "cell_type": "markdown",
   "metadata": {},
   "source": [
    "### Series\n",
    "\n",
    "Series can also be an input to a DataFrame. "
   ]
  },
  {
   "cell_type": "markdown",
   "metadata": {},
   "source": [
    "Let’s learn how to create DataFrame from series.\n",
    "\n",
    "Let’s create two series first. The first series, ‘olympic_series_participation’, is for the number of countries participating for the given year. The second series, ‘olympic_series_country’, is for the cities which held the Olympics that year. \n",
    "Now, create a DataFrame ‘df_olympic_series’ and pass both the series as dicts in it. You can also assign column names in the DataFrame and manipulate the dataset as shown in this example. "
   ]
  },
  {
   "cell_type": "code",
   "execution_count": 21,
   "metadata": {},
   "outputs": [],
   "source": [
    "olympic_series_participation = pd.Series([205,205,201,200,197], index = [2012,2008,2004,2000,1996])\n",
    "olympic_series_countries = pd.Series(['London', 'Beijing', 'Athens', 'Sydney', 'Atlanta'], index = [2012,2008,2004,2000,1996])"
   ]
  },
  {
   "cell_type": "code",
   "execution_count": 22,
   "metadata": {
    "tags": []
   },
   "outputs": [
    {
     "name": "stdout",
     "output_type": "stream",
     "text": [
      "2012    205\n",
      "2008    205\n",
      "2004    201\n",
      "2000    200\n",
      "1996    197\n",
      "dtype: int64\n",
      "\n",
      "2012     London\n",
      "2008    Beijing\n",
      "2004     Athens\n",
      "2000     Sydney\n",
      "1996    Atlanta\n",
      "dtype: object\n"
     ]
    }
   ],
   "source": [
    "print (olympic_series_participation)\n",
    "print ()\n",
    "print (olympic_series_countries)"
   ]
  },
  {
   "cell_type": "code",
   "execution_count": 23,
   "metadata": {
    "tags": []
   },
   "outputs": [
    {
     "data": {
      "text/html": [
       "<div>\n",
       "<style scoped>\n",
       "    .dataframe tbody tr th:only-of-type {\n",
       "        vertical-align: middle;\n",
       "    }\n",
       "\n",
       "    .dataframe tbody tr th {\n",
       "        vertical-align: top;\n",
       "    }\n",
       "\n",
       "    .dataframe thead th {\n",
       "        text-align: right;\n",
       "    }\n",
       "</style>\n",
       "<table border=\"1\" class=\"dataframe\">\n",
       "  <thead>\n",
       "    <tr style=\"text-align: right;\">\n",
       "      <th></th>\n",
       "      <th>No. of Participating Countries</th>\n",
       "      <th>HostCity</th>\n",
       "    </tr>\n",
       "  </thead>\n",
       "  <tbody>\n",
       "    <tr>\n",
       "      <th>2012</th>\n",
       "      <td>205</td>\n",
       "      <td>London</td>\n",
       "    </tr>\n",
       "    <tr>\n",
       "      <th>2008</th>\n",
       "      <td>205</td>\n",
       "      <td>Beijing</td>\n",
       "    </tr>\n",
       "    <tr>\n",
       "      <th>2004</th>\n",
       "      <td>201</td>\n",
       "      <td>Athens</td>\n",
       "    </tr>\n",
       "    <tr>\n",
       "      <th>2000</th>\n",
       "      <td>200</td>\n",
       "      <td>Sydney</td>\n",
       "    </tr>\n",
       "    <tr>\n",
       "      <th>1996</th>\n",
       "      <td>197</td>\n",
       "      <td>Atlanta</td>\n",
       "    </tr>\n",
       "  </tbody>\n",
       "</table>\n",
       "</div>"
      ],
      "text/plain": [
       "      No. of Participating Countries HostCity\n",
       "2012                             205   London\n",
       "2008                             205  Beijing\n",
       "2004                             201   Athens\n",
       "2000                             200   Sydney\n",
       "1996                             197  Atlanta"
      ]
     },
     "execution_count": 23,
     "metadata": {},
     "output_type": "execute_result"
    }
   ],
   "source": [
    "# dictionary of Series\n",
    "\n",
    "df_olympic_series = pd.DataFrame({'No. of Participating Countries': olympic_series_participation,\n",
    "                                  'HostCity': olympic_series_countries})\n",
    "df_olympic_series"
   ]
  },
  {
   "cell_type": "markdown",
   "metadata": {},
   "source": [
    "### ndarray\n",
    "    \n",
    "An ndarray can be used as an input to creating Pandas DataFrame. The use of ndarray is recommended wherever the dataset is number centric and when instances require complex numerical computing.\n"
   ]
  },
  {
   "cell_type": "code",
   "execution_count": 24,
   "metadata": {},
   "outputs": [],
   "source": [
    "# Create ndarrays \n",
    "\n",
    "olympic_array_year = np.array([2012,2008,2004,2000,1996]) # array\n",
    "olympic_array_participation = np.array([205,205,201,200,197])\n",
    "olympic_array_countries = np.array(['London', 'Beijing', 'Athens', 'Sydney', 'Atlanta'])"
   ]
  },
  {
   "cell_type": "code",
   "execution_count": 25,
   "metadata": {
    "tags": []
   },
   "outputs": [
    {
     "data": {
      "text/html": [
       "<div>\n",
       "<style scoped>\n",
       "    .dataframe tbody tr th:only-of-type {\n",
       "        vertical-align: middle;\n",
       "    }\n",
       "\n",
       "    .dataframe tbody tr th {\n",
       "        vertical-align: top;\n",
       "    }\n",
       "\n",
       "    .dataframe thead th {\n",
       "        text-align: right;\n",
       "    }\n",
       "</style>\n",
       "<table border=\"1\" class=\"dataframe\">\n",
       "  <thead>\n",
       "    <tr style=\"text-align: right;\">\n",
       "      <th></th>\n",
       "      <th>No of Participating Countries</th>\n",
       "      <th>HostCity</th>\n",
       "      <th>Year</th>\n",
       "    </tr>\n",
       "  </thead>\n",
       "  <tbody>\n",
       "    <tr>\n",
       "      <th>0</th>\n",
       "      <td>205</td>\n",
       "      <td>London</td>\n",
       "      <td>2012</td>\n",
       "    </tr>\n",
       "    <tr>\n",
       "      <th>1</th>\n",
       "      <td>205</td>\n",
       "      <td>Beijing</td>\n",
       "      <td>2008</td>\n",
       "    </tr>\n",
       "    <tr>\n",
       "      <th>2</th>\n",
       "      <td>201</td>\n",
       "      <td>Athens</td>\n",
       "      <td>2004</td>\n",
       "    </tr>\n",
       "    <tr>\n",
       "      <th>3</th>\n",
       "      <td>200</td>\n",
       "      <td>Sydney</td>\n",
       "      <td>2000</td>\n",
       "    </tr>\n",
       "    <tr>\n",
       "      <th>4</th>\n",
       "      <td>197</td>\n",
       "      <td>Atlanta</td>\n",
       "      <td>1996</td>\n",
       "    </tr>\n",
       "  </tbody>\n",
       "</table>\n",
       "</div>"
      ],
      "text/plain": [
       "   No of Participating Countries HostCity  Year\n",
       "0                            205   London  2012\n",
       "1                            205  Beijing  2008\n",
       "2                            201   Athens  2004\n",
       "3                            200   Sydney  2000\n",
       "4                            197  Atlanta  1996"
      ]
     },
     "execution_count": 25,
     "metadata": {},
     "output_type": "execute_result"
    }
   ],
   "source": [
    "# Create a df with the ndarray dict\n",
    "\n",
    "df_olympic_array = pd.DataFrame({'No of Participating Countries': olympic_array_participation, \n",
    "                                 'HostCity': olympic_array_countries, 'Year' : olympic_array_year}) # dictionary of array\n",
    "df_olympic_array"
   ]
  },
  {
   "cell_type": "code",
   "execution_count": 26,
   "metadata": {},
   "outputs": [
    {
     "data": {
      "text/plain": [
       "Index(['A', 'B', 'C', 'D', 'E'], dtype='object')"
      ]
     },
     "execution_count": 26,
     "metadata": {},
     "output_type": "execute_result"
    }
   ],
   "source": [
    "df_olympic_array.index = ['A', 'B', 'C', 'D', 'E'] # set the row index\n",
    "df_olympic_array.index # get the row index"
   ]
  },
  {
   "cell_type": "code",
   "execution_count": 27,
   "metadata": {},
   "outputs": [
    {
     "data": {
      "text/html": [
       "<div>\n",
       "<style scoped>\n",
       "    .dataframe tbody tr th:only-of-type {\n",
       "        vertical-align: middle;\n",
       "    }\n",
       "\n",
       "    .dataframe tbody tr th {\n",
       "        vertical-align: top;\n",
       "    }\n",
       "\n",
       "    .dataframe thead th {\n",
       "        text-align: right;\n",
       "    }\n",
       "</style>\n",
       "<table border=\"1\" class=\"dataframe\">\n",
       "  <thead>\n",
       "    <tr style=\"text-align: right;\">\n",
       "      <th></th>\n",
       "      <th>No of Participating Countries</th>\n",
       "      <th>HostCity</th>\n",
       "      <th>Year</th>\n",
       "    </tr>\n",
       "  </thead>\n",
       "  <tbody>\n",
       "    <tr>\n",
       "      <th>A</th>\n",
       "      <td>205</td>\n",
       "      <td>London</td>\n",
       "      <td>2012</td>\n",
       "    </tr>\n",
       "    <tr>\n",
       "      <th>B</th>\n",
       "      <td>205</td>\n",
       "      <td>Beijing</td>\n",
       "      <td>2008</td>\n",
       "    </tr>\n",
       "    <tr>\n",
       "      <th>C</th>\n",
       "      <td>201</td>\n",
       "      <td>Athens</td>\n",
       "      <td>2004</td>\n",
       "    </tr>\n",
       "    <tr>\n",
       "      <th>D</th>\n",
       "      <td>200</td>\n",
       "      <td>Sydney</td>\n",
       "      <td>2000</td>\n",
       "    </tr>\n",
       "    <tr>\n",
       "      <th>E</th>\n",
       "      <td>197</td>\n",
       "      <td>Atlanta</td>\n",
       "      <td>1996</td>\n",
       "    </tr>\n",
       "  </tbody>\n",
       "</table>\n",
       "</div>"
      ],
      "text/plain": [
       "   No of Participating Countries HostCity  Year\n",
       "A                            205   London  2012\n",
       "B                            205  Beijing  2008\n",
       "C                            201   Athens  2004\n",
       "D                            200   Sydney  2000\n",
       "E                            197  Atlanta  1996"
      ]
     },
     "execution_count": 27,
     "metadata": {},
     "output_type": "execute_result"
    }
   ],
   "source": [
    "df_olympic_array"
   ]
  },
  {
   "cell_type": "markdown",
   "metadata": {},
   "source": [
    "## Accessing column in a dataframe"
   ]
  },
  {
   "cell_type": "code",
   "execution_count": 28,
   "metadata": {},
   "outputs": [
    {
     "data": {
      "text/html": [
       "<div>\n",
       "<style scoped>\n",
       "    .dataframe tbody tr th:only-of-type {\n",
       "        vertical-align: middle;\n",
       "    }\n",
       "\n",
       "    .dataframe tbody tr th {\n",
       "        vertical-align: top;\n",
       "    }\n",
       "\n",
       "    .dataframe thead th {\n",
       "        text-align: right;\n",
       "    }\n",
       "</style>\n",
       "<table border=\"1\" class=\"dataframe\">\n",
       "  <thead>\n",
       "    <tr style=\"text-align: right;\">\n",
       "      <th></th>\n",
       "      <th>HostCity</th>\n",
       "      <th>Year</th>\n",
       "      <th>No of Participating Countries</th>\n",
       "    </tr>\n",
       "  </thead>\n",
       "  <tbody>\n",
       "    <tr>\n",
       "      <th>0</th>\n",
       "      <td>London</td>\n",
       "      <td>2012</td>\n",
       "      <td>205</td>\n",
       "    </tr>\n",
       "    <tr>\n",
       "      <th>1</th>\n",
       "      <td>Beijing</td>\n",
       "      <td>2008</td>\n",
       "      <td>205</td>\n",
       "    </tr>\n",
       "    <tr>\n",
       "      <th>2</th>\n",
       "      <td>Athens</td>\n",
       "      <td>2004</td>\n",
       "      <td>201</td>\n",
       "    </tr>\n",
       "    <tr>\n",
       "      <th>3</th>\n",
       "      <td>Sydney</td>\n",
       "      <td>2000</td>\n",
       "      <td>200</td>\n",
       "    </tr>\n",
       "    <tr>\n",
       "      <th>4</th>\n",
       "      <td>Atlanta</td>\n",
       "      <td>1996</td>\n",
       "      <td>197</td>\n",
       "    </tr>\n",
       "  </tbody>\n",
       "</table>\n",
       "</div>"
      ],
      "text/plain": [
       "  HostCity  Year  No of Participating Countries\n",
       "0   London  2012                            205\n",
       "1  Beijing  2008                            205\n",
       "2   Athens  2004                            201\n",
       "3   Sydney  2000                            200\n",
       "4  Atlanta  1996                            197"
      ]
     },
     "execution_count": 28,
     "metadata": {},
     "output_type": "execute_result"
    }
   ],
   "source": [
    "df_olympic_data"
   ]
  },
  {
   "cell_type": "code",
   "execution_count": 29,
   "metadata": {},
   "outputs": [
    {
     "data": {
      "text/plain": [
       "0     London\n",
       "1    Beijing\n",
       "2     Athens\n",
       "3     Sydney\n",
       "4    Atlanta\n",
       "Name: HostCity, dtype: object"
      ]
     },
     "execution_count": 29,
     "metadata": {},
     "output_type": "execute_result"
    }
   ],
   "source": [
    "df_olympic_data.HostCity # used for working with a single column"
   ]
  },
  {
   "cell_type": "code",
   "execution_count": 30,
   "metadata": {
    "collapsed": true,
    "jupyter": {
     "outputs_hidden": true
    },
    "tags": []
   },
   "outputs": [
    {
     "data": {
      "text/html": [
       "<div>\n",
       "<style scoped>\n",
       "    .dataframe tbody tr th:only-of-type {\n",
       "        vertical-align: middle;\n",
       "    }\n",
       "\n",
       "    .dataframe tbody tr th {\n",
       "        vertical-align: top;\n",
       "    }\n",
       "\n",
       "    .dataframe thead th {\n",
       "        text-align: right;\n",
       "    }\n",
       "</style>\n",
       "<table border=\"1\" class=\"dataframe\">\n",
       "  <thead>\n",
       "    <tr style=\"text-align: right;\">\n",
       "      <th></th>\n",
       "      <th>HostCity</th>\n",
       "      <th>Year</th>\n",
       "    </tr>\n",
       "  </thead>\n",
       "  <tbody>\n",
       "    <tr>\n",
       "      <th>0</th>\n",
       "      <td>London</td>\n",
       "      <td>2012</td>\n",
       "    </tr>\n",
       "    <tr>\n",
       "      <th>1</th>\n",
       "      <td>Beijing</td>\n",
       "      <td>2008</td>\n",
       "    </tr>\n",
       "    <tr>\n",
       "      <th>2</th>\n",
       "      <td>Athens</td>\n",
       "      <td>2004</td>\n",
       "    </tr>\n",
       "    <tr>\n",
       "      <th>3</th>\n",
       "      <td>Sydney</td>\n",
       "      <td>2000</td>\n",
       "    </tr>\n",
       "    <tr>\n",
       "      <th>4</th>\n",
       "      <td>Atlanta</td>\n",
       "      <td>1996</td>\n",
       "    </tr>\n",
       "  </tbody>\n",
       "</table>\n",
       "</div>"
      ],
      "text/plain": [
       "  HostCity  Year\n",
       "0   London  2012\n",
       "1  Beijing  2008\n",
       "2   Athens  2004\n",
       "3   Sydney  2000\n",
       "4  Atlanta  1996"
      ]
     },
     "execution_count": 30,
     "metadata": {},
     "output_type": "execute_result"
    }
   ],
   "source": [
    "df_olympic_data[[\"HostCity\", \"Year\"]] # used for accessing multiple columns"
   ]
  },
  {
   "cell_type": "code",
   "execution_count": 31,
   "metadata": {},
   "outputs": [
    {
     "ename": "SyntaxError",
     "evalue": "invalid syntax (<ipython-input-31-3c17888e4c21>, line 1)",
     "output_type": "error",
     "traceback": [
      "\u001b[0;36m  File \u001b[0;32m\"<ipython-input-31-3c17888e4c21>\"\u001b[0;36m, line \u001b[0;32m1\u001b[0m\n\u001b[0;31m    df_olympic_data.No of Participating Countries\u001b[0m\n\u001b[0m                        ^\u001b[0m\n\u001b[0;31mSyntaxError\u001b[0m\u001b[0;31m:\u001b[0m invalid syntax\n"
     ]
    }
   ],
   "source": [
    "df_olympic_data.No of Participating Countries # columns with spaces in the name"
   ]
  },
  {
   "cell_type": "code",
   "execution_count": 32,
   "metadata": {
    "collapsed": true,
    "jupyter": {
     "outputs_hidden": true
    },
    "tags": []
   },
   "outputs": [
    {
     "data": {
      "text/html": [
       "<div>\n",
       "<style scoped>\n",
       "    .dataframe tbody tr th:only-of-type {\n",
       "        vertical-align: middle;\n",
       "    }\n",
       "\n",
       "    .dataframe tbody tr th {\n",
       "        vertical-align: top;\n",
       "    }\n",
       "\n",
       "    .dataframe thead th {\n",
       "        text-align: right;\n",
       "    }\n",
       "</style>\n",
       "<table border=\"1\" class=\"dataframe\">\n",
       "  <thead>\n",
       "    <tr style=\"text-align: right;\">\n",
       "      <th></th>\n",
       "      <th>No of Participating Countries</th>\n",
       "    </tr>\n",
       "  </thead>\n",
       "  <tbody>\n",
       "    <tr>\n",
       "      <th>0</th>\n",
       "      <td>205</td>\n",
       "    </tr>\n",
       "    <tr>\n",
       "      <th>1</th>\n",
       "      <td>205</td>\n",
       "    </tr>\n",
       "    <tr>\n",
       "      <th>2</th>\n",
       "      <td>201</td>\n",
       "    </tr>\n",
       "    <tr>\n",
       "      <th>3</th>\n",
       "      <td>200</td>\n",
       "    </tr>\n",
       "    <tr>\n",
       "      <th>4</th>\n",
       "      <td>197</td>\n",
       "    </tr>\n",
       "  </tbody>\n",
       "</table>\n",
       "</div>"
      ],
      "text/plain": [
       "   No of Participating Countries\n",
       "0                            205\n",
       "1                            205\n",
       "2                            201\n",
       "3                            200\n",
       "4                            197"
      ]
     },
     "execution_count": 32,
     "metadata": {},
     "output_type": "execute_result"
    }
   ],
   "source": [
    "df_olympic_data[[\"No of Participating Countries\"]]"
   ]
  },
  {
   "cell_type": "code",
   "execution_count": 35,
   "metadata": {},
   "outputs": [
    {
     "data": {
      "text/plain": [
       "Index(['HostCity', 'Year', 'No_of_Participating_Countries'], dtype='object')"
      ]
     },
     "execution_count": 35,
     "metadata": {},
     "output_type": "execute_result"
    }
   ],
   "source": [
    "# how to replace space with underscore in python column headers?\n",
    "\n",
    "df_olympic_data.columns = df_olympic_data.columns.str.replace(' ','_')\n",
    "df_olympic_data.columns"
   ]
  },
  {
   "cell_type": "code",
   "execution_count": 36,
   "metadata": {
    "collapsed": true,
    "jupyter": {
     "outputs_hidden": true
    },
    "tags": []
   },
   "outputs": [
    {
     "data": {
      "text/plain": [
       "0    205\n",
       "1    205\n",
       "2    201\n",
       "3    200\n",
       "4    197\n",
       "Name: No_of_Participating_Countries, dtype: int64"
      ]
     },
     "execution_count": 36,
     "metadata": {},
     "output_type": "execute_result"
    }
   ],
   "source": [
    "df_olympic_data.No_of_Participating_Countries"
   ]
  },
  {
   "cell_type": "markdown",
   "metadata": {},
   "source": [
    "## Data Operation with Statistical Functions"
   ]
  },
  {
   "cell_type": "code",
   "execution_count": 37,
   "metadata": {},
   "outputs": [
    {
     "data": {
      "text/html": [
       "<div>\n",
       "<style scoped>\n",
       "    .dataframe tbody tr th:only-of-type {\n",
       "        vertical-align: middle;\n",
       "    }\n",
       "\n",
       "    .dataframe tbody tr th {\n",
       "        vertical-align: top;\n",
       "    }\n",
       "\n",
       "    .dataframe thead th {\n",
       "        text-align: right;\n",
       "    }\n",
       "</style>\n",
       "<table border=\"1\" class=\"dataframe\">\n",
       "  <thead>\n",
       "    <tr style=\"text-align: right;\">\n",
       "      <th></th>\n",
       "      <th>Test1</th>\n",
       "      <th>Test2</th>\n",
       "    </tr>\n",
       "  </thead>\n",
       "  <tbody>\n",
       "    <tr>\n",
       "      <th>Jack</th>\n",
       "      <td>95</td>\n",
       "      <td>74</td>\n",
       "    </tr>\n",
       "    <tr>\n",
       "      <th>Lewis</th>\n",
       "      <td>84</td>\n",
       "      <td>85</td>\n",
       "    </tr>\n",
       "    <tr>\n",
       "      <th>Patrick</th>\n",
       "      <td>73</td>\n",
       "      <td>82</td>\n",
       "    </tr>\n",
       "    <tr>\n",
       "      <th>Rich</th>\n",
       "      <td>88</td>\n",
       "      <td>73</td>\n",
       "    </tr>\n",
       "    <tr>\n",
       "      <th>Kelly</th>\n",
       "      <td>82</td>\n",
       "      <td>77</td>\n",
       "    </tr>\n",
       "    <tr>\n",
       "      <th>Paula</th>\n",
       "      <td>61</td>\n",
       "      <td>79</td>\n",
       "    </tr>\n",
       "  </tbody>\n",
       "</table>\n",
       "</div>"
      ],
      "text/plain": [
       "         Test1  Test2\n",
       "Jack        95     74\n",
       "Lewis       84     85\n",
       "Patrick     73     82\n",
       "Rich        88     73\n",
       "Kelly       82     77\n",
       "Paula       61     79"
      ]
     },
     "metadata": {},
     "output_type": "display_data"
    }
   ],
   "source": [
    "df_test_scores = pd.DataFrame({'Test1': [95,84,73,88,82,61], 'Test2': [74,85,82,73,77,79]}, \n",
    "                              index = ['Jack','Lewis','Patrick','Rich','Kelly','Paula'])\n",
    "\n",
    "display (df_test_scores)"
   ]
  },
  {
   "cell_type": "code",
   "execution_count": 38,
   "metadata": {},
   "outputs": [
    {
     "data": {
      "text/plain": [
       "(6, 2)"
      ]
     },
     "execution_count": 38,
     "metadata": {},
     "output_type": "execute_result"
    }
   ],
   "source": [
    "df_test_scores.shape"
   ]
  },
  {
   "cell_type": "code",
   "execution_count": 39,
   "metadata": {},
   "outputs": [
    {
     "data": {
      "text/plain": [
       "Test1    95\n",
       "Test2    85\n",
       "dtype: int64"
      ]
     },
     "execution_count": 39,
     "metadata": {},
     "output_type": "execute_result"
    }
   ],
   "source": [
    "df_test_scores.max() # default column wise ans"
   ]
  },
  {
   "cell_type": "code",
   "execution_count": 40,
   "metadata": {
    "tags": []
   },
   "outputs": [
    {
     "data": {
      "text/plain": [
       "Jack       95\n",
       "Lewis      85\n",
       "Patrick    82\n",
       "Rich       88\n",
       "Kelly      82\n",
       "Paula      79\n",
       "dtype: int64"
      ]
     },
     "execution_count": 40,
     "metadata": {},
     "output_type": "execute_result"
    }
   ],
   "source": [
    "df_test_scores.max(axis = 1)  # axis = 1 = represents rows"
   ]
  },
  {
   "cell_type": "code",
   "execution_count": 41,
   "metadata": {
    "tags": []
   },
   "outputs": [
    {
     "data": {
      "text/plain": [
       "Test1    80.500000\n",
       "Test2    78.333333\n",
       "dtype: float64"
      ]
     },
     "execution_count": 41,
     "metadata": {},
     "output_type": "execute_result"
    }
   ],
   "source": [
    "df_test_scores.mean()"
   ]
  },
  {
   "cell_type": "code",
   "execution_count": 46,
   "metadata": {},
   "outputs": [
    {
     "data": {
      "text/plain": [
       "80.5"
      ]
     },
     "execution_count": 46,
     "metadata": {},
     "output_type": "execute_result"
    }
   ],
   "source": [
    "df_test_scores.Test1.mean()"
   ]
  },
  {
   "cell_type": "code",
   "execution_count": 42,
   "metadata": {
    "tags": []
   },
   "outputs": [
    {
     "data": {
      "text/plain": [
       "Jack       84.5\n",
       "Lewis      84.5\n",
       "Patrick    77.5\n",
       "Rich       80.5\n",
       "Kelly      79.5\n",
       "Paula      70.0\n",
       "dtype: float64"
      ]
     },
     "execution_count": 42,
     "metadata": {},
     "output_type": "execute_result"
    }
   ],
   "source": [
    "df_test_scores.mean(axis = 1)"
   ]
  },
  {
   "cell_type": "markdown",
   "metadata": {},
   "source": [
    "## Creating a new column "
   ]
  },
  {
   "cell_type": "code",
   "execution_count": 43,
   "metadata": {
    "collapsed": true,
    "jupyter": {
     "outputs_hidden": true
    },
    "tags": []
   },
   "outputs": [
    {
     "name": "stderr",
     "output_type": "stream",
     "text": [
      "/usr/local/lib/python3.7/site-packages/ipykernel_launcher.py:1: UserWarning: Pandas doesn't allow columns to be created via a new attribute name - see https://pandas.pydata.org/pandas-docs/stable/indexing.html#attribute-access\n",
      "  \"\"\"Entry point for launching an IPython kernel.\n"
     ]
    },
    {
     "data": {
      "text/html": [
       "<div>\n",
       "<style scoped>\n",
       "    .dataframe tbody tr th:only-of-type {\n",
       "        vertical-align: middle;\n",
       "    }\n",
       "\n",
       "    .dataframe tbody tr th {\n",
       "        vertical-align: top;\n",
       "    }\n",
       "\n",
       "    .dataframe thead th {\n",
       "        text-align: right;\n",
       "    }\n",
       "</style>\n",
       "<table border=\"1\" class=\"dataframe\">\n",
       "  <thead>\n",
       "    <tr style=\"text-align: right;\">\n",
       "      <th></th>\n",
       "      <th>Test1</th>\n",
       "      <th>Test2</th>\n",
       "    </tr>\n",
       "  </thead>\n",
       "  <tbody>\n",
       "    <tr>\n",
       "      <th>Jack</th>\n",
       "      <td>95</td>\n",
       "      <td>74</td>\n",
       "    </tr>\n",
       "    <tr>\n",
       "      <th>Lewis</th>\n",
       "      <td>84</td>\n",
       "      <td>85</td>\n",
       "    </tr>\n",
       "    <tr>\n",
       "      <th>Patrick</th>\n",
       "      <td>73</td>\n",
       "      <td>82</td>\n",
       "    </tr>\n",
       "    <tr>\n",
       "      <th>Rich</th>\n",
       "      <td>88</td>\n",
       "      <td>73</td>\n",
       "    </tr>\n",
       "    <tr>\n",
       "      <th>Kelly</th>\n",
       "      <td>82</td>\n",
       "      <td>77</td>\n",
       "    </tr>\n",
       "    <tr>\n",
       "      <th>Paula</th>\n",
       "      <td>61</td>\n",
       "      <td>79</td>\n",
       "    </tr>\n",
       "  </tbody>\n",
       "</table>\n",
       "</div>"
      ],
      "text/plain": [
       "         Test1  Test2\n",
       "Jack        95     74\n",
       "Lewis       84     85\n",
       "Patrick     73     82\n",
       "Rich        88     73\n",
       "Kelly       82     77\n",
       "Paula       61     79"
      ]
     },
     "execution_count": 43,
     "metadata": {},
     "output_type": "execute_result"
    }
   ],
   "source": [
    "df_test_scores.Total_Scores = df_test_scores.Test1 + df_test_scores.Test2\n",
    "df_test_scores"
   ]
  },
  {
   "cell_type": "code",
   "execution_count": 44,
   "metadata": {
    "collapsed": true,
    "jupyter": {
     "outputs_hidden": true
    },
    "tags": []
   },
   "outputs": [
    {
     "data": {
      "text/html": [
       "<div>\n",
       "<style scoped>\n",
       "    .dataframe tbody tr th:only-of-type {\n",
       "        vertical-align: middle;\n",
       "    }\n",
       "\n",
       "    .dataframe tbody tr th {\n",
       "        vertical-align: top;\n",
       "    }\n",
       "\n",
       "    .dataframe thead th {\n",
       "        text-align: right;\n",
       "    }\n",
       "</style>\n",
       "<table border=\"1\" class=\"dataframe\">\n",
       "  <thead>\n",
       "    <tr style=\"text-align: right;\">\n",
       "      <th></th>\n",
       "      <th>Test1</th>\n",
       "      <th>Test2</th>\n",
       "      <th>Total_Scores</th>\n",
       "    </tr>\n",
       "  </thead>\n",
       "  <tbody>\n",
       "    <tr>\n",
       "      <th>Jack</th>\n",
       "      <td>95</td>\n",
       "      <td>74</td>\n",
       "      <td>169</td>\n",
       "    </tr>\n",
       "    <tr>\n",
       "      <th>Lewis</th>\n",
       "      <td>84</td>\n",
       "      <td>85</td>\n",
       "      <td>169</td>\n",
       "    </tr>\n",
       "    <tr>\n",
       "      <th>Patrick</th>\n",
       "      <td>73</td>\n",
       "      <td>82</td>\n",
       "      <td>155</td>\n",
       "    </tr>\n",
       "    <tr>\n",
       "      <th>Rich</th>\n",
       "      <td>88</td>\n",
       "      <td>73</td>\n",
       "      <td>161</td>\n",
       "    </tr>\n",
       "    <tr>\n",
       "      <th>Kelly</th>\n",
       "      <td>82</td>\n",
       "      <td>77</td>\n",
       "      <td>159</td>\n",
       "    </tr>\n",
       "    <tr>\n",
       "      <th>Paula</th>\n",
       "      <td>61</td>\n",
       "      <td>79</td>\n",
       "      <td>140</td>\n",
       "    </tr>\n",
       "  </tbody>\n",
       "</table>\n",
       "</div>"
      ],
      "text/plain": [
       "         Test1  Test2  Total_Scores\n",
       "Jack        95     74           169\n",
       "Lewis       84     85           169\n",
       "Patrick     73     82           155\n",
       "Rich        88     73           161\n",
       "Kelly       82     77           159\n",
       "Paula       61     79           140"
      ]
     },
     "execution_count": 44,
     "metadata": {},
     "output_type": "execute_result"
    }
   ],
   "source": [
    "df_test_scores[[\"Total_Scores\"]] = df_test_scores.Test1 + df_test_scores.Test2\n",
    "df_test_scores # deprecated in higher version"
   ]
  },
  {
   "cell_type": "code",
   "execution_count": 45,
   "metadata": {},
   "outputs": [
    {
     "data": {
      "text/html": [
       "<div>\n",
       "<style scoped>\n",
       "    .dataframe tbody tr th:only-of-type {\n",
       "        vertical-align: middle;\n",
       "    }\n",
       "\n",
       "    .dataframe tbody tr th {\n",
       "        vertical-align: top;\n",
       "    }\n",
       "\n",
       "    .dataframe thead th {\n",
       "        text-align: right;\n",
       "    }\n",
       "</style>\n",
       "<table border=\"1\" class=\"dataframe\">\n",
       "  <thead>\n",
       "    <tr style=\"text-align: right;\">\n",
       "      <th></th>\n",
       "      <th>Test1</th>\n",
       "      <th>Test2</th>\n",
       "      <th>Total_Scores</th>\n",
       "    </tr>\n",
       "  </thead>\n",
       "  <tbody>\n",
       "    <tr>\n",
       "      <th>Jack</th>\n",
       "      <td>95</td>\n",
       "      <td>74</td>\n",
       "      <td>169</td>\n",
       "    </tr>\n",
       "    <tr>\n",
       "      <th>Lewis</th>\n",
       "      <td>84</td>\n",
       "      <td>85</td>\n",
       "      <td>169</td>\n",
       "    </tr>\n",
       "    <tr>\n",
       "      <th>Patrick</th>\n",
       "      <td>73</td>\n",
       "      <td>82</td>\n",
       "      <td>155</td>\n",
       "    </tr>\n",
       "    <tr>\n",
       "      <th>Rich</th>\n",
       "      <td>88</td>\n",
       "      <td>73</td>\n",
       "      <td>161</td>\n",
       "    </tr>\n",
       "    <tr>\n",
       "      <th>Kelly</th>\n",
       "      <td>82</td>\n",
       "      <td>77</td>\n",
       "      <td>159</td>\n",
       "    </tr>\n",
       "    <tr>\n",
       "      <th>Paula</th>\n",
       "      <td>61</td>\n",
       "      <td>79</td>\n",
       "      <td>140</td>\n",
       "    </tr>\n",
       "  </tbody>\n",
       "</table>\n",
       "</div>"
      ],
      "text/plain": [
       "         Test1  Test2  Total_Scores\n",
       "Jack        95     74           169\n",
       "Lewis       84     85           169\n",
       "Patrick     73     82           155\n",
       "Rich        88     73           161\n",
       "Kelly       82     77           159\n",
       "Paula       61     79           140"
      ]
     },
     "execution_count": 45,
     "metadata": {},
     "output_type": "execute_result"
    }
   ],
   "source": [
    "df_test_scores['Total_Scores'] = df_test_scores.Test1 + df_test_scores.Test2\n",
    "df_test_scores"
   ]
  },
  {
   "cell_type": "code",
   "execution_count": null,
   "metadata": {},
   "outputs": [],
   "source": []
  },
  {
   "cell_type": "code",
   "execution_count": null,
   "metadata": {},
   "outputs": [],
   "source": []
  },
  {
   "cell_type": "code",
   "execution_count": null,
   "metadata": {},
   "outputs": [],
   "source": []
  }
 ],
 "metadata": {
  "kernelspec": {
   "display_name": "Python 3 (ipykernel)",
   "language": "python",
   "name": "python3"
  },
  "language_info": {
   "codemirror_mode": {
    "name": "ipython",
    "version": 3
   },
   "file_extension": ".py",
   "mimetype": "text/x-python",
   "name": "python",
   "nbconvert_exporter": "python",
   "pygments_lexer": "ipython3",
   "version": "3.9.12"
  }
 },
 "nbformat": 4,
 "nbformat_minor": 4
}
