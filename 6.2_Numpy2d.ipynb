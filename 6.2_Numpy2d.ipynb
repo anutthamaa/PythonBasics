{
 "cells": [
  {
   "cell_type": "code",
   "execution_count": 1,
   "id": "ef8ae719-1297-46d0-868e-61f4e2780c23",
   "metadata": {},
   "outputs": [],
   "source": [
    "#import the libraries\n",
    "\n",
    "import numpy as np\n",
    "import matplotlib.pyplot as plt"
   ]
  },
  {
   "cell_type": "code",
   "execution_count": 2,
   "id": "bd6c4341-72bc-4040-9b11-b3d8625fbcb6",
   "metadata": {},
   "outputs": [],
   "source": [
    "#create a list\n",
    "a=[[11,12,13],[21,22,23],[31,32,33]]"
   ]
  },
  {
   "cell_type": "code",
   "execution_count": 3,
   "id": "e250c4e8-addf-443e-8eb2-c48524117845",
   "metadata": {},
   "outputs": [
    {
     "data": {
      "text/plain": [
       "array([[11, 12, 13],\n",
       "       [21, 22, 23],\n",
       "       [31, 32, 33]])"
      ]
     },
     "execution_count": 3,
     "metadata": {},
     "output_type": "execute_result"
    }
   ],
   "source": [
    "#convert to numpy array\n",
    "A=np.array(a)\n",
    "A"
   ]
  },
  {
   "cell_type": "code",
   "execution_count": 4,
   "id": "2d08e352-bb5e-4cc4-95f6-a4069784d116",
   "metadata": {},
   "outputs": [
    {
     "data": {
      "text/plain": [
       "2"
      ]
     },
     "execution_count": 4,
     "metadata": {},
     "output_type": "execute_result"
    }
   ],
   "source": [
    "#get the dimension of array\n",
    "A.ndim"
   ]
  },
  {
   "cell_type": "code",
   "execution_count": 5,
   "id": "e281e53f-fa33-4619-9f93-9501f7efd441",
   "metadata": {},
   "outputs": [
    {
     "data": {
      "text/plain": [
       "(3, 3)"
      ]
     },
     "execution_count": 5,
     "metadata": {},
     "output_type": "execute_result"
    }
   ],
   "source": [
    "#gets the shape of array\n",
    "A.shape"
   ]
  },
  {
   "cell_type": "code",
   "execution_count": 6,
   "id": "cc103834-8fb6-417b-b6af-3b593b8e6ceb",
   "metadata": {},
   "outputs": [
    {
     "data": {
      "text/plain": [
       "9"
      ]
     },
     "execution_count": 6,
     "metadata": {},
     "output_type": "execute_result"
    }
   ],
   "source": [
    "#gets the size of array\n",
    "A.size"
   ]
  },
  {
   "cell_type": "code",
   "execution_count": 7,
   "id": "e2e1ea3f-6f2d-41e8-9517-4640e0750bae",
   "metadata": {},
   "outputs": [
    {
     "data": {
      "text/plain": [
       "23"
      ]
     },
     "execution_count": 7,
     "metadata": {},
     "output_type": "execute_result"
    }
   ],
   "source": [
    "#gets element first row second column\n",
    "A[1][2]"
   ]
  },
  {
   "cell_type": "code",
   "execution_count": 8,
   "id": "b4f942ed-7008-4c91-b3d6-42260291bed5",
   "metadata": {},
   "outputs": [
    {
     "data": {
      "text/plain": [
       "23"
      ]
     },
     "execution_count": 8,
     "metadata": {},
     "output_type": "execute_result"
    }
   ],
   "source": [
    "#gets element first row second column in a diff format\n",
    "A[1,2]"
   ]
  },
  {
   "cell_type": "code",
   "execution_count": 9,
   "id": "fdc1915a-c58c-4d94-ab70-4171c30551bf",
   "metadata": {},
   "outputs": [
    {
     "data": {
      "text/plain": [
       "11"
      ]
     },
     "execution_count": 9,
     "metadata": {},
     "output_type": "execute_result"
    }
   ],
   "source": [
    "#gets element first row first column\n",
    "A[0,0]"
   ]
  },
  {
   "cell_type": "code",
   "execution_count": 10,
   "id": "30dd87df-da00-4810-b8da-3c0d1f761ae8",
   "metadata": {},
   "outputs": [
    {
     "data": {
      "text/plain": [
       "array([11, 12, 13])"
      ]
     },
     "execution_count": 10,
     "metadata": {},
     "output_type": "execute_result"
    }
   ],
   "source": [
    "#gets element first row 0-2 column values\n",
    "A[0][0:3]"
   ]
  },
  {
   "cell_type": "code",
   "execution_count": 11,
   "id": "10c74598-6b23-43ee-ab12-5bb95e522ba0",
   "metadata": {},
   "outputs": [
    {
     "data": {
      "text/plain": [
       "array([21, 22, 23])"
      ]
     },
     "execution_count": 11,
     "metadata": {},
     "output_type": "execute_result"
    }
   ],
   "source": [
    "#gets element second row 0-2 column values\n",
    "A[1][0:3]"
   ]
  },
  {
   "cell_type": "code",
   "execution_count": 20,
   "id": "5fd6da2e-fe92-4068-863f-44d8a6e857a4",
   "metadata": {},
   "outputs": [
    {
     "data": {
      "text/plain": [
       "array([21, 22, 23])"
      ]
     },
     "execution_count": 20,
     "metadata": {},
     "output_type": "execute_result"
    }
   ],
   "source": [
    "#gets element 0-2 row second column values\n",
    "A[0:3][1]"
   ]
  },
  {
   "cell_type": "code",
   "execution_count": 19,
   "id": "f4001aa1-06e7-45e2-8755-729c0085711b",
   "metadata": {},
   "outputs": [
    {
     "data": {
      "text/plain": [
       "array([11, 12, 13])"
      ]
     },
     "execution_count": 19,
     "metadata": {},
     "output_type": "execute_result"
    }
   ],
   "source": [
    "#gets element 0-2 row first column value\n",
    "A[0:3][0]"
   ]
  },
  {
   "cell_type": "code",
   "execution_count": 22,
   "id": "3043785a-b176-4332-9cc5-51ce3990bcfb",
   "metadata": {},
   "outputs": [
    {
     "data": {
      "text/plain": [
       "array([31, 32, 33])"
      ]
     },
     "execution_count": 22,
     "metadata": {},
     "output_type": "execute_result"
    }
   ],
   "source": [
    "A[0:3][2]"
   ]
  },
  {
   "cell_type": "code",
   "execution_count": 15,
   "id": "895ed5ea-45d7-43bd-a53a-fc507c09a5ff",
   "metadata": {},
   "outputs": [
    {
     "data": {
      "text/plain": [
       "array([[3, 1],\n",
       "       [1, 3]])"
      ]
     },
     "execution_count": 15,
     "metadata": {},
     "output_type": "execute_result"
    }
   ],
   "source": [
    "#addition of 2 numpy array\n",
    "x=np.array([[1,0],[0,1]])\n",
    "y=np.array([[2,1],[1,2]])\n",
    "z=x+y\n",
    "z"
   ]
  },
  {
   "cell_type": "code",
   "execution_count": 16,
   "id": "580991cb-58e4-4484-8377-e15e11419af5",
   "metadata": {},
   "outputs": [
    {
     "data": {
      "text/plain": [
       "array([[4, 2],\n",
       "       [2, 4]])"
      ]
     },
     "execution_count": 16,
     "metadata": {},
     "output_type": "execute_result"
    }
   ],
   "source": [
    "#multiplication of numpy array with 2\n",
    "y=np.array([[2,1],[1,2]])\n",
    "z=2*y\n",
    "z"
   ]
  },
  {
   "cell_type": "code",
   "execution_count": 17,
   "id": "39038495-0afc-4f15-83d3-1169f6919029",
   "metadata": {},
   "outputs": [
    {
     "data": {
      "text/plain": [
       "array([[2, 0],\n",
       "       [0, 2]])"
      ]
     },
     "execution_count": 17,
     "metadata": {},
     "output_type": "execute_result"
    }
   ],
   "source": [
    "#multiplication of numpy array \n",
    "z=x*y\n",
    "z"
   ]
  },
  {
   "cell_type": "code",
   "execution_count": 23,
   "id": "2422b51e-f923-4b53-8c7b-5ce7c2eafb9a",
   "metadata": {},
   "outputs": [
    {
     "data": {
      "text/plain": [
       "array([[-1,  2],\n",
       "       [ 0,  2]])"
      ]
     },
     "execution_count": 23,
     "metadata": {},
     "output_type": "execute_result"
    }
   ],
   "source": [
    "#dot product 2 arrays\n",
    "d=np.array([[0,1,1],[1,0,1]])\n",
    "e=np.array([[1,1],[0,1],[-1,1]])\n",
    "f=np.dot(d,e)\n",
    "f"
   ]
  },
  {
   "cell_type": "code",
   "execution_count": 24,
   "id": "ecf31f80-a1ce-479f-9db7-34e19fabde76",
   "metadata": {},
   "outputs": [
    {
     "data": {
      "text/plain": [
       "array([[-0.84147098,  0.90929743],\n",
       "       [ 0.        ,  0.90929743]])"
      ]
     },
     "execution_count": 24,
     "metadata": {},
     "output_type": "execute_result"
    }
   ],
   "source": [
    "#estimating sin functions\n",
    "np.sin(f)"
   ]
  },
  {
   "cell_type": "code",
   "execution_count": 26,
   "id": "4e6926f1-9fe6-4701-83e0-55ee70a83986",
   "metadata": {},
   "outputs": [
    {
     "data": {
      "text/plain": [
       "array([[ 1,  0, -1],\n",
       "       [ 1,  1,  1]])"
      ]
     },
     "execution_count": 26,
     "metadata": {},
     "output_type": "execute_result"
    }
   ],
   "source": [
    "#transponse of array e\n",
    "e.T"
   ]
  },
  {
   "cell_type": "code",
   "execution_count": null,
   "id": "b86133c6-5534-4869-8a81-64e3e2a52769",
   "metadata": {},
   "outputs": [],
   "source": []
  }
 ],
 "metadata": {
  "kernelspec": {
   "display_name": "Python 3 (ipykernel)",
   "language": "python",
   "name": "python3"
  },
  "language_info": {
   "codemirror_mode": {
    "name": "ipython",
    "version": 3
   },
   "file_extension": ".py",
   "mimetype": "text/x-python",
   "name": "python",
   "nbconvert_exporter": "python",
   "pygments_lexer": "ipython3",
   "version": "3.9.12"
  }
 },
 "nbformat": 4,
 "nbformat_minor": 5
}
