{
 "cells": [
  {
   "cell_type": "markdown",
   "id": "d8fda907",
   "metadata": {},
   "source": [
    "# Exploring the Bike Sharing DataSet"
   ]
  },
  {
   "cell_type": "code",
   "execution_count": 1,
   "id": "7136c453",
   "metadata": {},
   "outputs": [],
   "source": [
    "import matplotlib.pyplot as plt\n",
    "%matplotlib inline\n",
    "\n",
    "# help in creating the graphs in the notebook otherwise they will pop up\n",
    "\n",
    "import numpy as np\n",
    "import pandas as pd\n",
    "import seaborn as sns"
   ]
  },
  {
   "cell_type": "code",
   "execution_count": 2,
   "id": "e6df8e0a",
   "metadata": {},
   "outputs": [
    {
     "data": {
      "text/html": [
       "<div>\n",
       "<style scoped>\n",
       "    .dataframe tbody tr th:only-of-type {\n",
       "        vertical-align: middle;\n",
       "    }\n",
       "\n",
       "    .dataframe tbody tr th {\n",
       "        vertical-align: top;\n",
       "    }\n",
       "\n",
       "    .dataframe thead th {\n",
       "        text-align: right;\n",
       "    }\n",
       "</style>\n",
       "<table border=\"1\" class=\"dataframe\">\n",
       "  <thead>\n",
       "    <tr style=\"text-align: right;\">\n",
       "      <th></th>\n",
       "      <th>instant</th>\n",
       "      <th>season</th>\n",
       "      <th>yr</th>\n",
       "      <th>mnth</th>\n",
       "      <th>hr</th>\n",
       "      <th>holiday</th>\n",
       "      <th>weekday</th>\n",
       "      <th>workingday</th>\n",
       "      <th>weathersit</th>\n",
       "      <th>temp</th>\n",
       "      <th>atemp</th>\n",
       "      <th>hum</th>\n",
       "      <th>windspeed</th>\n",
       "      <th>casual</th>\n",
       "      <th>registered</th>\n",
       "      <th>cnt</th>\n",
       "    </tr>\n",
       "  </thead>\n",
       "  <tbody>\n",
       "    <tr>\n",
       "      <th>0</th>\n",
       "      <td>1</td>\n",
       "      <td>1</td>\n",
       "      <td>0</td>\n",
       "      <td>1</td>\n",
       "      <td>0</td>\n",
       "      <td>0</td>\n",
       "      <td>6</td>\n",
       "      <td>0</td>\n",
       "      <td>1</td>\n",
       "      <td>0.24</td>\n",
       "      <td>0.2879</td>\n",
       "      <td>0.81</td>\n",
       "      <td>0.0</td>\n",
       "      <td>3</td>\n",
       "      <td>13</td>\n",
       "      <td>16</td>\n",
       "    </tr>\n",
       "    <tr>\n",
       "      <th>1</th>\n",
       "      <td>2</td>\n",
       "      <td>1</td>\n",
       "      <td>0</td>\n",
       "      <td>1</td>\n",
       "      <td>1</td>\n",
       "      <td>0</td>\n",
       "      <td>6</td>\n",
       "      <td>0</td>\n",
       "      <td>1</td>\n",
       "      <td>0.22</td>\n",
       "      <td>0.2727</td>\n",
       "      <td>0.80</td>\n",
       "      <td>0.0</td>\n",
       "      <td>8</td>\n",
       "      <td>32</td>\n",
       "      <td>40</td>\n",
       "    </tr>\n",
       "    <tr>\n",
       "      <th>2</th>\n",
       "      <td>3</td>\n",
       "      <td>1</td>\n",
       "      <td>0</td>\n",
       "      <td>1</td>\n",
       "      <td>2</td>\n",
       "      <td>0</td>\n",
       "      <td>6</td>\n",
       "      <td>0</td>\n",
       "      <td>1</td>\n",
       "      <td>0.22</td>\n",
       "      <td>0.2727</td>\n",
       "      <td>0.80</td>\n",
       "      <td>0.0</td>\n",
       "      <td>5</td>\n",
       "      <td>27</td>\n",
       "      <td>32</td>\n",
       "    </tr>\n",
       "    <tr>\n",
       "      <th>3</th>\n",
       "      <td>4</td>\n",
       "      <td>1</td>\n",
       "      <td>0</td>\n",
       "      <td>1</td>\n",
       "      <td>3</td>\n",
       "      <td>0</td>\n",
       "      <td>6</td>\n",
       "      <td>0</td>\n",
       "      <td>1</td>\n",
       "      <td>0.24</td>\n",
       "      <td>0.2879</td>\n",
       "      <td>0.75</td>\n",
       "      <td>0.0</td>\n",
       "      <td>3</td>\n",
       "      <td>10</td>\n",
       "      <td>13</td>\n",
       "    </tr>\n",
       "    <tr>\n",
       "      <th>4</th>\n",
       "      <td>5</td>\n",
       "      <td>1</td>\n",
       "      <td>0</td>\n",
       "      <td>1</td>\n",
       "      <td>4</td>\n",
       "      <td>0</td>\n",
       "      <td>6</td>\n",
       "      <td>0</td>\n",
       "      <td>1</td>\n",
       "      <td>0.24</td>\n",
       "      <td>0.2879</td>\n",
       "      <td>0.75</td>\n",
       "      <td>0.0</td>\n",
       "      <td>0</td>\n",
       "      <td>1</td>\n",
       "      <td>1</td>\n",
       "    </tr>\n",
       "  </tbody>\n",
       "</table>\n",
       "</div>"
      ],
      "text/plain": [
       "   instant  season  yr  mnth  hr  holiday  weekday  workingday  weathersit  \\\n",
       "0        1       1   0     1   0        0        6           0           1   \n",
       "1        2       1   0     1   1        0        6           0           1   \n",
       "2        3       1   0     1   2        0        6           0           1   \n",
       "3        4       1   0     1   3        0        6           0           1   \n",
       "4        5       1   0     1   4        0        6           0           1   \n",
       "\n",
       "   temp   atemp   hum  windspeed  casual  registered  cnt  \n",
       "0  0.24  0.2879  0.81        0.0       3          13   16  \n",
       "1  0.22  0.2727  0.80        0.0       8          32   40  \n",
       "2  0.22  0.2727  0.80        0.0       5          27   32  \n",
       "3  0.24  0.2879  0.75        0.0       3          10   13  \n",
       "4  0.24  0.2879  0.75        0.0       0           1    1  "
      ]
     },
     "execution_count": 2,
     "metadata": {},
     "output_type": "execute_result"
    }
   ],
   "source": [
    "train_data = pd.read_csv('train.csv')\n",
    "train_data.head()"
   ]
  },
  {
   "cell_type": "code",
   "execution_count": 4,
   "id": "8180fae1",
   "metadata": {},
   "outputs": [
    {
     "data": {
      "text/plain": [
       "(13035, 16)"
      ]
     },
     "execution_count": 4,
     "metadata": {},
     "output_type": "execute_result"
    }
   ],
   "source": [
    "train_data.shape"
   ]
  },
  {
   "cell_type": "markdown",
   "id": "996cd71b",
   "metadata": {},
   "source": [
    "# Attribute Information:\n",
    "\n",
    "- instant: record index\n",
    "- season : season (1:spring, 2:summer, 3:fall, 4:winter)\n",
    "- yr : year (0: 2011, 1: 2012)\n",
    "- mnth : month (1 to 12)\n",
    "- hr : hour (0 to 23)\n",
    "- holiday : weather day is holiday or not (extracted from [Web Link])\n",
    "- weekday : day of the week\n",
    "- workingday : if day is neither weekend nor holiday is 1, otherwise is 0.\n",
    "+ weathersit : \n",
    "    - 1: Clear, Few clouds, Partly cloudy\n",
    "    - 2: Mist + Cloudy, Mist + Broken clouds, Mist + Few clouds, Mist\n",
    "    - 3: Light Snow, Light Rain + Thunderstorm + Scattered clouds, Light Rain + Scattered clouds\n",
    "    - 4: Heavy Rain + Ice Pallets + Thunderstorm + Mist, Snow + Fog\n",
    "- temp - temperature in Celsius\n",
    "- atemp - \"feels like\" temperature in Celsius\n",
    "- humidity - relative humidity\n",
    "- windspeed - wind speed\n",
    "- casual: count of casual users\n",
    "- registered: count of registered users\n",
    "- cnt: count of total rental bikes including both casual and registered"
   ]
  },
  {
   "cell_type": "code",
   "execution_count": 5,
   "id": "ddd14b83",
   "metadata": {},
   "outputs": [
    {
     "name": "stdout",
     "output_type": "stream",
     "text": [
      "<class 'pandas.core.frame.DataFrame'>\n",
      "RangeIndex: 13035 entries, 0 to 13034\n",
      "Data columns (total 16 columns):\n",
      " #   Column      Non-Null Count  Dtype  \n",
      "---  ------      --------------  -----  \n",
      " 0   instant     13035 non-null  int64  \n",
      " 1   season      13035 non-null  int64  \n",
      " 2   yr          13035 non-null  int64  \n",
      " 3   mnth        13035 non-null  int64  \n",
      " 4   hr          13035 non-null  int64  \n",
      " 5   holiday     13035 non-null  int64  \n",
      " 6   weekday     13035 non-null  int64  \n",
      " 7   workingday  13035 non-null  int64  \n",
      " 8   weathersit  13035 non-null  int64  \n",
      " 9   temp        13035 non-null  float64\n",
      " 10  atemp       13035 non-null  float64\n",
      " 11  hum         13035 non-null  float64\n",
      " 12  windspeed   13035 non-null  float64\n",
      " 13  casual      13035 non-null  int64  \n",
      " 14  registered  13035 non-null  int64  \n",
      " 15  cnt         13035 non-null  int64  \n",
      "dtypes: float64(4), int64(12)\n",
      "memory usage: 1.6 MB\n"
     ]
    }
   ],
   "source": [
    "train_data.info()"
   ]
  },
  {
   "cell_type": "code",
   "execution_count": 8,
   "id": "376b53a1",
   "metadata": {
    "collapsed": true,
    "jupyter": {
     "outputs_hidden": true
    },
    "tags": []
   },
   "outputs": [
    {
     "data": {
      "text/html": [
       "<div>\n",
       "<style scoped>\n",
       "    .dataframe tbody tr th:only-of-type {\n",
       "        vertical-align: middle;\n",
       "    }\n",
       "\n",
       "    .dataframe tbody tr th {\n",
       "        vertical-align: top;\n",
       "    }\n",
       "\n",
       "    .dataframe thead th {\n",
       "        text-align: right;\n",
       "    }\n",
       "</style>\n",
       "<table border=\"1\" class=\"dataframe\">\n",
       "  <thead>\n",
       "    <tr style=\"text-align: right;\">\n",
       "      <th></th>\n",
       "      <th>count</th>\n",
       "      <th>mean</th>\n",
       "      <th>std</th>\n",
       "      <th>min</th>\n",
       "      <th>25%</th>\n",
       "      <th>50%</th>\n",
       "      <th>75%</th>\n",
       "      <th>max</th>\n",
       "    </tr>\n",
       "  </thead>\n",
       "  <tbody>\n",
       "    <tr>\n",
       "      <th>instant</th>\n",
       "      <td>13035.0</td>\n",
       "      <td>6518.000000</td>\n",
       "      <td>3763.024714</td>\n",
       "      <td>1.00</td>\n",
       "      <td>3259.5000</td>\n",
       "      <td>6518.0000</td>\n",
       "      <td>9776.5000</td>\n",
       "      <td>13035.0000</td>\n",
       "    </tr>\n",
       "    <tr>\n",
       "      <th>season</th>\n",
       "      <td>13035.0</td>\n",
       "      <td>2.214806</td>\n",
       "      <td>1.052064</td>\n",
       "      <td>1.00</td>\n",
       "      <td>1.0000</td>\n",
       "      <td>2.0000</td>\n",
       "      <td>3.0000</td>\n",
       "      <td>4.0000</td>\n",
       "    </tr>\n",
       "    <tr>\n",
       "      <th>yr</th>\n",
       "      <td>13035.0</td>\n",
       "      <td>0.336786</td>\n",
       "      <td>0.472629</td>\n",
       "      <td>0.00</td>\n",
       "      <td>0.0000</td>\n",
       "      <td>0.0000</td>\n",
       "      <td>1.0000</td>\n",
       "      <td>1.0000</td>\n",
       "    </tr>\n",
       "    <tr>\n",
       "      <th>mnth</th>\n",
       "      <td>13035.0</td>\n",
       "      <td>5.548293</td>\n",
       "      <td>3.297280</td>\n",
       "      <td>1.00</td>\n",
       "      <td>3.0000</td>\n",
       "      <td>5.0000</td>\n",
       "      <td>8.0000</td>\n",
       "      <td>12.0000</td>\n",
       "    </tr>\n",
       "    <tr>\n",
       "      <th>hr</th>\n",
       "      <td>13035.0</td>\n",
       "      <td>11.550288</td>\n",
       "      <td>6.912504</td>\n",
       "      <td>0.00</td>\n",
       "      <td>6.0000</td>\n",
       "      <td>12.0000</td>\n",
       "      <td>18.0000</td>\n",
       "      <td>23.0000</td>\n",
       "    </tr>\n",
       "    <tr>\n",
       "      <th>holiday</th>\n",
       "      <td>13035.0</td>\n",
       "      <td>0.027388</td>\n",
       "      <td>0.163217</td>\n",
       "      <td>0.00</td>\n",
       "      <td>0.0000</td>\n",
       "      <td>0.0000</td>\n",
       "      <td>0.0000</td>\n",
       "      <td>1.0000</td>\n",
       "    </tr>\n",
       "    <tr>\n",
       "      <th>weekday</th>\n",
       "      <td>13035.0</td>\n",
       "      <td>3.002762</td>\n",
       "      <td>2.006777</td>\n",
       "      <td>0.00</td>\n",
       "      <td>1.0000</td>\n",
       "      <td>3.0000</td>\n",
       "      <td>5.0000</td>\n",
       "      <td>6.0000</td>\n",
       "    </tr>\n",
       "    <tr>\n",
       "      <th>workingday</th>\n",
       "      <td>13035.0</td>\n",
       "      <td>0.683698</td>\n",
       "      <td>0.465050</td>\n",
       "      <td>0.00</td>\n",
       "      <td>0.0000</td>\n",
       "      <td>1.0000</td>\n",
       "      <td>1.0000</td>\n",
       "      <td>1.0000</td>\n",
       "    </tr>\n",
       "    <tr>\n",
       "      <th>weathersit</th>\n",
       "      <td>13035.0</td>\n",
       "      <td>1.425853</td>\n",
       "      <td>0.647530</td>\n",
       "      <td>1.00</td>\n",
       "      <td>1.0000</td>\n",
       "      <td>1.0000</td>\n",
       "      <td>2.0000</td>\n",
       "      <td>4.0000</td>\n",
       "    </tr>\n",
       "    <tr>\n",
       "      <th>temp</th>\n",
       "      <td>13035.0</td>\n",
       "      <td>0.482389</td>\n",
       "      <td>0.191656</td>\n",
       "      <td>0.02</td>\n",
       "      <td>0.3200</td>\n",
       "      <td>0.4800</td>\n",
       "      <td>0.6400</td>\n",
       "      <td>0.9800</td>\n",
       "    </tr>\n",
       "    <tr>\n",
       "      <th>atemp</th>\n",
       "      <td>13035.0</td>\n",
       "      <td>0.463317</td>\n",
       "      <td>0.171546</td>\n",
       "      <td>0.00</td>\n",
       "      <td>0.3182</td>\n",
       "      <td>0.4697</td>\n",
       "      <td>0.6061</td>\n",
       "      <td>1.0000</td>\n",
       "    </tr>\n",
       "    <tr>\n",
       "      <th>hum</th>\n",
       "      <td>13035.0</td>\n",
       "      <td>0.623282</td>\n",
       "      <td>0.199746</td>\n",
       "      <td>0.00</td>\n",
       "      <td>0.4600</td>\n",
       "      <td>0.6200</td>\n",
       "      <td>0.7900</td>\n",
       "      <td>1.0000</td>\n",
       "    </tr>\n",
       "    <tr>\n",
       "      <th>windspeed</th>\n",
       "      <td>13035.0</td>\n",
       "      <td>0.196035</td>\n",
       "      <td>0.124183</td>\n",
       "      <td>0.00</td>\n",
       "      <td>0.1045</td>\n",
       "      <td>0.1940</td>\n",
       "      <td>0.2836</td>\n",
       "      <td>0.8507</td>\n",
       "    </tr>\n",
       "    <tr>\n",
       "      <th>casual</th>\n",
       "      <td>13035.0</td>\n",
       "      <td>32.527733</td>\n",
       "      <td>46.655799</td>\n",
       "      <td>0.00</td>\n",
       "      <td>3.0000</td>\n",
       "      <td>14.0000</td>\n",
       "      <td>42.0000</td>\n",
       "      <td>367.0000</td>\n",
       "    </tr>\n",
       "    <tr>\n",
       "      <th>registered</th>\n",
       "      <td>13035.0</td>\n",
       "      <td>135.249405</td>\n",
       "      <td>131.879162</td>\n",
       "      <td>0.00</td>\n",
       "      <td>30.0000</td>\n",
       "      <td>103.0000</td>\n",
       "      <td>194.0000</td>\n",
       "      <td>796.0000</td>\n",
       "    </tr>\n",
       "    <tr>\n",
       "      <th>cnt</th>\n",
       "      <td>13035.0</td>\n",
       "      <td>167.777138</td>\n",
       "      <td>160.786886</td>\n",
       "      <td>1.00</td>\n",
       "      <td>35.0000</td>\n",
       "      <td>124.0000</td>\n",
       "      <td>246.0000</td>\n",
       "      <td>957.0000</td>\n",
       "    </tr>\n",
       "  </tbody>\n",
       "</table>\n",
       "</div>"
      ],
      "text/plain": [
       "              count         mean          std   min        25%        50%  \\\n",
       "instant     13035.0  6518.000000  3763.024714  1.00  3259.5000  6518.0000   \n",
       "season      13035.0     2.214806     1.052064  1.00     1.0000     2.0000   \n",
       "yr          13035.0     0.336786     0.472629  0.00     0.0000     0.0000   \n",
       "mnth        13035.0     5.548293     3.297280  1.00     3.0000     5.0000   \n",
       "hr          13035.0    11.550288     6.912504  0.00     6.0000    12.0000   \n",
       "holiday     13035.0     0.027388     0.163217  0.00     0.0000     0.0000   \n",
       "weekday     13035.0     3.002762     2.006777  0.00     1.0000     3.0000   \n",
       "workingday  13035.0     0.683698     0.465050  0.00     0.0000     1.0000   \n",
       "weathersit  13035.0     1.425853     0.647530  1.00     1.0000     1.0000   \n",
       "temp        13035.0     0.482389     0.191656  0.02     0.3200     0.4800   \n",
       "atemp       13035.0     0.463317     0.171546  0.00     0.3182     0.4697   \n",
       "hum         13035.0     0.623282     0.199746  0.00     0.4600     0.6200   \n",
       "windspeed   13035.0     0.196035     0.124183  0.00     0.1045     0.1940   \n",
       "casual      13035.0    32.527733    46.655799  0.00     3.0000    14.0000   \n",
       "registered  13035.0   135.249405   131.879162  0.00    30.0000   103.0000   \n",
       "cnt         13035.0   167.777138   160.786886  1.00    35.0000   124.0000   \n",
       "\n",
       "                  75%         max  \n",
       "instant     9776.5000  13035.0000  \n",
       "season         3.0000      4.0000  \n",
       "yr             1.0000      1.0000  \n",
       "mnth           8.0000     12.0000  \n",
       "hr            18.0000     23.0000  \n",
       "holiday        0.0000      1.0000  \n",
       "weekday        5.0000      6.0000  \n",
       "workingday     1.0000      1.0000  \n",
       "weathersit     2.0000      4.0000  \n",
       "temp           0.6400      0.9800  \n",
       "atemp          0.6061      1.0000  \n",
       "hum            0.7900      1.0000  \n",
       "windspeed      0.2836      0.8507  \n",
       "casual        42.0000    367.0000  \n",
       "registered   194.0000    796.0000  \n",
       "cnt          246.0000    957.0000  "
      ]
     },
     "execution_count": 8,
     "metadata": {},
     "output_type": "execute_result"
    }
   ],
   "source": [
    "train_data.describe().T"
   ]
  },
  {
   "cell_type": "markdown",
   "id": "696d5b42-58b1-4b0b-a29f-6db1fac984f3",
   "metadata": {},
   "source": [
    "# Univariate Analysis"
   ]
  },
  {
   "cell_type": "markdown",
   "id": "87edf371-278f-41f3-9a15-43ca39241ff7",
   "metadata": {},
   "source": [
    "## Continuous Data"
   ]
  },
  {
   "cell_type": "code",
   "execution_count": 9,
   "id": "04e57d23-d856-43f1-89be-83d79886ba86",
   "metadata": {},
   "outputs": [
    {
     "data": {
      "image/png": "[encoded data removed]",
      "text/plain": [
       "<Figure size 360x360 with 1 Axes>"
      ]
     },
     "metadata": {
      "needs_background": "light"
     },
     "output_type": "display_data"
    }
   ],
   "source": [
    "sns.displot(train_data['temp'], bins = 50, kde = True).set(title = \"Distribution of Temperature\");"
   ]
  },
  {
   "cell_type": "markdown",
   "id": "6b88d136-0ee4-498a-a24a-da9a0395c65f",
   "metadata": {},
   "source": [
    "Everytime the bike is shared, the temp is noted.\n",
    "\n",
    "##### Most people won't rent a bike when it is too hot or too cold. More bikes are rented when the temperature is pleasant.\n",
    "##### High number of bikes are rented when the temp is around 0.35 and 0.60"
   ]
  },
  {
   "cell_type": "code",
   "execution_count": 20,
   "id": "8b972315-1fe3-49a3-bd85-2a35852f8137",
   "metadata": {},
   "outputs": [
    {
     "data": {
      "image/png": "[encoded data removed]",
      "text/plain": [
       "<Figure size 432x288 with 1 Axes>"
      ]
     },
     "metadata": {
      "needs_background": "light"
     },
     "output_type": "display_data"
    }
   ],
   "source": [
    "sns.boxplot(y= train_data['cnt']).set(title = \"Boxplot Total # Bikes Rented\");"
   ]
  },
  {
   "cell_type": "markdown",
   "id": "13ce9f45-e61c-42ff-95e4-473d8ba5bd11",
   "metadata": {},
   "source": [
    "##### The outliers here need to be studied further as they are important from business pov"
   ]
  },
  {
   "cell_type": "markdown",
   "id": "d977aefc-73f3-4675-82ff-8ae845d2c300",
   "metadata": {},
   "source": [
    "## Categorical Variable"
   ]
  },
  {
   "cell_type": "code",
   "execution_count": 10,
   "id": "23198449-0851-4871-9184-1e7f1a578c7f",
   "metadata": {},
   "outputs": [
    {
     "data": {
      "text/plain": [
       "array([1, 2, 3, 4])"
      ]
     },
     "execution_count": 10,
     "metadata": {},
     "output_type": "execute_result"
    }
   ],
   "source": [
    "train_data['season'].unique()"
   ]
  },
  {
   "cell_type": "code",
   "execution_count": 11,
   "id": "924398f4-9075-4d50-a5a5-a4e5b2e3082c",
   "metadata": {},
   "outputs": [
    {
     "data": {
      "text/plain": [
       "2    4409\n",
       "1    3980\n",
       "3    2512\n",
       "4    2134\n",
       "Name: season, dtype: int64"
      ]
     },
     "execution_count": 11,
     "metadata": {},
     "output_type": "execute_result"
    }
   ],
   "source": [
    "train_data['season'].value_counts() \n",
    "\n",
    "# 1:spring, 2:summer, 3:fall, 4:winter"
   ]
  },
  {
   "cell_type": "code",
   "execution_count": 16,
   "id": "0c67f36b-cfc9-4185-bb2d-168778665886",
   "metadata": {
    "collapsed": true,
    "jupyter": {
     "outputs_hidden": true
    },
    "tags": []
   },
   "outputs": [
    {
     "data": {
      "image/png": "[encoded data removed]",
      "text/plain": [
       "<Figure size 864x432 with 1 Axes>"
      ]
     },
     "metadata": {
      "needs_background": "light"
     },
     "output_type": "display_data"
    }
   ],
   "source": [
    "plt.figure(figsize=(12,6))\n",
    "sns.countplot(y = train_data.season, palette = 'Set2').set(title = \"Seasons\");\n",
    "# y - horizontal bar"
   ]
  },
  {
   "cell_type": "raw",
   "id": "4ff63c7b-74bc-43f0-99dd-76a51af9e13f",
   "metadata": {},
   "source": [
    "sns.countplot(x = train_data.season, palette = 'Set2').set(title = \"Seasons\");\n",
    "\n",
    "# x - vertical bar"
   ]
  },
  {
   "cell_type": "code",
   "execution_count": 17,
   "id": "fdc76657-292d-413d-9790-220fafba8871",
   "metadata": {},
   "outputs": [
    {
     "name": "stdout",
     "output_type": "stream",
     "text": [
      "8389\n",
      "4646\n"
     ]
    }
   ],
   "source": [
    "print (3980 + 4409) # season 1 and 2\n",
    "print (2512 + 2134) # season 3 and 4\n",
    "\n",
    "# 1:spring, 2:summer, 3:fall, 4:winter"
   ]
  },
  {
   "cell_type": "markdown",
   "id": "7010a142-9a6a-42a2-ae19-e12b660a4598",
   "metadata": {},
   "source": [
    "#### Season 1 and 2 have twice the number of instances of Bike Sharing than season 3 and 4. This, intuitively, makes sense as season 1 & 2 are spring and summer which would be pleasant and season 3 & 4 would be fall & winter which will be cold."
   ]
  },
  {
   "cell_type": "markdown",
   "id": "052c86d1-1f76-4b1f-b3f3-038647f634a6",
   "metadata": {},
   "source": [
    "# Bivariate Analysis"
   ]
  },
  {
   "cell_type": "markdown",
   "id": "d115fdea-2719-4209-ac4d-476f7fcabd30",
   "metadata": {},
   "source": [
    "## Continuous & Continuous"
   ]
  },
  {
   "cell_type": "markdown",
   "id": "c4da4fc3-247c-452c-b1f9-cd7befea5fdf",
   "metadata": {},
   "source": [
    "### Scatter Plot"
   ]
  },
  {
   "cell_type": "code",
   "execution_count": 21,
   "id": "4344dc0d-4e1f-46bf-baa7-aacc521f3669",
   "metadata": {},
   "outputs": [
    {
     "data": {
      "image/png": "[encoded data removed]",
      "text/plain": [
       "<Figure size 432x432 with 3 Axes>"
      ]
     },
     "metadata": {
      "needs_background": "light"
     },
     "output_type": "display_data"
    }
   ],
   "source": [
    "plot = sns.jointplot(x = train_data.temp, y = train_data.atemp, kind = 'scatter');\n",
    "plot.fig.suptitle(\"Temp Vs Atemp\");"
   ]
  },
  {
   "cell_type": "markdown",
   "id": "d5174f86-b097-4b9f-9908-d9efbeb23be5",
   "metadata": {},
   "source": [
    "#### Temp and atemp have a positive linear relation"
   ]
  },
  {
   "cell_type": "markdown",
   "id": "8f1e0591-8323-4346-9fb7-b43da8f0f4f2",
   "metadata": {},
   "source": [
    "### Correlation"
   ]
  },
  {
   "cell_type": "code",
   "execution_count": 23,
   "id": "8447e524-2d9f-4fb3-9819-1f794e5b9276",
   "metadata": {},
   "outputs": [
    {
     "data": {
      "text/plain": [
       "0.99"
      ]
     },
     "execution_count": 23,
     "metadata": {},
     "output_type": "execute_result"
    }
   ],
   "source": [
    "train_data.temp.corr(train_data.atemp)\n",
    "np.round(train_data.temp.corr(train_data.atemp),2)"
   ]
  },
  {
   "cell_type": "markdown",
   "id": "9c347267-87bb-4b9a-a788-e0f37cec4227",
   "metadata": {},
   "source": [
    "## Categorical & Continuous"
   ]
  },
  {
   "cell_type": "markdown",
   "id": "aab437bb-b701-4f8e-853c-5c1d9f6d1517",
   "metadata": {},
   "source": [
    "### Boxplots of Continuous Variable over the Categories of Categorical Variable"
   ]
  },
  {
   "cell_type": "code",
   "execution_count": 24,
   "id": "cb6441f9-a4be-4a47-93d3-3f28bf4f940a",
   "metadata": {},
   "outputs": [
    {
     "data": {
      "image/png": "[encoded data removed]",
      "text/plain": [
       "<Figure size 432x288 with 1 Axes>"
      ]
     },
     "metadata": {
      "needs_background": "light"
     },
     "output_type": "display_data"
    }
   ],
   "source": [
    "sns.boxplot(y = train_data.cnt, x = train_data.season, palette ='Set2').set(title = \"Total # Bikes Rented By Seasons\");"
   ]
  },
  {
   "cell_type": "markdown",
   "id": "9c2667d1-36b8-450e-aaba-48c7ca97c8f1",
   "metadata": {},
   "source": [
    "**The cnt column is an important column for analysis and the outliers are good for the business because we are working with Bike Sharing Data. So, we will not treat them.**"
   ]
  },
  {
   "cell_type": "markdown",
   "id": "ef3f1add-83eb-4093-bafa-10bc71df7acc",
   "metadata": {},
   "source": [
    "## Categorical & Categorical"
   ]
  },
  {
   "cell_type": "markdown",
   "id": "782d6b05-0bc8-4780-b850-36b7fec0f9c8",
   "metadata": {},
   "source": [
    "### Pivot Tables And Stacked Bar Chart"
   ]
  },
  {
   "cell_type": "code",
   "execution_count": 25,
   "id": "5e18fe12-d90f-498f-b024-6f85a5453de3",
   "metadata": {},
   "outputs": [
    {
     "data": {
      "text/html": [
       "<div>\n",
       "<style scoped>\n",
       "    .dataframe tbody tr th:only-of-type {\n",
       "        vertical-align: middle;\n",
       "    }\n",
       "\n",
       "    .dataframe tbody tr th {\n",
       "        vertical-align: top;\n",
       "    }\n",
       "\n",
       "    .dataframe thead th {\n",
       "        text-align: right;\n",
       "    }\n",
       "</style>\n",
       "<table border=\"1\" class=\"dataframe\">\n",
       "  <thead>\n",
       "    <tr style=\"text-align: right;\">\n",
       "      <th></th>\n",
       "      <th>instant</th>\n",
       "      <th>season</th>\n",
       "      <th>yr</th>\n",
       "      <th>mnth</th>\n",
       "      <th>hr</th>\n",
       "      <th>holiday</th>\n",
       "      <th>weekday</th>\n",
       "      <th>workingday</th>\n",
       "      <th>weathersit</th>\n",
       "      <th>temp</th>\n",
       "      <th>atemp</th>\n",
       "      <th>hum</th>\n",
       "      <th>windspeed</th>\n",
       "      <th>casual</th>\n",
       "      <th>registered</th>\n",
       "      <th>cnt</th>\n",
       "    </tr>\n",
       "  </thead>\n",
       "  <tbody>\n",
       "    <tr>\n",
       "      <th>0</th>\n",
       "      <td>1</td>\n",
       "      <td>1</td>\n",
       "      <td>0</td>\n",
       "      <td>1</td>\n",
       "      <td>0</td>\n",
       "      <td>0</td>\n",
       "      <td>6</td>\n",
       "      <td>0</td>\n",
       "      <td>1</td>\n",
       "      <td>0.24</td>\n",
       "      <td>0.2879</td>\n",
       "      <td>0.81</td>\n",
       "      <td>0.0</td>\n",
       "      <td>3</td>\n",
       "      <td>13</td>\n",
       "      <td>16</td>\n",
       "    </tr>\n",
       "    <tr>\n",
       "      <th>1</th>\n",
       "      <td>2</td>\n",
       "      <td>1</td>\n",
       "      <td>0</td>\n",
       "      <td>1</td>\n",
       "      <td>1</td>\n",
       "      <td>0</td>\n",
       "      <td>6</td>\n",
       "      <td>0</td>\n",
       "      <td>1</td>\n",
       "      <td>0.22</td>\n",
       "      <td>0.2727</td>\n",
       "      <td>0.80</td>\n",
       "      <td>0.0</td>\n",
       "      <td>8</td>\n",
       "      <td>32</td>\n",
       "      <td>40</td>\n",
       "    </tr>\n",
       "    <tr>\n",
       "      <th>2</th>\n",
       "      <td>3</td>\n",
       "      <td>1</td>\n",
       "      <td>0</td>\n",
       "      <td>1</td>\n",
       "      <td>2</td>\n",
       "      <td>0</td>\n",
       "      <td>6</td>\n",
       "      <td>0</td>\n",
       "      <td>1</td>\n",
       "      <td>0.22</td>\n",
       "      <td>0.2727</td>\n",
       "      <td>0.80</td>\n",
       "      <td>0.0</td>\n",
       "      <td>5</td>\n",
       "      <td>27</td>\n",
       "      <td>32</td>\n",
       "    </tr>\n",
       "    <tr>\n",
       "      <th>3</th>\n",
       "      <td>4</td>\n",
       "      <td>1</td>\n",
       "      <td>0</td>\n",
       "      <td>1</td>\n",
       "      <td>3</td>\n",
       "      <td>0</td>\n",
       "      <td>6</td>\n",
       "      <td>0</td>\n",
       "      <td>1</td>\n",
       "      <td>0.24</td>\n",
       "      <td>0.2879</td>\n",
       "      <td>0.75</td>\n",
       "      <td>0.0</td>\n",
       "      <td>3</td>\n",
       "      <td>10</td>\n",
       "      <td>13</td>\n",
       "    </tr>\n",
       "    <tr>\n",
       "      <th>4</th>\n",
       "      <td>5</td>\n",
       "      <td>1</td>\n",
       "      <td>0</td>\n",
       "      <td>1</td>\n",
       "      <td>4</td>\n",
       "      <td>0</td>\n",
       "      <td>6</td>\n",
       "      <td>0</td>\n",
       "      <td>1</td>\n",
       "      <td>0.24</td>\n",
       "      <td>0.2879</td>\n",
       "      <td>0.75</td>\n",
       "      <td>0.0</td>\n",
       "      <td>0</td>\n",
       "      <td>1</td>\n",
       "      <td>1</td>\n",
       "    </tr>\n",
       "  </tbody>\n",
       "</table>\n",
       "</div>"
      ],
      "text/plain": [
       "   instant  season  yr  mnth  hr  holiday  weekday  workingday  weathersit  \\\n",
       "0        1       1   0     1   0        0        6           0           1   \n",
       "1        2       1   0     1   1        0        6           0           1   \n",
       "2        3       1   0     1   2        0        6           0           1   \n",
       "3        4       1   0     1   3        0        6           0           1   \n",
       "4        5       1   0     1   4        0        6           0           1   \n",
       "\n",
       "   temp   atemp   hum  windspeed  casual  registered  cnt  \n",
       "0  0.24  0.2879  0.81        0.0       3          13   16  \n",
       "1  0.22  0.2727  0.80        0.0       8          32   40  \n",
       "2  0.22  0.2727  0.80        0.0       5          27   32  \n",
       "3  0.24  0.2879  0.75        0.0       3          10   13  \n",
       "4  0.24  0.2879  0.75        0.0       0           1    1  "
      ]
     },
     "execution_count": 25,
     "metadata": {},
     "output_type": "execute_result"
    }
   ],
   "source": [
    "train_data.head()"
   ]
  },
  {
   "cell_type": "code",
   "execution_count": 26,
   "id": "991728e2-8dc6-4926-9ac1-b1eec388b722",
   "metadata": {
    "collapsed": true,
    "jupyter": {
     "outputs_hidden": true
    },
    "tags": []
   },
   "outputs": [
    {
     "data": {
      "text/html": [
       "<div>\n",
       "<style scoped>\n",
       "    .dataframe tbody tr th:only-of-type {\n",
       "        vertical-align: middle;\n",
       "    }\n",
       "\n",
       "    .dataframe tbody tr th {\n",
       "        vertical-align: top;\n",
       "    }\n",
       "\n",
       "    .dataframe thead th {\n",
       "        text-align: right;\n",
       "    }\n",
       "</style>\n",
       "<table border=\"1\" class=\"dataframe\">\n",
       "  <thead>\n",
       "    <tr style=\"text-align: right;\">\n",
       "      <th>workingday</th>\n",
       "      <th>0</th>\n",
       "      <th>1</th>\n",
       "    </tr>\n",
       "    <tr>\n",
       "      <th>hr</th>\n",
       "      <th></th>\n",
       "      <th></th>\n",
       "    </tr>\n",
       "  </thead>\n",
       "  <tbody>\n",
       "    <tr>\n",
       "      <th>0</th>\n",
       "      <td>80.0</td>\n",
       "      <td>32.0</td>\n",
       "    </tr>\n",
       "    <tr>\n",
       "      <th>1</th>\n",
       "      <td>60.0</td>\n",
       "      <td>15.0</td>\n",
       "    </tr>\n",
       "    <tr>\n",
       "      <th>2</th>\n",
       "      <td>47.0</td>\n",
       "      <td>8.0</td>\n",
       "    </tr>\n",
       "    <tr>\n",
       "      <th>3</th>\n",
       "      <td>23.0</td>\n",
       "      <td>5.0</td>\n",
       "    </tr>\n",
       "    <tr>\n",
       "      <th>4</th>\n",
       "      <td>7.0</td>\n",
       "      <td>5.0</td>\n",
       "    </tr>\n",
       "    <tr>\n",
       "      <th>5</th>\n",
       "      <td>8.0</td>\n",
       "      <td>21.0</td>\n",
       "    </tr>\n",
       "    <tr>\n",
       "      <th>6</th>\n",
       "      <td>17.0</td>\n",
       "      <td>89.0</td>\n",
       "    </tr>\n",
       "    <tr>\n",
       "      <th>7</th>\n",
       "      <td>38.0</td>\n",
       "      <td>252.0</td>\n",
       "    </tr>\n",
       "    <tr>\n",
       "      <th>8</th>\n",
       "      <td>92.0</td>\n",
       "      <td>418.0</td>\n",
       "    </tr>\n",
       "    <tr>\n",
       "      <th>9</th>\n",
       "      <td>150.0</td>\n",
       "      <td>215.0</td>\n",
       "    </tr>\n",
       "    <tr>\n",
       "      <th>10</th>\n",
       "      <td>227.0</td>\n",
       "      <td>118.0</td>\n",
       "    </tr>\n",
       "    <tr>\n",
       "      <th>11</th>\n",
       "      <td>280.0</td>\n",
       "      <td>138.0</td>\n",
       "    </tr>\n",
       "    <tr>\n",
       "      <th>12</th>\n",
       "      <td>326.0</td>\n",
       "      <td>174.0</td>\n",
       "    </tr>\n",
       "    <tr>\n",
       "      <th>13</th>\n",
       "      <td>335.0</td>\n",
       "      <td>174.0</td>\n",
       "    </tr>\n",
       "    <tr>\n",
       "      <th>14</th>\n",
       "      <td>329.0</td>\n",
       "      <td>160.0</td>\n",
       "    </tr>\n",
       "    <tr>\n",
       "      <th>15</th>\n",
       "      <td>327.0</td>\n",
       "      <td>173.0</td>\n",
       "    </tr>\n",
       "    <tr>\n",
       "      <th>16</th>\n",
       "      <td>322.0</td>\n",
       "      <td>252.0</td>\n",
       "    </tr>\n",
       "    <tr>\n",
       "      <th>17</th>\n",
       "      <td>296.0</td>\n",
       "      <td>462.0</td>\n",
       "    </tr>\n",
       "    <tr>\n",
       "      <th>18</th>\n",
       "      <td>261.0</td>\n",
       "      <td>435.0</td>\n",
       "    </tr>\n",
       "    <tr>\n",
       "      <th>19</th>\n",
       "      <td>215.0</td>\n",
       "      <td>307.0</td>\n",
       "    </tr>\n",
       "    <tr>\n",
       "      <th>20</th>\n",
       "      <td>161.0</td>\n",
       "      <td>221.0</td>\n",
       "    </tr>\n",
       "    <tr>\n",
       "      <th>21</th>\n",
       "      <td>129.0</td>\n",
       "      <td>167.0</td>\n",
       "    </tr>\n",
       "    <tr>\n",
       "      <th>22</th>\n",
       "      <td>106.0</td>\n",
       "      <td>124.0</td>\n",
       "    </tr>\n",
       "    <tr>\n",
       "      <th>23</th>\n",
       "      <td>78.0</td>\n",
       "      <td>77.0</td>\n",
       "    </tr>\n",
       "  </tbody>\n",
       "</table>\n",
       "</div>"
      ],
      "text/plain": [
       "workingday      0      1\n",
       "hr                      \n",
       "0            80.0   32.0\n",
       "1            60.0   15.0\n",
       "2            47.0    8.0\n",
       "3            23.0    5.0\n",
       "4             7.0    5.0\n",
       "5             8.0   21.0\n",
       "6            17.0   89.0\n",
       "7            38.0  252.0\n",
       "8            92.0  418.0\n",
       "9           150.0  215.0\n",
       "10          227.0  118.0\n",
       "11          280.0  138.0\n",
       "12          326.0  174.0\n",
       "13          335.0  174.0\n",
       "14          329.0  160.0\n",
       "15          327.0  173.0\n",
       "16          322.0  252.0\n",
       "17          296.0  462.0\n",
       "18          261.0  435.0\n",
       "19          215.0  307.0\n",
       "20          161.0  221.0\n",
       "21          129.0  167.0\n",
       "22          106.0  124.0\n",
       "23           78.0   77.0"
      ]
     },
     "execution_count": 26,
     "metadata": {},
     "output_type": "execute_result"
    }
   ],
   "source": [
    "# Average number of bikes rented hourly on a working and a non-workingday\n",
    "\n",
    "tbl = train_data.pivot_table(columns = 'workingday', index = 'hr', values = 'cnt', aggfunc = 'mean')\n",
    "tbl = round(tbl)\n",
    "tbl\n",
    "\n",
    "# col of table = the categories of workingday\n",
    "# rows of the tables = index === hr \n",
    "# data in the table is aggfunc applied to the 'cnt' col === mean(cnt)\n"
   ]
  },
  {
   "cell_type": "code",
   "execution_count": 28,
   "id": "4543faf6-9217-486c-9fd2-249195b110b7",
   "metadata": {},
   "outputs": [
    {
     "data": {
      "text/plain": [
       "<Figure size 864x432 with 0 Axes>"
      ]
     },
     "metadata": {},
     "output_type": "display_data"
    },
    {
     "data": {
      "image/png": "[encoded data removed]",
      "text/plain": [
       "<Figure size 432x288 with 1 Axes>"
      ]
     },
     "metadata": {
      "needs_background": "light"
     },
     "output_type": "display_data"
    }
   ],
   "source": [
    "plt.figure(figsize=(12,6))\n",
    "tbl.plot(kind = 'bar', stacked = True);"
   ]
  },
  {
   "cell_type": "markdown",
   "id": "2a55adea-6bba-49ef-b536-e903941416b2",
   "metadata": {},
   "source": [
    "##### Shows us hourly distribution of count of rented bikes. \n",
    "- In the hours 0-6, when people will be sleeping, we have low amount of rented bikes. \n",
    "- Around 7th to 9th hour and 17th to 19th hour, we see a hike in the number of biked rented. This would be the hours when people go and come back from work on a working day."
   ]
  },
  {
   "cell_type": "code",
   "execution_count": null,
   "id": "31612bf2-d990-48b3-baea-7021745d709c",
   "metadata": {},
   "outputs": [],
   "source": []
  },
  {
   "cell_type": "code",
   "execution_count": null,
   "id": "4db0e139-0354-4001-8291-75ead212d7e1",
   "metadata": {},
   "outputs": [],
   "source": []
  }
 ],
 "metadata": {
  "kernelspec": {
   "display_name": "Python 3 (ipykernel)",
   "language": "python",
   "name": "python3"
  },
  "language_info": {
   "codemirror_mode": {
    "name": "ipython",
    "version": 3
   },
   "file_extension": ".py",
   "mimetype": "text/x-python",
   "name": "python",
   "nbconvert_exporter": "python",
   "pygments_lexer": "ipython3",
   "version": "3.9.12"
  }
 },
 "nbformat": 4,
 "nbformat_minor": 5
}
