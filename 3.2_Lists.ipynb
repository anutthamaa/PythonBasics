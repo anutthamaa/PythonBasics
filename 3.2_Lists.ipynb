{
 "cells": [
  {
   "cell_type": "code",
   "execution_count": 2,
   "id": "1a9c982b",
   "metadata": {},
   "outputs": [
    {
     "data": {
      "text/plain": [
       "['Anu', 32, 1990]"
      ]
     },
     "execution_count": 2,
     "metadata": {},
     "output_type": "execute_result"
    }
   ],
   "source": [
    "#creates a list\n",
    "List=[\"Anu\",32,1990]\n",
    "List"
   ]
  },
  {
   "cell_type": "code",
   "execution_count": 4,
   "id": "7d63961a",
   "metadata": {},
   "outputs": [
    {
     "name": "stdout",
     "output_type": "stream",
     "text": [
      "the same element using negative and positive indexing:\n",
      " Postive: Anu \n",
      " Negative: Anu\n",
      "the same element using negative and positive indexing:\n",
      " Postive: 32 \n",
      " Negative: 32\n",
      "the same element using negative and positive indexing:\n",
      " Postive: 1990 \n",
      " Negative: 1990\n"
     ]
    }
   ],
   "source": [
    "#printing the elements in list using +ve and -ve indexing\n",
    "print('the same element using negative and positive indexing:\\n Postive:',List[0],\n",
    "'\\n Negative:' , List[-3]  )\n",
    "print('the same element using negative and positive indexing:\\n Postive:',List[1],\n",
    "'\\n Negative:' , List[-2]  )\n",
    "print('the same element using negative and positive indexing:\\n Postive:',List[2],\n",
    "'\\n Negative:' , List[-1]  )"
   ]
  },
  {
   "cell_type": "code",
   "execution_count": 8,
   "id": "e18706cc",
   "metadata": {},
   "outputs": [
    {
     "data": {
      "text/plain": [
       "['Anu', 32, 1990, 'NABA', 5]"
      ]
     },
     "execution_count": 8,
     "metadata": {},
     "output_type": "execute_result"
    }
   ],
   "source": [
    "#concatenating the list\n",
    "newList=[\"NABA\",5]\n",
    "List=List+newList\n",
    "List"
   ]
  },
  {
   "cell_type": "code",
   "execution_count": 10,
   "id": "b550b1d6",
   "metadata": {},
   "outputs": [
    {
     "data": {
      "text/plain": [
       "[1990, 'NABA', 5]"
      ]
     },
     "execution_count": 10,
     "metadata": {},
     "output_type": "execute_result"
    }
   ],
   "source": [
    "#slicing last 3 elements from the list\n",
    "List[2:5] "
   ]
  },
  {
   "cell_type": "code",
   "execution_count": 13,
   "id": "b6a94f9d",
   "metadata": {},
   "outputs": [
    {
     "data": {
      "text/plain": [
       "['Anu', 32, 'NABA', 1990]"
      ]
     },
     "execution_count": 13,
     "metadata": {},
     "output_type": "execute_result"
    }
   ],
   "source": [
    "#extend function adds 2 new elements to the list\n",
    "L=[\"Anu\",32]\n",
    "L.extend([\"NABA\",1990]) \n",
    "L"
   ]
  },
  {
   "cell_type": "code",
   "execution_count": 14,
   "id": "235a9296",
   "metadata": {},
   "outputs": [
    {
     "data": {
      "text/plain": [
       "['Anu', 32, ['NABA', 1990]]"
      ]
     },
     "execution_count": 14,
     "metadata": {},
     "output_type": "execute_result"
    }
   ],
   "source": [
    "#append function add one new element as a list \n",
    "L=[\"Anu\",32]\n",
    "L.append([\"NABA\",1990]) \n",
    "L"
   ]
  },
  {
   "cell_type": "code",
   "execution_count": 1,
   "id": "cabeb021",
   "metadata": {},
   "outputs": [
    {
     "name": "stdout",
     "output_type": "stream",
     "text": [
      "Before changing A: ['Mango', 3]\n",
      "After Changing A: ['Strawberry', 3]\n"
     ]
    }
   ],
   "source": [
    "#Changing element based on index as lists are mutable\n",
    "A=[\"Mango\",3]\n",
    "print(\"Before changing A:\",A)\n",
    "A[0]=\"Strawberry\"\n",
    "print(\"After Changing A:\",A)"
   ]
  },
  {
   "cell_type": "code",
   "execution_count": 2,
   "id": "486f05d1",
   "metadata": {},
   "outputs": [
    {
     "name": "stdout",
     "output_type": "stream",
     "text": [
      "Before deleting: ['Strawberry', 3]\n",
      "After deleting: [3]\n"
     ]
    }
   ],
   "source": [
    "#delete function\n",
    "print(\"Before deleting:\",A)\n",
    "del(A[0])\n",
    "print(\"After deleting:\",A)"
   ]
  },
  {
   "cell_type": "code",
   "execution_count": 20,
   "id": "c63c87b6",
   "metadata": {},
   "outputs": [
    {
     "data": {
      "text/plain": [
       "['Pizza', 'Bakery']"
      ]
     },
     "execution_count": 20,
     "metadata": {},
     "output_type": "execute_result"
    }
   ],
   "source": [
    "\"Pizza Bakery\".split() #splits the string by default space and returns as a list"
   ]
  },
  {
   "cell_type": "code",
   "execution_count": 22,
   "id": "2501c257",
   "metadata": {},
   "outputs": [
    {
     "data": {
      "text/plain": [
       "['A', 'B', 'C', 'D']"
      ]
     },
     "execution_count": 22,
     "metadata": {},
     "output_type": "execute_result"
    }
   ],
   "source": [
    "\"A,B,C,D\".split(\",\") #splits the string by commas(delimiter) and returns as a list"
   ]
  },
  {
   "cell_type": "code",
   "execution_count": 4,
   "id": "511e0262",
   "metadata": {},
   "outputs": [
    {
     "data": {
      "text/plain": [
       "['Apple', 1, 10.1]"
      ]
     },
     "execution_count": 4,
     "metadata": {},
     "output_type": "execute_result"
    }
   ],
   "source": [
    "#creating a new list and assigning to another variable to create a copy of it\n",
    "A=[\"Apple\",1,10.1]\n",
    "B=A\n",
    "B"
   ]
  },
  {
   "cell_type": "code",
   "execution_count": 5,
   "id": "ee2e1801",
   "metadata": {},
   "outputs": [
    {
     "name": "stdout",
     "output_type": "stream",
     "text": [
      "Before changing: ['Apple', 1, 10.1]\n",
      "After changing: ['Mango', 1, 10.1]\n"
     ]
    }
   ],
   "source": [
    "#changing the value of element in list A changes the value in list B\n",
    "print(\"Before changing:\",B)\n",
    "A[0]=\"Mango\"\n",
    "print(\"After changing:\",B)"
   ]
  },
  {
   "cell_type": "code",
   "execution_count": 6,
   "id": "d28051b7",
   "metadata": {},
   "outputs": [
    {
     "name": "stdout",
     "output_type": "stream",
     "text": [
      "Before changing: ['Mango', 1, 10.1]\n",
      "After changing: ['Mango', 1, 10.1]\n",
      "Newly changed list of list A: ['Strawberry', 1, 10.1]\n"
     ]
    }
   ],
   "source": [
    "#cloning does not changes the List B as both list A and B pointing to diff memory locations\n",
    "B=A[:]\n",
    "print(\"Before changing:\", B)\n",
    "A[0]=\"Strawberry\"\n",
    "print(\"After changing:\",B) #list remains unchanged because of cloning\n",
    "print(\"Newly changed list of list A:\",A)"
   ]
  },
  {
   "cell_type": "code",
   "execution_count": 27,
   "id": "1c16c06d",
   "metadata": {},
   "outputs": [
    {
     "data": {
      "text/plain": [
       "'hello'"
      ]
     },
     "execution_count": 27,
     "metadata": {},
     "output_type": "execute_result"
    }
   ],
   "source": [
    "#accessing the second element in the list using its index\n",
    "a_List=[1,\"hello\",[1,2,3],True]\n",
    "a_List[1]"
   ]
  },
  {
   "cell_type": "code",
   "execution_count": 28,
   "id": "346dcf7a",
   "metadata": {},
   "outputs": [
    {
     "data": {
      "text/plain": [
       "['hello', [1, 2, 3], True]"
      ]
     },
     "execution_count": 28,
     "metadata": {},
     "output_type": "execute_result"
    }
   ],
   "source": [
    "#slicing the index\n",
    "a_List[1:4]"
   ]
  },
  {
   "cell_type": "code",
   "execution_count": 30,
   "id": "cdd2caed",
   "metadata": {},
   "outputs": [
    {
     "data": {
      "text/plain": [
       "[1, 'a', 2, 1, 'd']"
      ]
     },
     "execution_count": 30,
     "metadata": {},
     "output_type": "execute_result"
    }
   ],
   "source": [
    "#concatenating 2 lists\n",
    "A1=[1,'a']\n",
    "A2=[2,1,'d']\n",
    "A1=A1+A2\n",
    "A1"
   ]
  },
  {
   "cell_type": "code",
   "execution_count": 5,
   "id": "7013c018",
   "metadata": {},
   "outputs": [
    {
     "ename": "SyntaxError",
     "evalue": "invalid syntax (1232080324.py, line 2)",
     "output_type": "error",
     "traceback": [
      "\u001b[1;36m  Input \u001b[1;32mIn [5]\u001b[1;36m\u001b[0m\n\u001b[1;33m    l1(-1:2:2)\u001b[0m\n\u001b[1;37m         ^\u001b[0m\n\u001b[1;31mSyntaxError\u001b[0m\u001b[1;31m:\u001b[0m invalid syntax\n"
     ]
    }
   ],
   "source": [
    "l1 = [1,2,3,4,5,6,7,8]\n",
    "l1[-1:2:2]"
   ]
  },
  {
   "cell_type": "code",
   "execution_count": 24,
   "id": "e102a8c5-215f-46fc-9e08-3493a90ec7be",
   "metadata": {},
   "outputs": [
    {
     "data": {
      "text/plain": [
       "[5, 6, 7]"
      ]
     },
     "execution_count": 24,
     "metadata": {},
     "output_type": "execute_result"
    }
   ],
   "source": [
    "l1[-4:-1]"
   ]
  },
  {
   "cell_type": "code",
   "execution_count": 26,
   "id": "e22e2131-653c-4c36-bd55-31b0daecfa18",
   "metadata": {},
   "outputs": [
    {
     "ename": "AttributeError",
     "evalue": "'tuple' object has no attribute 'append'",
     "output_type": "error",
     "traceback": [
      "\u001b[1;31m---------------------------------------------------------------------------\u001b[0m",
      "\u001b[1;31mAttributeError\u001b[0m                            Traceback (most recent call last)",
      "Input \u001b[1;32mIn [26]\u001b[0m, in \u001b[0;36m<cell line: 2>\u001b[1;34m()\u001b[0m\n\u001b[0;32m      1\u001b[0m t1\u001b[38;5;241m=\u001b[39m(\u001b[38;5;241m1\u001b[39m,\u001b[38;5;241m2\u001b[39m,\u001b[38;5;241m3\u001b[39m)\n\u001b[1;32m----> 2\u001b[0m \u001b[43mt1\u001b[49m\u001b[38;5;241;43m.\u001b[39;49m\u001b[43mappend\u001b[49m(\u001b[38;5;241m4\u001b[39m)\n",
      "\u001b[1;31mAttributeError\u001b[0m: 'tuple' object has no attribute 'append'"
     ]
    }
   ],
   "source": [
    "t1=(1,2,3)\n",
    "t1.append(4)"
   ]
  },
  {
   "cell_type": "code",
   "execution_count": 27,
   "id": "30fcb3c1-0685-4194-b6ec-7b8596967bd8",
   "metadata": {},
   "outputs": [
    {
     "data": {
      "text/plain": [
       "{1, 2}"
      ]
     },
     "execution_count": 27,
     "metadata": {},
     "output_type": "execute_result"
    }
   ],
   "source": [
    "s1={1,2,2}\n",
    "s1"
   ]
  },
  {
   "cell_type": "code",
   "execution_count": 34,
   "id": "b4576d97-364b-483d-80d1-7039308588f0",
   "metadata": {},
   "outputs": [
    {
     "data": {
      "text/plain": [
       "array('i', [1, 2, 3, 4])"
      ]
     },
     "execution_count": 34,
     "metadata": {},
     "output_type": "execute_result"
    }
   ],
   "source": [
    "import array as arr\n",
    "a1 = arr.array('i',[1,2,3,4])\n",
    "a1"
   ]
  },
  {
   "cell_type": "code",
   "execution_count": 79,
   "id": "c9d1d3a4-cce2-4f23-aa88-b194070563b5",
   "metadata": {},
   "outputs": [
    {
     "data": {
      "text/plain": [
       "array('i', [4, 3, 2, 1])"
      ]
     },
     "execution_count": 79,
     "metadata": {},
     "output_type": "execute_result"
    }
   ],
   "source": [
    "a1[::-1]"
   ]
  },
  {
   "cell_type": "code",
   "execution_count": 80,
   "id": "83ef4db1-76e3-4cb8-b15f-030b607dbfcd",
   "metadata": {},
   "outputs": [
    {
     "data": {
      "text/plain": [
       "array('i', [1, 2, 3, 4])"
      ]
     },
     "execution_count": 80,
     "metadata": {},
     "output_type": "execute_result"
    }
   ],
   "source": [
    "a1"
   ]
  },
  {
   "cell_type": "code",
   "execution_count": 99,
   "id": "afe5dc09-e93a-4d3f-9aab-790d0d5c499f",
   "metadata": {},
   "outputs": [
    {
     "name": "stdout",
     "output_type": "stream",
     "text": [
      "Hi abc\n"
     ]
    }
   ],
   "source": [
    "class employee():\n",
    "    def __init__ (self,name,age):\n",
    "        self.name = name\n",
    "        self.age = age\n",
    "        \n",
    "    def printName(self):\n",
    "        print('Hi',self.name)\n",
    "\n",
    "e1 = employee('abc',23)\n",
    "e1.name\n",
    "e1.age\n",
    "e1.printName()"
   ]
  },
  {
   "cell_type": "code",
   "execution_count": 103,
   "id": "9a18163b-6498-4ff5-875e-c9de97510564",
   "metadata": {},
   "outputs": [
    {
     "name": "stdout",
     "output_type": "stream",
     "text": [
      "10\n"
     ]
    }
   ],
   "source": [
    "a = lambda x,y,z: x + y + z\n",
    "print(a(2,3,5))"
   ]
  },
  {
   "cell_type": "code",
   "execution_count": 69,
   "id": "4ff0f408-6edf-48fc-8244-4d0bc7f4d12f",
   "metadata": {},
   "outputs": [],
   "source": [
    "x=[i for i in range(5)]"
   ]
  },
  {
   "cell_type": "code",
   "execution_count": 70,
   "id": "4b08bc2a-3f1c-4880-8a2b-6cf5ce9160e8",
   "metadata": {},
   "outputs": [
    {
     "data": {
      "text/plain": [
       "[0, 1, 2, 3, 4]"
      ]
     },
     "execution_count": 70,
     "metadata": {},
     "output_type": "execute_result"
    }
   ],
   "source": [
    "x"
   ]
  },
  {
   "cell_type": "code",
   "execution_count": 77,
   "id": "33db0162-c4c1-4283-93a6-c1a8650abc7c",
   "metadata": {},
   "outputs": [
    {
     "name": "stdout",
     "output_type": "stream",
     "text": [
      "hi\n"
     ]
    }
   ],
   "source": [
    "def printName():\n",
    "    print('hi')\n",
    "    \n",
    "\n",
    "printName()"
   ]
  },
  {
   "cell_type": "code",
   "execution_count": 87,
   "id": "25b67fa6-9aba-4c8b-a36f-5e67741e17c2",
   "metadata": {},
   "outputs": [
    {
     "data": {
      "text/plain": [
       "['a', 'n', 'u']"
      ]
     },
     "execution_count": 87,
     "metadata": {},
     "output_type": "execute_result"
    }
   ],
   "source": [
    "s1='a n u'\n",
    "s1.split(' ')"
   ]
  },
  {
   "cell_type": "code",
   "execution_count": 107,
   "id": "3277f1e8-fb9d-49ce-a09a-f24885be323f",
   "metadata": {},
   "outputs": [
    {
     "name": "stdin",
     "output_type": "stream",
     "text": [
      "Enter the range: 3\n",
      "Enter the number: 6\n",
      "Enter the number: 1\n",
      "Enter the number: 0\n",
      "Enter the number: 9\n"
     ]
    },
    {
     "name": "stdout",
     "output_type": "stream",
     "text": [
      "[0, 1, 6, 9]\n"
     ]
    }
   ],
   "source": [
    "def bs(numList):\n",
    "    b = len(numList)\n",
    "    for x in range(b-1):\n",
    "        for y in range(b-x-1):\n",
    "            if(numList[y] > numList[y+1]):\n",
    "                numList[y],numList[y+1] = numList[y+1],numList[y]\n",
    "    print(numList)\n",
    " \n",
    "\n",
    "a = int(input('Enter the range:'))\n",
    "i = 0\n",
    "nList =[]\n",
    "while i<=a:\n",
    "    num = int(input('Enter the number:'))\n",
    "    nList.append(num)\n",
    "    i=i+1\n",
    "bs(nList)"
   ]
  },
  {
   "cell_type": "code",
   "execution_count": 109,
   "id": "e19c6e9c-5a18-4d11-85a4-3ca0fdc94a06",
   "metadata": {},
   "outputs": [
    {
     "name": "stdout",
     "output_type": "stream",
     "text": [
      "18 is not a prime number\n"
     ]
    }
   ],
   "source": [
    "n=18\n",
    "flag = False\n",
    "if n>1:\n",
    "    for i in range(2,n):\n",
    "        if(n%i==0):\n",
    "            flag=True;\n",
    "            break;\n",
    "            \n",
    "if flag:\n",
    "    print(n,'is not a prime number')\n",
    "else:\n",
    "    print(n,'is a prime number')"
   ]
  },
  {
   "cell_type": "code",
   "execution_count": null,
   "id": "8aa848d9-d472-404e-9737-c856da83d880",
   "metadata": {},
   "outputs": [],
   "source": []
  }
 ],
 "metadata": {
  "kernelspec": {
   "display_name": "Python 3 (ipykernel)",
   "language": "python",
   "name": "python3"
  },
  "language_info": {
   "codemirror_mode": {
    "name": "ipython",
    "version": 3
   },
   "file_extension": ".py",
   "mimetype": "text/x-python",
   "name": "python",
   "nbconvert_exporter": "python",
   "pygments_lexer": "ipython3",
   "version": "3.9.12"
  }
 },
 "nbformat": 4,
 "nbformat_minor": 5
}
